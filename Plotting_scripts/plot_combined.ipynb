{
 "cells": [
  {
   "cell_type": "markdown",
   "id": "c06eb9ae",
   "metadata": {},
   "source": [
    "# Plots for differentiation and thermal evolution<a class=\"anchor\" id=\"top\"></a>\n",
    "[Summary statistics](#stats)\n",
    "For the whole thermal evolution:\n",
    "+ [temperature](#temp)\n",
    "+ [% silicate melted](#silicate)\n",
    "+ [Rayleigh number](#critical-rayleigh)\n",
    "+ [Stagnant lid thickness](#d0)\n",
    "+ [Combined lid thickness and Ra](#Ra-bl)\n",
    "+ [Urey ratio](#Urey)\n",
    "\n",
    "\n",
    "For differentiation stage:\n",
    "+ [% iron melted](#iron)\n",
    "\n",
    "For the thermal evolution stage:\n",
    "+ [temperatures and heat fluxes](#temp-heat)\n",
    "+ [inner core size and magnetic Reynolds number](#Rem)\n",
    "+ [magnetic field strength](#B)\n",
    "+ [dynamo duration times](#duration)"
   ]
  },
  {
   "cell_type": "markdown",
   "id": "259cb6b5",
   "metadata": {},
   "source": [
    "## Set-up"
   ]
  },
  {
   "cell_type": "code",
   "execution_count": null,
   "id": "f34b80b8",
   "metadata": {},
   "outputs": [],
   "source": [
    "#import modules\n",
    "import matplotlib.pyplot as plt\n",
    "import numpy as np\n",
    "import pandas as pd \n",
    "import sys\n",
    "sys.path.append('../')\n",
    "from load_info import load_run_info, load_run_results\n",
    "\n",
    "#scale time to Myr\n",
    "from plotting_constants import Myr, Tml, Tms"
   ]
  },
  {
   "cell_type": "markdown",
   "id": "904d4e2e",
   "metadata": {},
   "source": [
    "Choose run and whether you want to save figure"
   ]
  },
  {
   "cell_type": "code",
   "execution_count": null,
   "id": "b2ff3adf",
   "metadata": {},
   "outputs": [],
   "source": [
    "run=1\n",
    "save = False# do you want to save your figures?\n",
    "automated = False #if this run was one of an automated group\n",
    "path = '../Results_combined/' #path to files\n",
    "#path = '../Results_combined/rcmf_run2/' #path to files\n",
    "#path = '../Run_params/berlin_test4/'\n",
    "save_path = '../Plots/'\n",
    "#save_path = '../Plots/Paper_run4/'"
   ]
  },
  {
   "cell_type": "markdown",
   "id": "0ff7cc89",
   "metadata": {},
   "source": [
    "Load npz files for differentiation"
   ]
  },
  {
   "cell_type": "code",
   "execution_count": null,
   "id": "e7c70656",
   "metadata": {},
   "outputs": [],
   "source": [
    "npzfile = np.load(f'{path}run_{run}_diff.npz')\n",
    "Tdiff = npzfile['Tdiff'] \n",
    "iron = npzfile['Xfe']\n",
    "silicate_d = npzfile['Xsi']\n",
    "tdiff = npzfile['t_diff']\n",
    "Ra_d = npzfile['Ra']\n",
    "Ra_crit_d = npzfile['Ra_crit']\n",
    "d0_diff = npzfile['d0']"
   ]
  },
  {
   "cell_type": "markdown",
   "id": "f5423827",
   "metadata": {},
   "source": [
    "Load npz files for thermal evolution"
   ]
  },
  {
   "cell_type": "code",
   "execution_count": null,
   "id": "6aba2d5d",
   "metadata": {},
   "outputs": [],
   "source": [
    "npzfile = np.load(f'{path}run_{run}.npz')\n",
    "Tc= npzfile['Tc'] \n",
    "Tc_conv = npzfile['Tc_conv']\n",
    "Tcmb = npzfile['Tcmb']\n",
    "Tm_mid = npzfile['Tm_mid']\n",
    "Tm_conv = npzfile['Tm_conv']\n",
    "Tm_surf = npzfile['Tm_surf'] \n",
    "T_profile = npzfile['T_profile']\n",
    "f = npzfile['f'] \n",
    "\n",
    "t = npzfile['t'] #time in s\n",
    "Rem = npzfile['Rem'] # magnetic Reynolds number \n",
    "B = npzfile['B']/1e-6 # magnetic field strength [T] \n",
    "buoyr = npzfile['buoyr'] #compositional buoyancy flux and thermal buoyancy flux\n",
    "Flux = npzfile['Flux']\n",
    "Ra = npzfile['Ra'] \n",
    "RaH = npzfile['RaH'] \n",
    "RanoH = npzfile['RanoH'] \n",
    "Racrit = npzfile['Racrit'] \n",
    "d0 = npzfile['d0'] \n",
    "min_unstable = npzfile['min_unstable'] \n",
    "Urey = npzfile['Ur']\n",
    "Xs = npzfile['Xs']\n",
    "dl = npzfile['dl']\n",
    "dc = npzfile['dc']\n",
    "Fs = Flux[0]\n",
    "Fcmb = Flux[1]\n",
    "Fad = Flux[2]\n",
    "Frad = Flux[3]"
   ]
  },
  {
   "cell_type": "markdown",
   "id": "dcb2d2cc",
   "metadata": {},
   "source": [
    "Run Info"
   ]
  },
  {
   "cell_type": "code",
   "execution_count": null,
   "id": "a7b8eab9",
   "metadata": {},
   "outputs": [],
   "source": [
    "if automated == True:\n",
    "    r, dr, tstart, dt, viscosity = load_run_info(run,f'{path}auto_params.csv')\n",
    "else: \n",
    "    r, dr, tstart, dt, viscosity = load_run_info(run,f'{path}run_info.csv')"
   ]
  },
  {
   "cell_type": "markdown",
   "id": "327e3a63",
   "metadata": {},
   "source": [
    "Calculate silicate melt content for thermal evolution"
   ]
  },
  {
   "cell_type": "code",
   "execution_count": null,
   "id": "512773a6",
   "metadata": {},
   "outputs": [],
   "source": [
    "nmantle = int((r/dr)/2)\n",
    "silicate_t = (T_profile[:,nmantle:] - Tms)/(Tml-Tms)"
   ]
  },
  {
   "cell_type": "markdown",
   "id": "b5362334",
   "metadata": {},
   "source": [
    "Concatenate shared variables"
   ]
  },
  {
   "cell_type": "code",
   "execution_count": null,
   "id": "521674a3",
   "metadata": {},
   "outputs": [],
   "source": [
    "Tall = np.hstack((Tdiff,np.transpose(T_profile)))\n",
    "tall = np.append(tdiff,t)\n",
    "iron_all = np.hstack\n",
    "Ra_all = np.append(Ra_d,Ra)\n",
    "Ra_crit_all = np.append(Ra_crit_d,Racrit)\n",
    "d0_all = np.append(d0_diff,d0)"
   ]
  },
  {
   "cell_type": "markdown",
   "id": "1bccf142",
   "metadata": {},
   "source": [
    "Scale time, choose whether or not to plot logarithmically"
   ]
  },
  {
   "cell_type": "code",
   "execution_count": null,
   "id": "3fef51fd",
   "metadata": {},
   "outputs": [],
   "source": [
    "t_plot_all = tall/Myr\n",
    "t_plot_t = t/Myr\n",
    "log_time = True # do you want to plot time logarithmically"
   ]
  },
  {
   "cell_type": "markdown",
   "id": "d0662121",
   "metadata": {},
   "source": [
    "## Summary statistics <a class=\"anchor\" id=\"stats\"></a>\n",
    "<p align=\"right\">(<a href=\"#top\">back to top</a>)</p>"
   ]
  },
  {
   "cell_type": "code",
   "execution_count": null,
   "id": "65b5b62c",
   "metadata": {},
   "outputs": [],
   "source": [
    "results = load_run_results(run,f'{path}run_results.csv')"
   ]
  },
  {
   "cell_type": "code",
   "execution_count": null,
   "id": "475ff9df",
   "metadata": {},
   "outputs": [],
   "source": [
    "terode = results.at[0,'terode']\n",
    "tstrat_remove = results.at[0,'tstrat_remove']\n",
    "diff_time = results.at[0,'diff_time']"
   ]
  },
  {
   "cell_type": "code",
   "execution_count": null,
   "id": "d5e89f20",
   "metadata": {},
   "outputs": [],
   "source": [
    "print(f\"Differentiation is at {results.at[0,'diff_time']:.2f} Myr\")\n",
    "print(f\"The temperature at differentiation is at {results.at[0,'diff_T']:.2f}K\")\n",
    "print(f\"Peak magma ocean temp is {results.at[0,'peakT']:.0f}K at {results.at[0,'tmax']:.2f} Myr\")\n",
    "print(f\"Stratification starts at {results.at[0,'tstrat_start']:.2f} Myr\")\n",
    "print(f\"Mantle hotter than the core until {results.at[0,'tstrat_remove']:.2f} Myr\")\n",
    "print(f\"Erosion of stratification by {results.at[0,'terode']:.2f} Myr\") \n",
    "print(f\"End of mantle convection by {results.at[0,'fcond_t']:.2f} Myr\")\n",
    "print(f\"The maximum thermal Rem is {results.at[0,'max_Rtherm']:.2f} at {results.at[0,'max_Rtherm']:.2f} Myr\")\n",
    "print(f\"The maximum thermal field strength is {results.at[0,'max_Btherm']:.2e} T at {results.at[0,'max_Bthermt']:.2f} Myr\")\n",
    "print(f\"The maximum compositional Rem is {results.at[0,'max_Rcomp']:.2f}\")\n",
    "print(f\"The maximum compositional field strength is {results.at[0,'max_Bcomp']:.2e}\")"
   ]
  },
  {
   "cell_type": "code",
   "execution_count": null,
   "id": "a0a5a7be",
   "metadata": {},
   "outputs": [],
   "source": [
    "peak_coreT = np.amax(Tall[:nmantle,:])\n",
    "loc_max = np.where(Tall[:nmantle,:]==peak_coreT)[1][0] #take the set of time coordinates and first value (they should all be the same)\n",
    "tcoremax = tall[loc_max]/Myr\n",
    "fcond_t = results.at[0,'fcond_t']\n",
    "diff_T =results.at[0,'diff_T']"
   ]
  },
  {
   "cell_type": "code",
   "execution_count": null,
   "id": "7f619df2",
   "metadata": {},
   "outputs": [],
   "source": [
    "print(f'The peak core temperature is {peak_coreT:.0f}K at {tcoremax:.1f}Myr')"
   ]
  },
  {
   "cell_type": "markdown",
   "id": "51da5967",
   "metadata": {},
   "source": [
    "On and off times for the dynamo"
   ]
  },
  {
   "cell_type": "code",
   "execution_count": null,
   "id": "117e9ca4",
   "metadata": {},
   "outputs": [],
   "source": [
    "var_results = pd.read_csv(path+'run_results.csv',skiprows=[1])\n",
    "on1=var_results.loc[var_results['run']==run,'magon_1'].values[0]\n",
    "off1=var_results.loc[var_results['run']==run,'magoff_1'].values[0]\n",
    "on2=var_results.loc[var_results['run']==run,'magon_2'].values[0]\n",
    "off2=var_results.loc[var_results['run']==run,'magoff_2'].values[0]\n",
    "on3=var_results.loc[var_results['run']==run,'magon_3'].values[0]\n",
    "off3=var_results.loc[var_results['run']==run,'magoff_3'].values[0]"
   ]
  },
  {
   "cell_type": "markdown",
   "id": "7b9cdcef",
   "metadata": {},
   "source": [
    "## Temperature <a class=\"anchor\" id=\"temp\"></a>\n",
    "<p align=\"right\">(<a href=\"#top\">back to top</a>)</p>"
   ]
  },
  {
   "cell_type": "code",
   "execution_count": null,
   "id": "c7d2fe87",
   "metadata": {},
   "outputs": [],
   "source": [
    "import matplotlib.colors as mcolors"
   ]
  },
  {
   "cell_type": "code",
   "execution_count": null,
   "id": "e9176001",
   "metadata": {},
   "outputs": [],
   "source": [
    "rplot = np.arange(0,int(r)+dr,int(dr))/1e3"
   ]
  },
  {
   "cell_type": "code",
   "execution_count": null,
   "id": "00b96a7d",
   "metadata": {},
   "outputs": [],
   "source": [
    "r_unstable=np.array([]) \n",
    "for ind in min_unstable:\n",
    "    r_unstable = np.append(r_unstable,rplot[int(ind)])\n",
    "rc = r/2"
   ]
  },
  {
   "cell_type": "code",
   "execution_count": null,
   "id": "cc27a3cf",
   "metadata": {},
   "outputs": [],
   "source": [
    "plt.figure(rasterized=True,figsize=[15,10])\n",
    "plt.pcolormesh(t_plot_all[::2],rplot[::2],Tall[::2,::2],shading = 'gouraud',vmin=200,vmax=1600)\n",
    "#plt.pcolormesh(t_plot_all,rplot,Tall,shading = 'gouraud',vmin=200,vmax=1650)\n",
    "plt.hlines(rc/1e3,t_plot_t[0],max(t_plot_all),linestyle='--',color='black',label='CMB')\n",
    "plt.vlines(t_plot_t[0],0,r/1e3,linestyle='-.',label='Differentiation')\n",
    "plt.fill_betweenx([0,rc/5e3],on1,off1,alpha=0,hatch='/',label='dynamo on')\n",
    "plt.plot(t_plot_t,r_unstable,linestyle='dotted',label='Convecting core')\n",
    "if on2 > 0:\n",
    "    plt.fill_betweenx([0,rc/5e3],on2,off2,alpha=0,hatch='/')\n",
    "if on3 > 0: \n",
    "    plt.fill_betweenx([0,rc/5e3],on3,off3,alpha=0,hatch='/')\n",
    "\n",
    "if np.any(t_plot_t<fcond_t):\n",
    "    plt.plot(t_plot_t[(t_plot_t<=fcond_t)&(d0<(r-rc))],(r-d0[(t_plot_t<=fcond_t)&(d0<(r-rc))])/1e3,linestyle='dashed',label='base of $\\delta_0$',color='blue')\n",
    "    plt.plot(t_plot_t[(t_plot_t<=fcond_t)&(r_unstable==0)][1:],(rc+dl[(t_plot_t<=fcond_t)&(r_unstable==0)][1:])/1e3,linestyle='dotted',label='top of $\\delta_l$',color='blue')\n",
    "    plt.vlines(t_plot_t[t_plot_t<=fcond_t][-1],r/1e3,rc/1e3,linestyle='dotted',label='conductive mantle',color='red')\n",
    "else:\n",
    "    plt.plot(t_plot_t,(r-d0)/1e3,linestyle='dashed',label='base of $\\delta_0$',color='blue')\n",
    "    #plt.plot(t_plot_t[r_unstable==0][1:],(rc+dl)[r_unstable==0][1:]/1e3,linestyle='dotted',label='top of $\\delta_l$',color='blue')\n",
    "    plt.plot(t_plot_t,(rc+dl)/1e3,linestyle='dotted',label='top of $\\delta_l$',color='blue')\n",
    "#plt.vlines(t[f<0.999000][0]/Myr,0/1e3,rc/1e3,linestyle='dotted',label='beginning of core solidification',color='black')\n",
    "#labels and limits\n",
    "plt.ylabel('r /km')\n",
    "plt.xlabel('t / Myr')\n",
    "plt.colorbar(label='T/K')\n",
    "plt.title(f\"Run {run}\")\n",
    "plt.xscale('log')\n",
    "plt.legend(bbox_to_anchor=[1.4,0.5])\n",
    "if save == True:\n",
    "    plt.savefig(f'{save_path}thermal_profile_{run}.png',bbox_inches='tight')"
   ]
  },
  {
   "cell_type": "markdown",
   "id": "55b61e4a",
   "metadata": {},
   "source": [
    "Single temperature profile (choose the time of interest)"
   ]
  },
  {
   "cell_type": "code",
   "execution_count": null,
   "id": "dc6289fe",
   "metadata": {},
   "outputs": [],
   "source": [
    "plt.scatter(t_plot_t,Tcmb-T_profile[:,nmantle+1],label='CMB-mantle temp')\n",
    "plt.xlabel('Time/Myr')\n",
    "plt.ylabel('Tcmb-Tm/K')"
   ]
  },
  {
   "cell_type": "code",
   "execution_count": null,
   "id": "62865acf",
   "metadata": {},
   "outputs": [],
   "source": [
    "plt.scatter(t_plot_t[:5],Tcmb[:5],label='CMB')\n",
    "plt.scatter(t_plot_t[:5],T_profile[:5,nmantle-1],label='core')\n",
    "plt.scatter(t_plot_t[:5],T_profile[:5,nmantle+1],label='mantle')\n",
    "plt.legend()"
   ]
  },
  {
   "cell_type": "code",
   "execution_count": null,
   "id": "eaa386eb",
   "metadata": {},
   "outputs": [],
   "source": [
    "colors = ['black','darkblue','blue','royalblue','cornflowerblue','paleturquoise','salmon','maroon','saddlebrown','chocolate','orange','tan','olive','olivedrab','yellowgreen','darkolivegreen']\n",
    "for i in range(3):\n",
    "    plt.scatter(T_profile[i,:],rplot,label=f'{0.01*(i+1)} post diff',s=5,color=colors[i])\n",
    "plt.scatter(Tdiff[:,-1],rplot,label='pre diff',s=5)\n",
    "plt.ylabel('Distance from centre/km')\n",
    "plt.xlabel('Temperature/K')\n",
    "plt.legend(loc='lower left')\n",
    "#plt.ylim([rc/1e3,r/1e3])\n",
    "plt.xlim([1570,1582])"
   ]
  },
  {
   "cell_type": "markdown",
   "id": "5b0bd8d7",
   "metadata": {},
   "source": [
    "## Melted silicate content <a class=\"anchor\" id=\"silicate\"></a>\n",
    "<p align=\"right\">(<a href=\"#top\">back to top</a>)</p>"
   ]
  },
  {
   "cell_type": "code",
   "execution_count": null,
   "id": "4e0b4648",
   "metadata": {},
   "outputs": [],
   "source": [
    "plt.figure()\n",
    "plt.pcolormesh(tdiff/Myr, rplot,silicate_d,shading = 'gouraud',vmin=0,vmax=0.2) # use same vmin and vmax as other plots to make them comparable\n",
    "#plt.yscale('log')\n",
    "plt.ylabel('r /km')\n",
    "plt.xlabel('t / Myr')\n",
    "#plt.ylim([0,400])\n",
    "plt.title(f'Run {run} - during differentiation')\n",
    "plt.colorbar(label='proportion of silicate melted')\n",
    "if save ==True:\n",
    "    plt.savefig(f'{save_path}si_diff_run_{run}.png')"
   ]
  },
  {
   "cell_type": "code",
   "execution_count": null,
   "id": "916dec84",
   "metadata": {},
   "outputs": [],
   "source": [
    "rmantle = np.arange(int(r/2),int(r+dr),int(dr))/1e3\n",
    "plt.figure()\n",
    "plt.pcolormesh(t/Myr, rmantle,np.transpose(silicate_t),shading = 'gouraud',vmin=0, vmax=1) # use same vmin and vmax as other plots to make them comparable\n",
    "plt.xscale('log')\n",
    "plt.ylabel('r /km')\n",
    "plt.xlabel('t / Myr')\n",
    "#plt.ylim([0,400])\n",
    "plt.title(f'Run {run} - after differentiation')\n",
    "plt.colorbar(label='proportion of silicate melted')\n",
    "if save ==True:\n",
    "    plt.savefig(f'{save_path}si_therm_run_{run}.png')"
   ]
  },
  {
   "cell_type": "markdown",
   "id": "2da8b78b",
   "metadata": {},
   "source": [
    "## Rayleigh number<a class=\"anchor\" id=\"critical-rayleigh\"></a>\n",
    "<p align=\"right\">(<a href=\"#top\">back to top</a>)</p>"
   ]
  },
  {
   "cell_type": "markdown",
   "id": "0ade663d",
   "metadata": {},
   "source": [
    "Blue scatter points are where Ra is less than 50% of critical. Orange points are where it is more than 110% of critical."
   ]
  },
  {
   "cell_type": "code",
   "execution_count": null,
   "id": "4977448f",
   "metadata": {},
   "outputs": [],
   "source": [
    "plt.figure()\n",
    "plt.plot(tdiff/Myr,Ra_d,color='navy')\n",
    "plt.plot(t[t_plot_t<fcond_t]/Myr,RaH[t_plot_t<fcond_t],label='$Ra_H$',color='seagreen')\n",
    "plt.plot(t[t_plot_t<fcond_t]/Myr,RanoH[t_plot_t<fcond_t],label='Ra',color='cornflowerblue')\n",
    "plt.plot(t_plot_all[t_plot_all<fcond_t],Ra_crit_all[t_plot_all<fcond_t],label='$Ra_c$',linestyle='dashed',color='black') \n",
    "plt.plot(t_plot_all[t_plot_all<fcond_t],Ra_all[t_plot_all<fcond_t],label='model Ra',color='navy') \n",
    "plt.scatter(t_plot_all[Ra_all/Ra_crit_all<0.5],Ra_all[Ra_all/Ra_crit_all<0.5])\n",
    "plt.scatter(t_plot_all[Ra_all/Ra_crit_all>1.1],Ra_all[Ra_all/Ra_crit_all>1.1])\n",
    "plt.ylim(bottom=1e0)#,top=1e8)\n",
    "#plt.xlim([min(tall/Myr),5])\n",
    "#plt.vlines(tdiff[-1]/Myr,1e3,1e18,linestyle='dotted',color='blue',label='differentiation')\n",
    "#if conduction == True:\n",
    "    #plt.vlines(cond_t,1e3,1e18,linestyle='dashed',color='k',label='conduction')\n",
    "    #plt.xlim([min(tall/Myr),cond_t])\n",
    "plt.ylabel('Ra')\n",
    "#plt.xscale('log')\n",
    "plt.yscale('log')\n",
    "plt.xlabel('t / Myr')\n",
    "#plt.xlim([0,100])\n",
    "plt.ylim([1e4,1e12])\n",
    "plt.title(f'Run {run}')\n",
    "plt.legend()\n",
    "#if save == True:\n",
    "#plt.savefig(f'{save_path}Ra_run{run}.png')"
   ]
  },
  {
   "cell_type": "code",
   "execution_count": null,
   "id": "32a7b9a3",
   "metadata": {},
   "outputs": [],
   "source": [
    "plt.figure(tight_layout=True)\n",
    "plt.subplot(2,1,1)\n",
    "plt.semilogy(t_plot_all[d0_all<r],Ra_crit_all[d0_all<r],label='Ra crit') \n",
    "plt.semilogy(t_plot_all[d0_all<r],Ra_all[d0_all<r],label='Ra') \n",
    "plt.ylim(bottom=1e0)\n",
    "#plt.xlim([min(tall/Myr),30])\n",
    "plt.vlines(tdiff[-1]/Myr,1e3,1e25,linestyle='dotted',color='blue',label='differentiation')\n",
    "plt.ylabel('Ra')\n",
    "plt.xscale('log')\n",
    "plt.xlabel('t / Myr')\n",
    "plt.legend()\n",
    "plt.subplot(2,1,2)\n",
    "plt.plot(t_plot_all[d0_all<r],(Tall[int(nmantle/2),d0_all<r]-1400)/400)\n",
    "plt.vlines(tdiff[-1]/Myr,0,0.8,linestyle='dotted',color='blue',label='differentiation')\n",
    "#plt.xlim([min(tall/Myr),30])\n",
    "plt.ylim([0.1,0.8])\n",
    "plt.xscale('log')\n",
    "plt.ylabel('Mid mantle silicate melt fraction')\n",
    "plt.suptitle(f'Run {run} - Mantle convecting')\n",
    "plt.xlabel('t / Myr')\n",
    "#if save == True:\n",
    "    #plt.savefig(f'{save_path}Ra_phi_comp_run{run}.png',dpi=300)"
   ]
  },
  {
   "cell_type": "markdown",
   "id": "09bb2f99",
   "metadata": {},
   "source": [
    "## Stagnant lid thickness <a class=\"anchor\" id=\"d0\"></a>\n",
    "<p align=\"right\">(<a href=\"#top\">back to top</a>)</p>"
   ]
  },
  {
   "cell_type": "code",
   "execution_count": null,
   "id": "e8f13a59",
   "metadata": {},
   "outputs": [],
   "source": [
    "fcond_t=15"
   ]
  },
  {
   "cell_type": "code",
   "execution_count": null,
   "id": "81a8d842",
   "metadata": {},
   "outputs": [],
   "source": [
    "plt.figure()\n",
    "plt.scatter(tall[(tall/Myr)<fcond_t]/Myr,d0_all[(tall/Myr)<fcond_t]/(r-rc),label='$\\delta_0$') \n",
    "#plt.ylim(top=1e0)\n",
    "#plt.xlim([min(tall/Myr),25])\n",
    "plt.vlines(tdiff[-1]/Myr,0,1,linestyle='dotted',color='blue',label='differentiation')\n",
    "plt.hlines(1,min(tall/Myr),max(tall/Myr),linestyle='-.',color='green',label='mantle thickness')\n",
    "plt.ylabel('$\\delta_0$/Mantle thickness')\n",
    "plt.xlabel('t / Myr')\n",
    "plt.xscale('log')\n",
    "plt.yscale('log')\n",
    "plt.title(f'Run {run}')\n",
    "plt.legend()\n",
    "if save == True:\n",
    "    plt.savefig(f'{save_path}d0_run{run}.png')"
   ]
  },
  {
   "cell_type": "code",
   "execution_count": null,
   "id": "0ab93b29",
   "metadata": {},
   "outputs": [],
   "source": [
    "nlid_cells = np.round(d0/dr)\n",
    "lid_start = nmantle - nlid_cells.astype(int) - 1\n",
    "plt.scatter(t_plot_t[d0/rc<1],lid_start[d0/rc<1])"
   ]
  },
  {
   "cell_type": "code",
   "execution_count": null,
   "id": "f08b87d4",
   "metadata": {},
   "outputs": [],
   "source": [
    "lid_start = nmantle - nlid_cells.astype(int) - 1\n",
    "Tplot = np.zeros([len(t_plot_t)])\n",
    "for i,lid in enumerate(lid_start):\n",
    "    Tplot[i] = T_profile[i,lid-1]\n",
    "plt.scatter(t_plot_t[:5],Tplot[:5])"
   ]
  },
  {
   "cell_type": "markdown",
   "id": "db3b1021",
   "metadata": {},
   "source": [
    "### CMB boundary layer thickness"
   ]
  },
  {
   "cell_type": "code",
   "execution_count": null,
   "id": "c7a77869",
   "metadata": {},
   "outputs": [],
   "source": [
    "plt.figure()\n",
    "plt.plot(t_plot_t[(t_plot_t<fcond_t)&(min_unstable ==0)],dl[(t_plot_t<fcond_t)&(min_unstable ==0)]/rc,label='$\\delta_l$') \n",
    "#plt.ylim(top=1e0)\n",
    "#plt.xlim([min(tall/Myr),25])\n",
    "plt.hlines(1,min(tall/Myr),max(tall/Myr),linestyle='-.',color='green',label='mantle thickness')\n",
    "plt.hlines(dr/rc,min(tall/Myr),max(tall/Myr),linestyle='-.',color='black',label='cell thickness')\n",
    "plt.ylabel('$\\delta_l$/Mantle thickness')\n",
    "plt.xlabel('t / Myr')\n",
    "plt.xscale('log')\n",
    "plt.yscale('log')\n",
    "plt.title(f'Run {run}')\n",
    "plt.legend()\n",
    "if save == True:\n",
    "    plt.savefig(f'{save_path}dl_run{run}.png')"
   ]
  },
  {
   "cell_type": "markdown",
   "id": "14556fc2",
   "metadata": {},
   "source": [
    "### How does viscosity relate to lid thickness?"
   ]
  },
  {
   "cell_type": "code",
   "execution_count": null,
   "id": "222a7e10",
   "metadata": {},
   "outputs": [],
   "source": [
    "from viscosity_def import viscosity"
   ]
  },
  {
   "cell_type": "code",
   "execution_count": null,
   "id": "a997cbba",
   "metadata": {},
   "outputs": [],
   "source": [
    "fig, ax = plt.subplots(nrows=1,ncols=1,sharex=True)\n",
    "ax2 = ax.twinx()\n",
    "ax.scatter(t_plot_t[t_plot_t<fcond_t],viscosity(((Tm_conv+Tcmb)/2)[t_plot_t<fcond_t],'vary'),color='black',label='$\\\\eta$ ($T_m$+$T_{cmb}$)/2')\n",
    "ax.scatter(t_plot_t[t_plot_t<fcond_t],viscosity(Tm_conv[t_plot_t<fcond_t],'vary'),color='green',label='$T_m$')\n",
    "ax2.plot(t_plot_t[t_plot_t<fcond_t],dl[t_plot_t<fcond_t]/dr,linestyle='dashed')\n",
    "ax2.hlines(rc/dr,xmin=0,xmax=fcond_t,label='mantle thickness')\n",
    "ax.set_xlabel('Time/Myr')\n",
    "ax.set_xscale('log')\n",
    "ax2.set_ylabel('CMB boundary layer/cell thickness')\n",
    "ax.set_ylabel('Viscosity/Pas')\n",
    "ax.legend()\n",
    "ax2.legend()\n",
    "ax.set_yscale('log')\n",
    "#ax2.set_yscale('log')"
   ]
  },
  {
   "cell_type": "markdown",
   "id": "ba7451b7",
   "metadata": {},
   "source": [
    "### Temperature difference between mantle and CMB and lid thickness"
   ]
  },
  {
   "cell_type": "code",
   "execution_count": null,
   "id": "e9d10b60",
   "metadata": {},
   "outputs": [],
   "source": [
    "fig, ax = plt.subplots(nrows=1,ncols=1,sharex=True)\n",
    "ax.plot(t_plot_t[t_plot_t<fcond_t],(T_profile[:,nmantle+1]-Tcmb)[t_plot_t<fcond_t],label='$T_m$-$T_{CMB}$')\n",
    "ax2 = ax.twinx()\n",
    "ax2.plot(t_plot_t[t_plot_t<fcond_t],dl[t_plot_t<fcond_t]/dr,color='green',linestyle='dashed',label='lid thickness')\n",
    "ax.set_xlabel('Time/Myr')\n",
    "ax.set_ylabel('Temperature difference /K')\n",
    "ax2.set_ylabel('CMB b.l thickness/mantle thickness')\n",
    "ax.legend()\n",
    "#ax.set_ylim([-0.1,0.1])\n",
    "ax2.set_ylim([-1,2])\n",
    "ax.set_xscale('log')\n",
    "#ax.set_xlim([1,5])"
   ]
  },
  {
   "cell_type": "markdown",
   "id": "69842acf",
   "metadata": {},
   "source": [
    "Temperature difference between CMB, mantle and surface"
   ]
  },
  {
   "cell_type": "code",
   "execution_count": null,
   "id": "e964ab6b",
   "metadata": {},
   "outputs": [],
   "source": [
    "fig, ax = plt.subplots(nrows=1,ncols=1,sharex=True)\n",
    "ax.scatter(t_plot_t[t_plot_t<fcond_t],(T_profile[:,-1]-T_profile[:,nmantle])[t_plot_t<fcond_t],label='$T_s$-$T_{CMB}$')\n",
    "ax.scatter(t_plot_t[t_plot_t<fcond_t],(T_profile[:,-1]-T_profile[:,nmantle+1])[t_plot_t<fcond_t],label='$T_s$-$T_m$')\n",
    "ax.scatter(t_plot_t[t_plot_t<fcond_t],(T_profile[:,nmantle+1]-T_profile[:,nmantle])[t_plot_t<fcond_t]-1315,label='$T_m$-$T_{CMB}$ -1315')\n",
    "ax2 = ax.twinx()\n",
    "#ax2.scatter(t_plot_t[t_plot_t<fcond_t],dl[t_plot_t<fcond_t]/rc,color='green',linestyle='dashed')\n",
    "ax.set_xlabel('Time/Myr')\n",
    "ax.set_ylabel('Temperature difference /K')\n",
    "ax2.set_ylabel('CMB b.l thickness/mantle thickness')\n",
    "ax.legend()\n",
    "ax.set_xlim([0,20])\n",
    "#ax.set_ylim([-1325,-1315])\n",
    "#ax.set_ylim([-0.5,0.1])\n",
    "#ax.set_xscale('log')"
   ]
  },
  {
   "cell_type": "markdown",
   "id": "b5e3df45",
   "metadata": {},
   "source": [
    "## Combined b.l thickness and Ra <a class=\"anchor\" id=\"Ra-bl\"></a>\n",
    "<p align=\"right\">(<a href=\"#top\">back to top</a>)</p>"
   ]
  },
  {
   "cell_type": "code",
   "execution_count": null,
   "id": "17ebdc77",
   "metadata": {},
   "outputs": [],
   "source": [
    "plt.plot(t_plot_t,dl/rc)"
   ]
  },
  {
   "cell_type": "code",
   "execution_count": null,
   "id": "033e891c",
   "metadata": {},
   "outputs": [],
   "source": [
    "fig, ax = plt.subplots(nrows=1,ncols=1,sharex='col',tight_layout=True)\n",
    "ax2 = ax.twinx()\n",
    "# boundary layer thickness\n",
    "ax.plot(t_plot_t[t_plot_t<fcond_t],dl[t_plot_t<fcond_t]/1e3,label='$\\delta_l$',color='seagreen',linestyle='dashed') \n",
    "ax.plot(t_plot_t[t_plot_t<fcond_t],rc/1e3-d0[t_plot_t<fcond_t]/1e3,label='$\\delta_0$',color='cornflowerblue',linestyle='dashed',alpha=0.5)\n",
    "# Rayleigh number\n",
    "ax2.plot(t_plot_t,Ra,label='Rayleigh number',color='red')\n",
    "ax2.plot(t_plot_t,Racrit,label='Critical Rayleigh number',color='black')\n",
    "\n",
    "ax.set_ylabel('Height in the mantle /km')\n",
    "ax.set_ylim([0,rc/1e3])\n",
    "ax.set_xlabel('Time /Myr')\n",
    "ax2.set_ylabel('Rayleigh number')\n",
    "ax2.set_yscale('log')\n",
    "ax.set_xscale('log')\n",
    "ax.legend(loc='center left')\n",
    "ax2.legend()\n",
    "if save == True:\n",
    "    plt.savefig(f'{save_path}criterion_comp_run{run}.png')"
   ]
  },
  {
   "cell_type": "markdown",
   "id": "f52ef5db",
   "metadata": {},
   "source": [
    "Time difference between subcritical Ra and lids being thicker than domain."
   ]
  },
  {
   "cell_type": "code",
   "execution_count": null,
   "id": "ae649757",
   "metadata": {},
   "outputs": [],
   "source": [
    "time_diff = fcond_t - t_plot_t[Ra<Racrit][0]\n",
    "print(f\"There is a {time_diff:.1f} Myr time difference between subcritical Ra and lids being thicker than domain\")"
   ]
  },
  {
   "cell_type": "markdown",
   "id": "490c80b5",
   "metadata": {},
   "source": [
    "## Urey ratio  <a class=\"anchor\" id=\"Urey\"></a>\n",
    "<p align=\"right\">(<a href=\"#top\">back to top</a>)</p>"
   ]
  },
  {
   "cell_type": "code",
   "execution_count": null,
   "id": "a9a0ee4c",
   "metadata": {},
   "outputs": [],
   "source": [
    "plt.figure()\n",
    "plt.plot(t_plot_t,Urey) \n",
    "#plt.xlim([min(tall/Myr),25])\n",
    "plt.hlines(1,min(tall/Myr),max(tall/Myr),linestyle='-.',color='black')\n",
    "if conduction == True:\n",
    "    plt.vlines(cond_t,0,1,linestyle='dashed',color='k',label='conduction')\n",
    "    plt.legend()\n",
    "plt.ylabel('Urey ratio')\n",
    "plt.xlabel('t / Myr')\n",
    "plt.xscale('log')\n",
    "plt.ylim([0,1.1])\n",
    "plt.title(f'Run {run}')\n",
    "if save == True:\n",
    "    plt.savefig(f'{save_path}Urey{run}.png')"
   ]
  },
  {
   "cell_type": "markdown",
   "id": "0980f734",
   "metadata": {},
   "source": [
    "## Melted iron content during differentiation<a class=\"anchor\" id=\"iron\"></a>\n",
    "<p align=\"right\">(<a href=\"#top\">back to top</a>)</p>"
   ]
  },
  {
   "cell_type": "code",
   "execution_count": null,
   "id": "0c687641",
   "metadata": {},
   "outputs": [],
   "source": [
    "plt.figure()\n",
    "plt.pcolormesh(tdiff/Myr, rplot,iron,shading = 'gouraud')#,vmin=0,vmax=1) # use same vmin and vmax as other plots to make them comparable\n",
    "#plt.yscale('log')\n",
    "plt.ylabel('r /km')\n",
    "plt.xlabel('t / Myr')\n",
    "#plt.ylim([290,300])\n",
    "plt.title(f'Run {run}')\n",
    "plt.colorbar(label='proportion of iron melted')\n",
    "if save ==True:\n",
    "    plt.savefig(f'{save_path}fe_diff_run_{run}.png')"
   ]
  },
  {
   "cell_type": "markdown",
   "id": "acc129cd",
   "metadata": {},
   "source": [
    "# Temperature and Flux Plot <a class=\"anchor\" id=\"temp-heat\"></a>\n",
    "<p align=\"right\">(<a href=\"#top\">back to top</a>)</p>"
   ]
  },
  {
   "cell_type": "code",
   "execution_count": null,
   "id": "30dd8b5a",
   "metadata": {},
   "outputs": [],
   "source": [
    "plt.figure(tight_layout=True,figsize=[10,7])\n",
    "#plt.suptitle(f'Thermal evolution of a {r/1e3:.0f}km asteroid \\n run {run} viscosity {viscosity}')\n",
    "\n",
    "xmin=tstart\n",
    "\n",
    "#temperatures as function of time\n",
    "plt.subplot(2,1,1)\n",
    "\n",
    "plt.plot(t_plot_t,Tc,label='central T$_c$')\n",
    "plt.plot(t_plot_t[Tc_conv!=0],Tc_conv[Tc_conv!=0],label='convective T$_c$')\n",
    "plt.plot(t_plot_t,Tcmb,label='T$_{cmb}$')\n",
    "plt.plot(t_plot_t,Tm_mid,label='T$_m$ - middle')\n",
    "plt.plot(t_plot_t[Tm_conv!=0],Tm_conv[Tm_conv!=0],label='convective T$_m$')\n",
    "#plt.scatter(t_plot_t,T_profile[:,-400],label='T one above CMB')\n",
    "#plt.scatter(t_plot_t,T_profile[:,-399],label='T two above CMB')\n",
    "\n",
    "if log_time == True:\n",
    "    plt.xscale('log')\n",
    "#if conduction == True:\n",
    "plt.vlines(fcond_t,ymin=min(Tm_surf),ymax=1600,color='black',linestyle='--',label='conduction')\n",
    "plt.ylim([1400,1600]) #use these limits when comparing runs\n",
    "#plt.ylim([1520,1530])\n",
    "plt.ylabel('T/K')\n",
    "#plt.legend(loc='lower left', ncol= 2)\n",
    "plt.legend(loc='lower right', ncol= 2)\n",
    "#fluxes as function of time\n",
    "plt.subplot(2,1,2)\n",
    "\n",
    "Fcmb_neg = Fcmb[Fcmb<0]\n",
    "Fcmb_pos = Fcmb[Fcmb>0]\n",
    "\n",
    "plt.semilogy(t_plot_t,Fs,label='$F_s$')\n",
    "plt.scatter(t_plot_t[Fcmb<0],abs(Fcmb_neg),label='$-F_{CMB}$',color='navy',s=2)\n",
    "plt.scatter(t_plot_t[Fcmb>0],Fcmb_pos,label='$F_{CMB}$',color='mediumorchid',s=2)\n",
    "plt.semilogy(t_plot_t,Fad,label='$F_{ad}$')\n",
    "plt.semilogy(t_plot_t,Frad,label='$F_{rad}$')\n",
    "plt.fill_betweenx(y=[1e-4,0.1],x1=tstrat_remove,x2=terode,label='erosion of stratification',alpha=0.2)\n",
    "if log_time == True:\n",
    "    plt.xscale('log')\n",
    "plt.xlabel('Time/ Myr')\n",
    "\n",
    "plt.ylim([1e-4,1e2])   #use these limits when comparing runs\n",
    "plt.ylabel('Flux/ W$m^{-2}$')\n",
    "plt.legend(loc='upper right',ncol=2)\n",
    "\n",
    "if save == True:\n",
    "    plt.savefig(f'{save_path}run_{run}_Tflux.png',dpi=450)\n"
   ]
  },
  {
   "cell_type": "markdown",
   "id": "56ee7565",
   "metadata": {},
   "source": [
    "# Magnetic Field Strength <a class=\"anchor\" id=\"B\"></a>\n",
    "<p align=\"right\">(<a href=\"#top\">back to top</a>)</p>"
   ]
  },
  {
   "cell_type": "markdown",
   "id": "9487422e",
   "metadata": {},
   "source": [
    "Extract buoyancy fluxes for core solidification and thermal dynamo."
   ]
  },
  {
   "cell_type": "code",
   "execution_count": null,
   "id": "95c4c7dc",
   "metadata": {},
   "outputs": [],
   "source": [
    "import pandas as pd\n",
    "from parameters import f0"
   ]
  },
  {
   "cell_type": "code",
   "execution_count": null,
   "id": "752365a6",
   "metadata": {},
   "outputs": [],
   "source": [
    "comp = buoyr[0,:]\n",
    "therm = buoyr[1,:]"
   ]
  },
  {
   "cell_type": "code",
   "execution_count": null,
   "id": "1482b043",
   "metadata": {},
   "outputs": [],
   "source": [
    "compdf = pd.Series(comp[f<f0])\n",
    "thermdf = pd.Series(therm[f<f0])\n",
    "Remdf = pd.Series(Rem[f<f0])\n",
    "Bdf = pd.Series(B[f<f0])"
   ]
  },
  {
   "cell_type": "markdown",
   "id": "45f36d9f",
   "metadata": {},
   "source": [
    "### New plot"
   ]
  },
  {
   "cell_type": "markdown",
   "id": "b2ec16c9",
   "metadata": {},
   "source": [
    "Test a range of window widths for rolling average"
   ]
  },
  {
   "cell_type": "code",
   "execution_count": null,
   "id": "17592143",
   "metadata": {},
   "outputs": [],
   "source": [
    "fig, ax = plt.subplots(nrows=2,ncols=1,sharex='col',tight_layout=True,figsize=[8,5])\n",
    "\n",
    "ln1 = ax[0].plot(t_plot_t,comp)\n",
    "ax[1].plot(t_plot_t,therm)\n",
    "for i in range(1,6,1):\n",
    "    ax[0].plot(t_plot_t[f<f0],compdf.rolling(window=10*i,center=True).mean(),label=f'{10*i}')\n",
    "    ax[1].plot(t_plot_t[f<f0],thermdf.rolling(window=10*i,center=True).mean(),label=f'{10*i}')\n",
    "#ax[0].legend(ln1+ln2,['Compositional','Thermal'])\n",
    "ax[0].set_ylabel('Compositional buoyancy flux/ kg$s^{-1}$')\n",
    "#ax2.set_yscale('log')\n",
    "ax[1].set_ylabel('Thermal buoyancy flux/ kg$s^{-1}$')\n",
    "ax[0].legend()\n",
    "ax[1].legend()"
   ]
  },
  {
   "cell_type": "markdown",
   "id": "ac19851b",
   "metadata": {},
   "source": [
    "A window width of 30--50 for data after the onset of core solidification seems sufficient to smooth the data."
   ]
  },
  {
   "cell_type": "code",
   "execution_count": null,
   "id": "43f98078",
   "metadata": {},
   "outputs": [],
   "source": [
    "from parameters import Xs_eutectic"
   ]
  },
  {
   "cell_type": "markdown",
   "id": "5d6810bd",
   "metadata": {},
   "source": [
    "### B, Rem and buoyancy flux with time"
   ]
  },
  {
   "cell_type": "code",
   "execution_count": null,
   "id": "36d000c3",
   "metadata": {},
   "outputs": [],
   "source": [
    "wn = 50\n",
    "fig, ax = plt.subplots(nrows=2,ncols=1,sharex='col',figsize=[10,8])\n",
    "#B and Rem\n",
    "ax2 = ax[0].twinx()\n",
    "ln1 = ax[0].plot(t_plot_t[f>=f0],np.ma.masked_where(Rem[f>=f0]<10,B[f>=f0]),color='black')\n",
    "ax[0].plot(t_plot_t[f<f0],Bdf.rolling(window=wn,center=True).mean(),color='black')\n",
    "ln2 = ax2.plot(t_plot_t[f>=f0],Rem[f>=f0],color='darkorchid')\n",
    "ax2.plot(t_plot_t[f<f0],Remdf.rolling(window=wn,center=True).mean(),color='darkorchid')\n",
    "ax2.hlines(10,min(t_plot_t),max(t_plot_t),linestyle='dashed',color='grey')\n",
    "ax[0].legend(ln1+ln2,['B','Re$_m$'])\n",
    "ax[0].set_ylabel('Magnetic field strength/ $\\mu T$')\n",
    "ax2.set_ylabel('$Re_m$')\n",
    "\n",
    "#thermal and compositional buoyancy flux\n",
    "ax3 = ax[1].twinx()\n",
    "ln3 = ax[1].plot(t_plot_t[f>=f0],therm[f>=f0],color='black')\n",
    "ax[1].plot(t_plot_t[f<f0],thermdf.rolling(window=wn,center=True).mean(),color='black')\n",
    "ln4 = ax[1].plot(t_plot_t[f>=f0],comp[f>=f0],color='darkorchid')\n",
    "ax[1].plot(t_plot_t[f<f0],compdf.rolling(window=wn,center=True).mean(),color='darkorchid')\n",
    "ln5 = ax3.plot(t_plot_t[(f<f0)&(Xs<Xs_eutectic)],(compdf.rolling(window=wn,center=True).mean()/thermdf.rolling(window=wn,center=True).mean())\n",
    "         [Xs[f<f0]<Xs_eutectic])\n",
    "ax[1].set_xlabel('Time/Ma')\n",
    "ax[1].legend(ln3+ln4+ln5,['thermal','compositional','ratio'])\n",
    "ax[1].set_ylabel('Buoyancy flux /kg$s^{-1}$')\n",
    "ax[1].set_yscale('log')\n",
    "ax3.set_ylabel('Compositional/Thermal buoyancy flux')\n",
    "ax3.set_ylim([0,20])"
   ]
  },
  {
   "cell_type": "markdown",
   "id": "dbf1cec8",
   "metadata": {},
   "source": [
    "## Magnetic Reynolds number and inner core size <a class=\"anchor\" id=\"Rem\"></a>\n",
    "<p align=\"right\">(<a href=\"#top\">back to top</a>)</p>"
   ]
  },
  {
   "cell_type": "code",
   "execution_count": null,
   "id": "7fa684f5",
   "metadata": {},
   "outputs": [],
   "source": [
    "plt.figure(tight_layout=True,figsize=[8,6])\n",
    "plt.suptitle(f'Thermal evolution of a {r/1e3:.0f}km asteroid \\n core size')\n",
    "\n",
    "plt.subplot(2,1,1)\n",
    "plt.plot(t_plot_t,f,label='f')\n",
    "plt.xscale('log')\n",
    "plt.xlabel('Time/ Myr')\n",
    "plt.ylabel('f')\n",
    "\n",
    "plt.subplot(2,1,2)\n",
    "plt.plot(t_plot_t,Xs,label='Xs')\n",
    "plt.xscale('log')\n",
    "plt.xlabel('Time/ Myr')\n",
    "plt.ylabel('Xs /wt%')\n",
    "\n",
    "\n",
    "if save == True:\n",
    "    plt.savefig(f'{save_path}run_{run}_Remf.png',dpi=450)"
   ]
  },
  {
   "cell_type": "markdown",
   "id": "b5e4777e",
   "metadata": {},
   "source": [
    "## Dynamo duration <a class=\"anchor\" id=\"duration\"></a>\n",
    "<p align=\"right\">(<a href=\"#top\">back to top</a>)</p>"
   ]
  },
  {
   "cell_type": "code",
   "execution_count": null,
   "id": "ae058272",
   "metadata": {},
   "outputs": [],
   "source": [
    "from duration_calc import on_off_load"
   ]
  },
  {
   "cell_type": "code",
   "execution_count": null,
   "id": "00eacd7b",
   "metadata": {},
   "outputs": [],
   "source": [
    "print(f'The dynamo starts at {on1:.2f} Myr, stops at {off1:.2f} Myr and lasts {off1-on1:.2f} Myr')\n",
    "if on2 > 0:\n",
    "    print(f'The second dynamo starts at {on2:.2f} Myr, stops at {off2:.2f} Myr and lasts {off2-on2:.2f} Myr')\n",
    "if on3 > 0:\n",
    "    print(f'The third dynamo starts at {on3:.2f} Myr, stops at {off3:.2f} Myr and lasts {off3-on3:.2f} Myr')"
   ]
  },
  {
   "cell_type": "code",
   "execution_count": null,
   "id": "0e561436",
   "metadata": {},
   "outputs": [],
   "source": []
  }
 ],
 "metadata": {
  "kernelspec": {
   "display_name": "Python 3 (ipykernel)",
   "language": "python",
   "name": "python3"
  },
  "language_info": {
   "codemirror_mode": {
    "name": "ipython",
    "version": 3
   },
   "file_extension": ".py",
   "mimetype": "text/x-python",
   "name": "python",
   "nbconvert_exporter": "python",
   "pygments_lexer": "ipython3",
   "version": "3.9.16"
  }
 },
 "nbformat": 4,
 "nbformat_minor": 5
}
