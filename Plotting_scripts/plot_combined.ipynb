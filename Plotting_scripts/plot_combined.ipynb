{
 "cells": [
  {
   "cell_type": "markdown",
   "id": "c06eb9ae",
   "metadata": {},
   "source": [
    "# Plots for differentiation and thermal evolution<a class=\"anchor\" id=\"top\"></a>\n",
    "[Summary statistics](#stats)\n",
    "For the whole thermal evolution:\n",
    "+ [temperature](#temp)\n",
    "+ [% silicate melted](#silicate)\n",
    "+ [Rayleigh number](#critical-rayleigh)\n",
    "+ [Stagnant lid thickness](#d0)\n",
    "+ [Urey ratio](#Urey)\n",
    "\n",
    "\n",
    "For differentiation stage:\n",
    "+ [% iron melted](#iron)\n",
    "\n",
    "For the thermal evolution stage:\n",
    "+ [temperatures and heat fluxes](#temp-heat)\n",
    "+ [inner core size and magnetic Reynolds number](#Rem)\n",
    "+ [magnetic field strength](#B)\n",
    "+ [dynamo duration times](#duration)"
   ]
  },
  {
   "cell_type": "markdown",
   "id": "259cb6b5",
   "metadata": {},
   "source": [
    "## Set-up"
   ]
  },
  {
   "cell_type": "code",
   "execution_count": 1,
   "id": "f34b80b8",
   "metadata": {
    "scrolled": false
   },
   "outputs": [],
   "source": [
    "#import modules\n",
    "import matplotlib.pyplot as plt\n",
    "import numpy as np\n",
    "import pandas as pd \n",
    "import sys\n",
    "sys.path.append('../')\n",
    "from load_info import load_run_info, load_run_results\n",
    "\n",
    "#scale time to Myr\n",
    "from plotting_constants import Myr, Tml, Tms"
   ]
  },
  {
   "cell_type": "markdown",
   "id": "904d4e2e",
   "metadata": {},
   "source": [
    "Choose run and whether you want to save figure"
   ]
  },
  {
   "cell_type": "code",
   "execution_count": 2,
   "id": "b2ff3adf",
   "metadata": {},
   "outputs": [],
   "source": [
    "run=7\n",
    "save = False # do you want to save your figures?\n",
    "conduction = False #does the mantle switch to conduction\n",
    "path = '../Results_combined/' #path to files"
   ]
  },
  {
   "cell_type": "markdown",
   "id": "0ff7cc89",
   "metadata": {},
   "source": [
    "Load npz files for differentiation"
   ]
  },
  {
   "cell_type": "code",
   "execution_count": 3,
   "id": "e7c70656",
   "metadata": {},
   "outputs": [],
   "source": [
    "npzfile = np.load(f'{path}run_{run}_diff.npz')\n",
    "Tdiff = npzfile['Tdiff'] \n",
    "iron = npzfile['Xfe']\n",
    "silicate_d = npzfile['Xsi']\n",
    "tdiff = npzfile['t_diff']\n",
    "Ra_d = npzfile['Ra']\n",
    "Ra_crit_d = npzfile['Ra_crit']\n",
    "d0_diff = npzfile['d0']"
   ]
  },
  {
   "cell_type": "markdown",
   "id": "f5423827",
   "metadata": {},
   "source": [
    "Load npz files for thermal evolution"
   ]
  },
  {
   "cell_type": "code",
   "execution_count": 4,
   "id": "6aba2d5d",
   "metadata": {},
   "outputs": [],
   "source": [
    "npzfile = np.load(f'{path}run_{run}.npz')\n",
    "Tc= npzfile['Tc'] \n",
    "Tc_conv = npzfile['Tc_conv']\n",
    "Tcmb = npzfile['Tcmb']\n",
    "Tm_mid = npzfile['Tm_mid']\n",
    "Tm_conv = npzfile['Tm_conv']\n",
    "Tm_surf = npzfile['Tm_surf'] \n",
    "T_profile = npzfile['T_profile']\n",
    "f = npzfile['f'] \n",
    "\n",
    "t = npzfile['t'] #time in s\n",
    "Rem_t = npzfile['Rem_t'] # magnetic Reynolds number from thermal convection \n",
    "Rem_mac = Rem_t[0,:] #Rem from MAC balance\n",
    "Rem_cia = Rem_t[1,:] #Rem from CIA balance\n",
    "Rem_c = npzfile['Rem_c'] # magnetic Reynolds number from compositional convection\n",
    "B = npzfile['B']\n",
    "Flux = npzfile['Flux']\n",
    "Ra = npzfile['Ra'] \n",
    "RaH = npzfile['RaH'] \n",
    "RanoH = npzfile['RanoH'] \n",
    "RaRob = npzfile['RaRob']\n",
    "Racrit = npzfile['Racrit'] \n",
    "d0 = npzfile['d0'] \n",
    "min_unstable = npzfile['min_unstable'] \n",
    "Urey = npzfile['Ur']\n",
    "Xs = npzfile['Xs']\n",
    "dl = npzfile['dl']\n",
    "dx = npzfile['dc']\n",
    "Fs = Flux[0]\n",
    "Fcmb = Flux[1]\n",
    "Fad = Flux[2]\n",
    "Frad = Flux[3]"
   ]
  },
  {
   "cell_type": "markdown",
   "id": "dcb2d2cc",
   "metadata": {},
   "source": [
    "Run Info"
   ]
  },
  {
   "cell_type": "code",
   "execution_count": 21,
   "id": "6286ac79",
   "metadata": {},
   "outputs": [],
   "source": [
    "r=300e3\n",
    "dr=500\n",
    "tstart=0.8"
   ]
  },
  {
   "cell_type": "code",
   "execution_count": 22,
   "id": "a7b8eab9",
   "metadata": {},
   "outputs": [],
   "source": [
    "#r, dr, tstart, dt, viscosity = load_run_info(run,f'{path}run_info.csv')"
   ]
  },
  {
   "cell_type": "markdown",
   "id": "327e3a63",
   "metadata": {},
   "source": [
    "Calculate silicate melt content for thermal evolution"
   ]
  },
  {
   "cell_type": "code",
   "execution_count": 23,
   "id": "512773a6",
   "metadata": {},
   "outputs": [],
   "source": [
    "nmantle = int((r/dr)/2)\n",
    "silicate_t = (T_profile[:,nmantle:] - Tms)/(Tml-Tms)"
   ]
  },
  {
   "cell_type": "markdown",
   "id": "b5362334",
   "metadata": {},
   "source": [
    "Concatenate shared variables"
   ]
  },
  {
   "cell_type": "code",
   "execution_count": 24,
   "id": "521674a3",
   "metadata": {},
   "outputs": [],
   "source": [
    "Tall = np.hstack((Tdiff,np.transpose(T_profile)))\n",
    "tall = np.append(tdiff,t)\n",
    "iron_all = np.hstack\n",
    "Ra_all = np.append(Ra_d,Ra)\n",
    "Ra_crit_all = np.append(Ra_crit_d,Racrit)\n",
    "d0_all = np.append(d0_diff,d0)"
   ]
  },
  {
   "cell_type": "markdown",
   "id": "1bccf142",
   "metadata": {},
   "source": [
    "Scale time, choose whether or not to plot logarithmically"
   ]
  },
  {
   "cell_type": "code",
   "execution_count": 25,
   "id": "3fef51fd",
   "metadata": {},
   "outputs": [],
   "source": [
    "t_plot_all = tall/Myr\n",
    "t_plot_t = t/Myr\n",
    "log_time = True # do you want to plot time logarithmically"
   ]
  },
  {
   "cell_type": "code",
   "execution_count": 26,
   "id": "a94faf34",
   "metadata": {},
   "outputs": [
    {
     "data": {
      "text/plain": [
       "46"
      ]
     },
     "execution_count": 26,
     "metadata": {},
     "output_type": "execute_result"
    }
   ],
   "source": [
    "len(tdiff)"
   ]
  },
  {
   "cell_type": "markdown",
   "id": "d0662121",
   "metadata": {},
   "source": [
    "## Summary statistics <a class=\"anchor\" id=\"stats\"></a>\n",
    "<p align=\"right\">(<a href=\"#top\">back to top</a>)</p>"
   ]
  },
  {
   "cell_type": "code",
   "execution_count": 27,
   "id": "65b5b62c",
   "metadata": {},
   "outputs": [],
   "source": [
    "results = load_run_results(run,f'{path}run_results.csv')"
   ]
  },
  {
   "cell_type": "code",
   "execution_count": 28,
   "id": "d5e89f20",
   "metadata": {},
   "outputs": [
    {
     "ename": "KeyError",
     "evalue": "0",
     "output_type": "error",
     "traceback": [
      "\u001b[0;31m---------------------------------------------------------------------------\u001b[0m",
      "\u001b[0;31mValueError\u001b[0m                                Traceback (most recent call last)",
      "File \u001b[0;32m~/anaconda3/lib/python3.9/site-packages/pandas/core/indexes/range.py:391\u001b[0m, in \u001b[0;36mRangeIndex.get_loc\u001b[0;34m(self, key, method, tolerance)\u001b[0m\n\u001b[1;32m    390\u001b[0m \u001b[38;5;28;01mtry\u001b[39;00m:\n\u001b[0;32m--> 391\u001b[0m     \u001b[38;5;28;01mreturn\u001b[39;00m \u001b[38;5;28;43mself\u001b[39;49m\u001b[38;5;241;43m.\u001b[39;49m\u001b[43m_range\u001b[49m\u001b[38;5;241;43m.\u001b[39;49m\u001b[43mindex\u001b[49m\u001b[43m(\u001b[49m\u001b[43mnew_key\u001b[49m\u001b[43m)\u001b[49m\n\u001b[1;32m    392\u001b[0m \u001b[38;5;28;01mexcept\u001b[39;00m \u001b[38;5;167;01mValueError\u001b[39;00m \u001b[38;5;28;01mas\u001b[39;00m err:\n",
      "\u001b[0;31mValueError\u001b[0m: 0 is not in range",
      "\nThe above exception was the direct cause of the following exception:\n",
      "\u001b[0;31mKeyError\u001b[0m                                  Traceback (most recent call last)",
      "Cell \u001b[0;32mIn[28], line 1\u001b[0m\n\u001b[0;32m----> 1\u001b[0m \u001b[38;5;28mprint\u001b[39m(\u001b[38;5;124mf\u001b[39m\u001b[38;5;124m\"\u001b[39m\u001b[38;5;124mDifferentiation is at \u001b[39m\u001b[38;5;132;01m{\u001b[39;00mresults\u001b[38;5;241m.\u001b[39mat[\u001b[38;5;241m0\u001b[39m,\u001b[38;5;124m'\u001b[39m\u001b[38;5;124mdiff_time\u001b[39m\u001b[38;5;124m'\u001b[39m]\u001b[38;5;132;01m:\u001b[39;00m\u001b[38;5;124m.2f\u001b[39m\u001b[38;5;132;01m}\u001b[39;00m\u001b[38;5;124m Myr\u001b[39m\u001b[38;5;124m\"\u001b[39m)\n\u001b[1;32m      2\u001b[0m \u001b[38;5;28mprint\u001b[39m(\u001b[38;5;124mf\u001b[39m\u001b[38;5;124m\"\u001b[39m\u001b[38;5;124mThe temperature at differentiation is at \u001b[39m\u001b[38;5;132;01m{\u001b[39;00mresults\u001b[38;5;241m.\u001b[39mat[\u001b[38;5;241m0\u001b[39m,\u001b[38;5;124m'\u001b[39m\u001b[38;5;124mdiff_T\u001b[39m\u001b[38;5;124m'\u001b[39m]\u001b[38;5;132;01m:\u001b[39;00m\u001b[38;5;124m.2f\u001b[39m\u001b[38;5;132;01m}\u001b[39;00m\u001b[38;5;124mK\u001b[39m\u001b[38;5;124m\"\u001b[39m)\n\u001b[1;32m      3\u001b[0m \u001b[38;5;28mprint\u001b[39m(\u001b[38;5;124mf\u001b[39m\u001b[38;5;124m\"\u001b[39m\u001b[38;5;124mPeak magma ocean temp is \u001b[39m\u001b[38;5;132;01m{\u001b[39;00mresults\u001b[38;5;241m.\u001b[39mat[\u001b[38;5;241m0\u001b[39m,\u001b[38;5;124m'\u001b[39m\u001b[38;5;124mpeakT\u001b[39m\u001b[38;5;124m'\u001b[39m]\u001b[38;5;132;01m:\u001b[39;00m\u001b[38;5;124m.0f\u001b[39m\u001b[38;5;132;01m}\u001b[39;00m\u001b[38;5;124mK at \u001b[39m\u001b[38;5;132;01m{\u001b[39;00mresults\u001b[38;5;241m.\u001b[39mat[\u001b[38;5;241m0\u001b[39m,\u001b[38;5;124m'\u001b[39m\u001b[38;5;124mtmax\u001b[39m\u001b[38;5;124m'\u001b[39m]\u001b[38;5;132;01m:\u001b[39;00m\u001b[38;5;124m.2f\u001b[39m\u001b[38;5;132;01m}\u001b[39;00m\u001b[38;5;124m Myr\u001b[39m\u001b[38;5;124m\"\u001b[39m)\n",
      "File \u001b[0;32m~/anaconda3/lib/python3.9/site-packages/pandas/core/indexing.py:2431\u001b[0m, in \u001b[0;36m_AtIndexer.__getitem__\u001b[0;34m(self, key)\u001b[0m\n\u001b[1;32m   2428\u001b[0m         \u001b[38;5;28;01mraise\u001b[39;00m \u001b[38;5;167;01mValueError\u001b[39;00m(\u001b[38;5;124m\"\u001b[39m\u001b[38;5;124mInvalid call for scalar access (getting)!\u001b[39m\u001b[38;5;124m\"\u001b[39m)\n\u001b[1;32m   2429\u001b[0m     \u001b[38;5;28;01mreturn\u001b[39;00m \u001b[38;5;28mself\u001b[39m\u001b[38;5;241m.\u001b[39mobj\u001b[38;5;241m.\u001b[39mloc[key]\n\u001b[0;32m-> 2431\u001b[0m \u001b[38;5;28;01mreturn\u001b[39;00m \u001b[38;5;28;43msuper\u001b[39;49m\u001b[43m(\u001b[49m\u001b[43m)\u001b[49m\u001b[38;5;241;43m.\u001b[39;49m\u001b[38;5;21;43m__getitem__\u001b[39;49m\u001b[43m(\u001b[49m\u001b[43mkey\u001b[49m\u001b[43m)\u001b[49m\n",
      "File \u001b[0;32m~/anaconda3/lib/python3.9/site-packages/pandas/core/indexing.py:2382\u001b[0m, in \u001b[0;36m_ScalarAccessIndexer.__getitem__\u001b[0;34m(self, key)\u001b[0m\n\u001b[1;32m   2379\u001b[0m         \u001b[38;5;28;01mraise\u001b[39;00m \u001b[38;5;167;01mValueError\u001b[39;00m(\u001b[38;5;124m\"\u001b[39m\u001b[38;5;124mInvalid call for scalar access (getting)!\u001b[39m\u001b[38;5;124m\"\u001b[39m)\n\u001b[1;32m   2381\u001b[0m key \u001b[38;5;241m=\u001b[39m \u001b[38;5;28mself\u001b[39m\u001b[38;5;241m.\u001b[39m_convert_key(key)\n\u001b[0;32m-> 2382\u001b[0m \u001b[38;5;28;01mreturn\u001b[39;00m \u001b[38;5;28;43mself\u001b[39;49m\u001b[38;5;241;43m.\u001b[39;49m\u001b[43mobj\u001b[49m\u001b[38;5;241;43m.\u001b[39;49m\u001b[43m_get_value\u001b[49m\u001b[43m(\u001b[49m\u001b[38;5;241;43m*\u001b[39;49m\u001b[43mkey\u001b[49m\u001b[43m,\u001b[49m\u001b[43m \u001b[49m\u001b[43mtakeable\u001b[49m\u001b[38;5;241;43m=\u001b[39;49m\u001b[38;5;28;43mself\u001b[39;49m\u001b[38;5;241;43m.\u001b[39;49m\u001b[43m_takeable\u001b[49m\u001b[43m)\u001b[49m\n",
      "File \u001b[0;32m~/anaconda3/lib/python3.9/site-packages/pandas/core/frame.py:3924\u001b[0m, in \u001b[0;36mDataFrame._get_value\u001b[0;34m(self, index, col, takeable)\u001b[0m\n\u001b[1;32m   3918\u001b[0m engine \u001b[38;5;241m=\u001b[39m \u001b[38;5;28mself\u001b[39m\u001b[38;5;241m.\u001b[39mindex\u001b[38;5;241m.\u001b[39m_engine\n\u001b[1;32m   3920\u001b[0m \u001b[38;5;28;01mif\u001b[39;00m \u001b[38;5;129;01mnot\u001b[39;00m \u001b[38;5;28misinstance\u001b[39m(\u001b[38;5;28mself\u001b[39m\u001b[38;5;241m.\u001b[39mindex, MultiIndex):\n\u001b[1;32m   3921\u001b[0m     \u001b[38;5;66;03m# CategoricalIndex: Trying to use the engine fastpath may give incorrect\u001b[39;00m\n\u001b[1;32m   3922\u001b[0m     \u001b[38;5;66;03m#  results if our categories are integers that dont match our codes\u001b[39;00m\n\u001b[1;32m   3923\u001b[0m     \u001b[38;5;66;03m# IntervalIndex: IntervalTree has no get_loc\u001b[39;00m\n\u001b[0;32m-> 3924\u001b[0m     row \u001b[38;5;241m=\u001b[39m \u001b[38;5;28;43mself\u001b[39;49m\u001b[38;5;241;43m.\u001b[39;49m\u001b[43mindex\u001b[49m\u001b[38;5;241;43m.\u001b[39;49m\u001b[43mget_loc\u001b[49m\u001b[43m(\u001b[49m\u001b[43mindex\u001b[49m\u001b[43m)\u001b[49m\n\u001b[1;32m   3925\u001b[0m     \u001b[38;5;28;01mreturn\u001b[39;00m series\u001b[38;5;241m.\u001b[39m_values[row]\n\u001b[1;32m   3927\u001b[0m \u001b[38;5;66;03m# For MultiIndex going through engine effectively restricts us to\u001b[39;00m\n\u001b[1;32m   3928\u001b[0m \u001b[38;5;66;03m#  same-length tuples; see test_get_set_value_no_partial_indexing\u001b[39;00m\n",
      "File \u001b[0;32m~/anaconda3/lib/python3.9/site-packages/pandas/core/indexes/range.py:393\u001b[0m, in \u001b[0;36mRangeIndex.get_loc\u001b[0;34m(self, key, method, tolerance)\u001b[0m\n\u001b[1;32m    391\u001b[0m         \u001b[38;5;28;01mreturn\u001b[39;00m \u001b[38;5;28mself\u001b[39m\u001b[38;5;241m.\u001b[39m_range\u001b[38;5;241m.\u001b[39mindex(new_key)\n\u001b[1;32m    392\u001b[0m     \u001b[38;5;28;01mexcept\u001b[39;00m \u001b[38;5;167;01mValueError\u001b[39;00m \u001b[38;5;28;01mas\u001b[39;00m err:\n\u001b[0;32m--> 393\u001b[0m         \u001b[38;5;28;01mraise\u001b[39;00m \u001b[38;5;167;01mKeyError\u001b[39;00m(key) \u001b[38;5;28;01mfrom\u001b[39;00m \u001b[38;5;21;01merr\u001b[39;00m\n\u001b[1;32m    394\u001b[0m \u001b[38;5;28mself\u001b[39m\u001b[38;5;241m.\u001b[39m_check_indexing_error(key)\n\u001b[1;32m    395\u001b[0m \u001b[38;5;28;01mraise\u001b[39;00m \u001b[38;5;167;01mKeyError\u001b[39;00m(key)\n",
      "\u001b[0;31mKeyError\u001b[0m: 0"
     ]
    }
   ],
   "source": [
    "print(f\"Differentiation is at {results.at[0,'diff_time']:.2f} Myr\")\n",
    "print(f\"The temperature at differentiation is at {results.at[0,'diff_T']:.2f}K\")\n",
    "print(f\"Peak magma ocean temp is {results.at[0,'peakT']:.0f}K at {results.at[0,'tmax']:.2f} Myr\")\n",
    "print(f\"Mantle hotter than the core until {results.at[0,'tstrat_remove']:.2f} Myr\")\n",
    "print(f\"Erosion of stratification by {results.at[0,'terode']:.2f} Myr\") \n",
    "print(f\"End of mantle convection by {results.at[0,'fcond_t']/Myr:.2f} Myr\")\n",
    "print(f\"The maximum MAC Rem is {results.at[0,'max_Rem_mac']:.2f} at {results.at[0,'max_Remt_mac']:.2f} Myr\")\n",
    "print(f\"The maximum CIA Rem is {results.at[0,'max_Rem_cia']:.2f} at {results.at[0,'max_Remt_cia']:.2f} Myr\")\n",
    "print(f\"The maximum compositional Rem is {results.at[0,'max_Rem_comp']:.2f} at {results.at[0,'max_Remt_comp']:.2f} Myr\")\n",
    "print(f\"The maximum MAC field strength is {results.at[0,'maxB_mac']:.2e} T at {results.at[0,'maxBt_mac']:.2f} Myr\")\n",
    "print(f\"The maximum ML field strength is {results.at[0,'maxB_ml']:.2e} T at {results.at[0,'maxBt_ml']:.2f} Myr\")\n",
    "print(f\"The maximum CIA field strength is {results.at[0,'maxB_cia']:.2e} T at {results.at[0,'maxBt_cia']:.2f} Myr\")\n",
    "cond_t = results.at[0,'fcond_t']/Myr\n",
    "diff_T =results.at[0,'diff_T']"
   ]
  },
  {
   "cell_type": "code",
   "execution_count": 29,
   "id": "a0a5a7be",
   "metadata": {},
   "outputs": [],
   "source": [
    "peak_coreT = np.amax(Tall[:nmantle,:])\n",
    "loc_max = np.where(Tall[:nmantle,:]==peak_coreT)[1][0] #take the set of time coordinates and first value (they should all be the same)\n",
    "tcoremax = tall[loc_max]/Myr"
   ]
  },
  {
   "cell_type": "code",
   "execution_count": 30,
   "id": "7f619df2",
   "metadata": {},
   "outputs": [
    {
     "name": "stdout",
     "output_type": "stream",
     "text": [
      "The peak core temperature is 1663K at 3.5Myr\n"
     ]
    }
   ],
   "source": [
    "print(f'The peak core temperature is {peak_coreT:.0f}K at {tcoremax:.1f}Myr')"
   ]
  },
  {
   "cell_type": "markdown",
   "id": "7b9cdcef",
   "metadata": {},
   "source": [
    "## Temperature <a class=\"anchor\" id=\"temp\"></a>\n",
    "<p align=\"right\">(<a href=\"#top\">back to top</a>)</p>"
   ]
  },
  {
   "cell_type": "code",
   "execution_count": 31,
   "id": "c7d2fe87",
   "metadata": {},
   "outputs": [],
   "source": [
    "import matplotlib.colors as mcolors"
   ]
  },
  {
   "cell_type": "code",
   "execution_count": 32,
   "id": "e9176001",
   "metadata": {},
   "outputs": [],
   "source": [
    "rplot = np.arange(0,int(r)+dr,int(dr))/1e3"
   ]
  },
  {
   "cell_type": "code",
   "execution_count": 33,
   "id": "00b96a7d",
   "metadata": {},
   "outputs": [],
   "source": [
    "r_unstable=np.array([]) \n",
    "for ind in min_unstable:\n",
    "    r_unstable = np.append(r_unstable,rplot[int(ind)])\n",
    "rc = r/2"
   ]
  },
  {
   "cell_type": "code",
   "execution_count": 34,
   "id": "737a12a0",
   "metadata": {
    "scrolled": false
   },
   "outputs": [
    {
     "ename": "NameError",
     "evalue": "name 'diff_T' is not defined",
     "output_type": "error",
     "traceback": [
      "\u001b[0;31m---------------------------------------------------------------------------\u001b[0m",
      "\u001b[0;31mNameError\u001b[0m                                 Traceback (most recent call last)",
      "Cell \u001b[0;32mIn[34], line 19\u001b[0m\n\u001b[1;32m     17\u001b[0m plt\u001b[38;5;241m.\u001b[39mvlines(tdiff[\u001b[38;5;241m-\u001b[39m\u001b[38;5;241m1\u001b[39m]\u001b[38;5;241m/\u001b[39mMyr,\u001b[38;5;241m0\u001b[39m,r\u001b[38;5;241m/\u001b[39m\u001b[38;5;241m1e3\u001b[39m,linestyle\u001b[38;5;241m=\u001b[39m\u001b[38;5;124m'\u001b[39m\u001b[38;5;124m-.\u001b[39m\u001b[38;5;124m'\u001b[39m,label\u001b[38;5;241m=\u001b[39m\u001b[38;5;124m'\u001b[39m\u001b[38;5;124mDifferentiation\u001b[39m\u001b[38;5;124m'\u001b[39m)\n\u001b[1;32m     18\u001b[0m plt\u001b[38;5;241m.\u001b[39mcolorbar(label\u001b[38;5;241m=\u001b[39m\u001b[38;5;124m'\u001b[39m\u001b[38;5;124mT/K\u001b[39m\u001b[38;5;124m'\u001b[39m)\n\u001b[0;32m---> 19\u001b[0m plt\u001b[38;5;241m.\u001b[39mtitle(\u001b[38;5;124mf\u001b[39m\u001b[38;5;124m'\u001b[39m\u001b[38;5;124mRun \u001b[39m\u001b[38;5;132;01m{\u001b[39;00mrun\u001b[38;5;132;01m}\u001b[39;00m\u001b[38;5;124m \u001b[39m\u001b[38;5;130;01m\\n\u001b[39;00m\u001b[38;5;124m differentiation melt fraction \u001b[39m\u001b[38;5;132;01m{\u001b[39;00m(diff_T\u001b[38;5;241m-\u001b[39m\u001b[38;5;241m1400\u001b[39m)\u001b[38;5;241m/\u001b[39m\u001b[38;5;241m400\u001b[39m\u001b[38;5;132;01m:\u001b[39;00m\u001b[38;5;124m.2f\u001b[39m\u001b[38;5;132;01m}\u001b[39;00m\u001b[38;5;124m'\u001b[39m)\n\u001b[1;32m     20\u001b[0m plt\u001b[38;5;241m.\u001b[39mxscale(\u001b[38;5;124m'\u001b[39m\u001b[38;5;124mlog\u001b[39m\u001b[38;5;124m'\u001b[39m)\n\u001b[1;32m     21\u001b[0m plt\u001b[38;5;241m.\u001b[39mlegend(loc\u001b[38;5;241m=\u001b[39m\u001b[38;5;124m'\u001b[39m\u001b[38;5;124mlower right\u001b[39m\u001b[38;5;124m'\u001b[39m)\n",
      "\u001b[0;31mNameError\u001b[0m: name 'diff_T' is not defined"
     ]
    },
    {
     "data": {
      "image/png": "[encoded data removed]",
      "text/plain": [
       "<Figure size 640x480 with 2 Axes>"
      ]
     },
     "metadata": {},
     "output_type": "display_data"
    }
   ],
   "source": [
    "plt.figure()\n",
    "#plt.pcolormesh(t_plot_all,rplot,Tall-Tall[300,:],shading = 'nearest',vmin=0) # use same vmin and vmax as other plots to make them comparable\n",
    "plt.pcolormesh(t_plot_all,rplot,Tall,shading = 'nearest')\n",
    "plt.hlines(rc/1e3,min(t/Myr),max(tall/Myr),linestyle='--',color='black',label='CMB')\n",
    "#plt.fill_betweenx([0,rc/5e3],t[np.where(Fcmb>Fad)[0]][0]/Myr,t[np.where(Fcmb>Fad)[0]][-1]/Myr,alpha=0,hatch='/',label='$F_{CMB}>F_{ad}$')\n",
    "plt.plot(t/Myr,r_unstable,linestyle='dotted',label='Convecting core')\n",
    "if conduction == True:\n",
    "    plt.plot(t[t/Myr<=cond_t]/Myr,(r-d0[t/Myr<=cond_t])/1e3,linestyle='dashed',label='base of $\\delta_0$',color='blue')\n",
    "    plt.vlines(t[t/Myr<=cond_t][-1]/Myr,r/1e3,rc/1e3,linestyle='dotted',label='conductive mantle',color='red')\n",
    "else:\n",
    "    plt.plot(t/Myr,(r-d0)/1e3,linestyle='dashed',label='base of $\\delta_0$',color='blue')\n",
    "plt.ylabel('r /km')\n",
    "plt.xlabel('t / Myr')\n",
    "#plt.ylim([(r-10000)/1e3,r/1e3])\n",
    "#plt.xlim([0.8,1.1])\n",
    "#plt.ylim([290,r/1e3])\n",
    "plt.vlines(tdiff[-1]/Myr,0,r/1e3,linestyle='-.',label='Differentiation')\n",
    "plt.colorbar(label='T/K')\n",
    "plt.title(f'Run {run} \\n differentiation melt fraction {(diff_T-1400)/400:.2f}')\n",
    "plt.xscale('log')\n",
    "plt.legend(loc='lower right')\n",
    "#if save == True:\n",
    "#plt.savefig(f'../Plots/Xs_r_tests/Tall_run{run}.png')"
   ]
  },
  {
   "cell_type": "markdown",
   "id": "5b0bd8d7",
   "metadata": {},
   "source": [
    "## Melted silicate content <a class=\"anchor\" id=\"silicate\"></a>\n",
    "<p align=\"right\">(<a href=\"#top\">back to top</a>)</p>"
   ]
  },
  {
   "cell_type": "code",
   "execution_count": null,
   "id": "4e0b4648",
   "metadata": {},
   "outputs": [],
   "source": [
    "plt.figure()\n",
    "plt.pcolormesh(tdiff/Myr, rplot,silicate_d,shading = 'nearest',vmin=0,vmax=1) # use same vmin and vmax as other plots to make them comparable\n",
    "#plt.yscale('log')\n",
    "plt.ylabel('r /km')\n",
    "plt.xlabel('t / Myr')\n",
    "#plt.ylim([0,400])\n",
    "plt.title(f'Run {run} - during differentiation')\n",
    "plt.colorbar(label='proportion of silicate melted')\n",
    "if save ==True:\n",
    "    plt.savefig(f'Plots/si_diff_run_{run}.png')"
   ]
  },
  {
   "cell_type": "code",
   "execution_count": null,
   "id": "916dec84",
   "metadata": {},
   "outputs": [],
   "source": [
    "rmantle = np.arange(int(r/2),int(r+dr),int(dr))/1e3\n",
    "plt.figure()\n",
    "plt.pcolormesh(t/Myr, rmantle,np.transpose(silicate_t),shading = 'nearest',vmin=0, vmax=1) # use same vmin and vmax as other plots to make them comparable\n",
    "plt.xscale('log')\n",
    "plt.ylabel('r /km')\n",
    "plt.xlabel('t / Myr')\n",
    "#plt.ylim([0,400])\n",
    "plt.title(f'Run {run} - after differentiation')\n",
    "plt.colorbar(label='proportion of silicate melted')\n",
    "if save ==True:\n",
    "    plt.savefig(f'Plots/si_therm_run_{run}.png')"
   ]
  },
  {
   "cell_type": "markdown",
   "id": "2da8b78b",
   "metadata": {},
   "source": [
    "## Rayleigh number<a class=\"anchor\" id=\"critical-rayleigh\"></a>\n",
    "<p align=\"right\">(<a href=\"#top\">back to top</a>)</p>"
   ]
  },
  {
   "cell_type": "code",
   "execution_count": null,
   "id": "4977448f",
   "metadata": {},
   "outputs": [],
   "source": [
    "plt.figure()\n",
    "plt.plot(tdiff/Myr,Ra_d,color='navy')\n",
    "plt.plot(t/Myr,RaH,label='$Ra_H$',color='seagreen')\n",
    "plt.plot(t/Myr,RanoH,label='Ra',color='cornflowerblue')\n",
    "plt.plot(t_plot_all,Ra_crit_all,label='$Ra_c$',linestyle='dashed',color='black') \n",
    "plt.plot(t_plot_all,Ra_all,label='model Ra',color='navy') \n",
    "plt.scatter(t_plot_all[Ra_all/Ra_crit_all<0.5],Ra_all[Ra_all/Ra_crit_all<0.5])\n",
    "plt.scatter(t_plot_all[Ra_all/Ra_crit_all>1.1],Ra_all[Ra_all/Ra_crit_all>1.1])\n",
    "plt.ylim(bottom=1e0)#,top=1e8)\n",
    "#plt.xlim([min(tall/Myr),5])\n",
    "#plt.vlines(tdiff[-1]/Myr,1e3,1e18,linestyle='dotted',color='blue',label='differentiation')\n",
    "#if conduction == True:\n",
    "    #plt.vlines(cond_t,1e3,1e18,linestyle='dashed',color='k',label='conduction')\n",
    "    #plt.xlim([min(tall/Myr),cond_t])\n",
    "plt.ylabel('Ra')\n",
    "#plt.xscale('log')\n",
    "plt.yscale('log')\n",
    "plt.xlabel('t / Myr')\n",
    "#plt.xlim([0,100])\n",
    "plt.ylim([1e4,1e12])\n",
    "plt.title(f'Run {run}')\n",
    "plt.legend()\n",
    "#if save == True:\n",
    "#plt.savefig(f'../Plots/Ra_run{run}.png')"
   ]
  },
  {
   "cell_type": "code",
   "execution_count": null,
   "id": "32a7b9a3",
   "metadata": {},
   "outputs": [],
   "source": [
    "plt.figure(tight_layout=True)\n",
    "plt.subplot(2,1,1)\n",
    "plt.semilogy(t_plot_all[d0_all<r],Ra_crit_all[d0_all<r],label='Ra crit') \n",
    "plt.semilogy(t_plot_all[d0_all<r],Ra_all[d0_all<r],label='Ra') \n",
    "plt.ylim(bottom=1e0)\n",
    "#plt.xlim([min(tall/Myr),30])\n",
    "plt.vlines(tdiff[-1]/Myr,1e3,1e25,linestyle='dotted',color='blue',label='differentiation')\n",
    "plt.ylabel('Ra')\n",
    "plt.xscale('log')\n",
    "plt.xlabel('t / Myr')\n",
    "plt.legend()\n",
    "plt.subplot(2,1,2)\n",
    "plt.plot(t_plot_all[d0_all<r],(Tall[int(nmantle/2),d0_all<r]-1400)/400)\n",
    "plt.vlines(tdiff[-1]/Myr,0,0.8,linestyle='dotted',color='blue',label='differentiation')\n",
    "#plt.xlim([min(tall/Myr),30])\n",
    "plt.ylim([0.1,0.8])\n",
    "plt.xscale('log')\n",
    "plt.ylabel('Mid mantle silicate melt fraction')\n",
    "plt.suptitle(f'Run {run} - Mantle convecting')\n",
    "plt.xlabel('t / Myr')\n",
    "if save == True:\n",
    "    plt.savefig(f'Plots/Ra_phi_comp_run{run}.png',dpi=300)"
   ]
  },
  {
   "cell_type": "markdown",
   "id": "09bb2f99",
   "metadata": {},
   "source": [
    "## Stagnant lid thickness <a class=\"anchor\" id=\"d0\"></a>\n",
    "<p align=\"right\">(<a href=\"#top\">back to top</a>)</p>"
   ]
  },
  {
   "cell_type": "code",
   "execution_count": null,
   "id": "81a8d842",
   "metadata": {},
   "outputs": [],
   "source": [
    "plt.figure()\n",
    "plt.semilogy(tall/Myr,d0_all/r,label='$\\delta_0$') \n",
    "plt.ylim(top=1e0)\n",
    "#plt.xlim([min(tall/Myr),25])\n",
    "plt.vlines(tdiff[-1]/Myr,0,1,linestyle='dotted',color='blue',label='differentiation')\n",
    "plt.hlines(0.5,min(tall/Myr),max(tall/Myr),linestyle='-.',color='green',label='mantle thickness')\n",
    "if conduction == True:\n",
    "    plt.vlines(cond_t,0,1,linestyle='dashed',color='k',label='conduction')\n",
    "plt.ylabel('$\\delta_0$/Mantle thickness')\n",
    "plt.xlabel('t / Myr')\n",
    "plt.xscale('log')\n",
    "plt.title(f'Run {run}')\n",
    "plt.legend()\n",
    "if save == True:\n",
    "    plt.savefig(f'Plots/d0_run{run}.png')"
   ]
  },
  {
   "cell_type": "markdown",
   "id": "db3b1021",
   "metadata": {},
   "source": [
    "### CMB boundary layer thickness"
   ]
  },
  {
   "cell_type": "code",
   "execution_count": null,
   "id": "c7a77869",
   "metadata": {},
   "outputs": [],
   "source": [
    "plt.figure()\n",
    "plt.semilogy(t_plot_t,dl/dr,label='$\\delta_0$') \n",
    "plt.ylim(top=1e0)\n",
    "#plt.xlim([min(tall/Myr),25])\n",
    "plt.hlines(0.5,min(tall/Myr),max(tall/Myr),linestyle='-.',color='green',label='cell thickness')\n",
    "if conduction == True:\n",
    "    plt.vlines(cond_t,0,1,linestyle='dashed',color='k',label='conduction')\n",
    "plt.ylabel('$\\delta_l$/Cell thickness')\n",
    "plt.xlabel('t / Myr')\n",
    "plt.xscale('log')\n",
    "plt.title(f'Run {run}')\n",
    "plt.legend()\n",
    "if save == True:\n",
    "    plt.savefig(f'Plots/dl_run{run}.png')"
   ]
  },
  {
   "cell_type": "markdown",
   "id": "490c80b5",
   "metadata": {},
   "source": [
    "## Urey ratio  <a class=\"anchor\" id=\"Urey\"></a>\n",
    "<p align=\"right\">(<a href=\"#top\">back to top</a>)</p>"
   ]
  },
  {
   "cell_type": "code",
   "execution_count": null,
   "id": "a9a0ee4c",
   "metadata": {
    "scrolled": false
   },
   "outputs": [],
   "source": [
    "plt.figure()\n",
    "plt.plot(t_plot_t,Urey) \n",
    "#plt.xlim([min(tall/Myr),25])\n",
    "plt.hlines(1,min(tall/Myr),max(tall/Myr),linestyle='-.',color='black')\n",
    "if conduction == True:\n",
    "    plt.vlines(cond_t,0,1,linestyle='dashed',color='k',label='conduction')\n",
    "    plt.legend()\n",
    "plt.ylabel('Urey ratio')\n",
    "plt.xlabel('t / Myr')\n",
    "plt.xscale('log')\n",
    "plt.ylim([0,1.1])\n",
    "plt.title(f'Run {run}')\n",
    "if save == True:\n",
    " plt.savefig(f'Plots/Urey{run}.png')"
   ]
  },
  {
   "cell_type": "markdown",
   "id": "0980f734",
   "metadata": {},
   "source": [
    "## Melted iron content during differentiation<a class=\"anchor\" id=\"iron\"></a>\n",
    "<p align=\"right\">(<a href=\"#top\">back to top</a>)</p>"
   ]
  },
  {
   "cell_type": "code",
   "execution_count": null,
   "id": "0c687641",
   "metadata": {},
   "outputs": [],
   "source": [
    "plt.figure()\n",
    "plt.pcolormesh(tdiff/Myr, rplot,iron,shading = 'nearest')#,vmin=0,vmax=1) # use same vmin and vmax as other plots to make them comparable\n",
    "#plt.yscale('log')\n",
    "plt.ylabel('r /km')\n",
    "plt.xlabel('t / Myr')\n",
    "#plt.ylim([290,300])\n",
    "plt.title(f'Run {run}')\n",
    "plt.colorbar(label='proportion of iron melted')\n",
    "if save ==True:\n",
    "    plt.savefig(f'Plots/fe_diff_run_{run}.png')"
   ]
  },
  {
   "cell_type": "markdown",
   "id": "acc129cd",
   "metadata": {},
   "source": [
    "# Temperature and Flux Plot <a class=\"anchor\" id=\"temp-heat\"></a>\n",
    "<p align=\"right\">(<a href=\"#top\">back to top</a>)</p>"
   ]
  },
  {
   "cell_type": "code",
   "execution_count": null,
   "id": "30dd8b5a",
   "metadata": {},
   "outputs": [],
   "source": [
    "plt.figure(tight_layout=True,figsize=[10,7])\n",
    "plt.suptitle(f'Thermal evolution of a {r/1e3:.0f}km asteroid \\n run {run} viscosity {viscosity}')\n",
    "\n",
    "xmin=tstart\n",
    "\n",
    "#temperatures as function of time\n",
    "plt.subplot(2,1,1)\n",
    "if log_time == True:\n",
    "    plt.semilogx(t_plot_t,Tc,label='central T$_c$')\n",
    "    plt.semilogx(t_plot_t[Tc_conv!=0],Tc_conv[Tc_conv!=0],label='convective T$_c$')\n",
    "    plt.semilogx(t_plot_t,Tcmb,label='T$_{cmb}$')\n",
    "    plt.semilogx(t_plot_t,Tm_mid,label='T$_m$ - middle')\n",
    "    plt.semilogx(t_plot_t[Tm_conv!=0],Tm_conv[Tm_conv!=0],label='convective T$_m$')\n",
    "    #plt.semilogx(t_plot_t,Tm_conv,label='convective T$_m$')\n",
    "    #plt.semilogx(t_plot_t,Tm_surf,label='T$_m$ - surface')\n",
    "else:\n",
    "    plt.plot(t_plot_t,Tc,label='central T$_c$')\n",
    "    plt.plot(t_plot_t[Tc_conv!=0],Tc_conv[Tc_conv!=0],label='convective T$_c$')\n",
    "    plt.plot(t_plot_t,Tcmb,label='T$_{cmb}$')\n",
    "    plt.plot(t_plot_t,Tm_mid,label='T$_m$ - middle')\n",
    "    plt.plot(t_plot_t[Tm_conv!=0],Tm_conv[Tm_conv!=0],label='convective T$_m$')\n",
    "    #plt.plot(t_plot_t,Tm_surf,label='T$_m$ - surface')\n",
    "if conduction == True:\n",
    "    plt.vlines(cond_t,ymin=min(Tm_surf),ymax=1600,color='black',linestyle='--',label='conduction')\n",
    "plt.ylim([1000,1700]) #use these limits when comparing runs\n",
    "plt.ylabel('T/K')\n",
    "plt.legend(loc='lower left', ncol= 2)\n",
    "\n",
    "#fluxes as function of time\n",
    "plt.subplot(2,1,2)\n",
    "\n",
    "Fcmb_neg = Fcmb[Fcmb<0]\n",
    "Fcmb_pos = Fcmb[Fcmb>0]\n",
    "if log_time == True:\n",
    "    plt.loglog(t_plot_t,Fs,label='$F_s$')\n",
    "    plt.scatter(t_plot_t[Fcmb<0],abs(Fcmb_neg),label='$-F_{CMB}$',color='navy',s=2)\n",
    "    plt.scatter(t_plot_t[Fcmb>0],Fcmb_pos,label='$F_{CMB}$',color='mediumorchid',s=2)\n",
    "    plt.loglog(t_plot_t,Fad,label='$F_{ad}$')\n",
    "    plt.loglog(t_plot_t,Frad,label='$F_{rad}$')\n",
    "else:\n",
    "    plt.semilogy(t_plot_t,Fs,label='$F_s$')\n",
    "    plt.scatter(t_plot_t[Fcmb<0],abs(Fcmb_neg),label='$-F_{CMB}$',color='navy',s=2)\n",
    "    plt.scatter(t_plot_t[Fcmb>0],Fcmb_pos,label='$F_{CMB}$',color='mediumorchid',s=2)\n",
    "    plt.semilogy(t_plot_t,Fad,label='$F_{ad}$')\n",
    "    plt.semilogy(t_plot_t,Frad,label='$F_{rad}$')\n",
    "plt.xlabel('Time/ Myr')\n",
    "\n",
    "plt.ylim([1e-4,1e2])   #use these limits when comparing runs\n",
    "plt.ylabel('Flux/ W$m^{-2}$')\n",
    "plt.legend(loc='upper right',ncol=2)\n",
    "\n",
    "if save == True:\n",
    "    plt.savefig('../Plots/Xs_r_tests/run_{}_Tflux.png'.format(run),dpi=450)\n"
   ]
  },
  {
   "cell_type": "markdown",
   "id": "dbf1cec8",
   "metadata": {},
   "source": [
    "## Magnetic Reynolds number and inner core size <a class=\"anchor\" id=\"Rem\"></a>\n",
    "<p align=\"right\">(<a href=\"#top\">back to top</a>)</p>"
   ]
  },
  {
   "cell_type": "code",
   "execution_count": null,
   "id": "7fa684f5",
   "metadata": {},
   "outputs": [],
   "source": [
    "plt.figure(tight_layout=True,figsize=[10,8])\n",
    "plt.suptitle(f'Thermal evolution of a {r/1e3:.0f}km asteroid \\n run {run}  {viscosity}')\n",
    "plt.subplot(3,1,1)\n",
    "plt.loglog(t_plot_t,Rem_mac,label='Thermal - MAC')\n",
    "plt.loglog(t_plot_t,Rem_cia,label='Thermal - CIA')\n",
    "plt.loglog(t_plot_t[Rem_c!=0],Rem_c[Rem_c!=0],label='Compositional',color='green')\n",
    "plt.hlines(10,xmin=0,xmax=t_plot_t[len(Rem_cia)-1],color='gray',linestyle='--')\n",
    "plt.hlines(40,xmin=0,xmax=t_plot_t[len(Rem_cia)-1],color='gray',linestyle='-.')\n",
    "plt.hlines(100,xmin=0,xmax=t_plot_t[len(Rem_cia)-1],color='gray',linestyle='dotted')\n",
    "#plt.xlabel('Time/Myr')\n",
    "plt.ylabel('Rem')\n",
    "plt.legend(loc='lower left')\n",
    "#plt.xscale('log')\n",
    "#plt.xlim([100,200])\n",
    "\n",
    "plt.subplot(3,1,2)\n",
    "plt.plot(t_plot_t,f,label='f')\n",
    "plt.xscale('log')\n",
    "plt.xlabel('Time/ Myr')\n",
    "plt.ylabel('f')\n",
    "\n",
    "plt.subplot(3,1,3)\n",
    "plt.plot(t_plot_t,Xs,label='Xs')\n",
    "plt.xscale('log')\n",
    "plt.xlabel('Time/ Myr')\n",
    "plt.ylabel('Xs /wt%')\n",
    "\n",
    "\n",
    "if save == True:\n",
    "    plt.savefig('Plots/run_{}_Remf.png'.format(run),dpi=450)"
   ]
  },
  {
   "cell_type": "markdown",
   "id": "56ee7565",
   "metadata": {},
   "source": [
    "# Magnetic Field Strength <a class=\"anchor\" id=\"B\"></a>\n",
    "<p align=\"right\">(<a href=\"#top\">back to top</a>)</p>"
   ]
  },
  {
   "cell_type": "code",
   "execution_count": 35,
   "id": "bf2e2d8c",
   "metadata": {},
   "outputs": [
    {
     "ename": "NameError",
     "evalue": "name 'threshold' is not defined",
     "output_type": "error",
     "traceback": [
      "\u001b[0;31m---------------------------------------------------------------------------\u001b[0m",
      "\u001b[0;31mNameError\u001b[0m                                 Traceback (most recent call last)",
      "Cell \u001b[0;32mIn[35], line 1\u001b[0m\n\u001b[0;32m----> 1\u001b[0m t[Rem_cia\u001b[38;5;241m<\u001b[39m\u001b[43mthreshold\u001b[49m]\u001b[38;5;241m/\u001b[39mMyr\n",
      "\u001b[0;31mNameError\u001b[0m: name 'threshold' is not defined"
     ]
    }
   ],
   "source": [
    "t[Rem_cia<threshold]/Myr"
   ]
  },
  {
   "cell_type": "code",
   "execution_count": 36,
   "id": "aca28459",
   "metadata": {},
   "outputs": [],
   "source": [
    "Blabel = ['B$_{flux}$ - ML','B$_{flux}$ - MAC', 'B$_{flux}$ - CIA','B$_{flux}$ comp']\n",
    "Rem = np.array([Rem_mac, Rem_mac, Rem_cia,Rem_c])"
   ]
  },
  {
   "cell_type": "code",
   "execution_count": 40,
   "id": "49d8a9c0",
   "metadata": {},
   "outputs": [
    {
     "data": {
      "image/png": "[encoded data removed]",
      "text/plain": [
       "<Figure size 640x480 with 1 Axes>"
      ]
     },
     "metadata": {},
     "output_type": "display_data"
    }
   ],
   "source": [
    "threshold = 10 #critical Rem\n",
    "plt.figure()\n",
    "for i, labels in enumerate(Blabel):\n",
    "    plt.plot(t_plot_t[Rem[i,:]>threshold],B[i,Rem[i,:]>threshold]/1e-6,label=labels)\n",
    "plt.legend()\n",
    "plt.xlabel('T/Myr')\n",
    "plt.ylabel('B/$\\mu$T')\n",
    "plt.xscale('log')\n",
    "plt.title(f'Run {run} - field strengths for supercritical Re$_m$')\n",
    "if save ==True:\n",
    "    plt.savefig(f'../Plots/Bfield_{run}.png')"
   ]
  },
  {
   "cell_type": "code",
   "execution_count": null,
   "id": "7e81071b",
   "metadata": {},
   "outputs": [],
   "source": [
    "plt.figure()\n",
    "for i, labels in enumerate(Blabel):\n",
    "    plt.plot(t_plot_t,B[i,:]/1e-6,label=labels)\n",
    "plt.legend()\n",
    "plt.xlabel('T/Myr')\n",
    "plt.ylabel('B/$\\mu$T')\n",
    "plt.title(f'Run{run} - all times')"
   ]
  },
  {
   "cell_type": "markdown",
   "id": "b5e4777e",
   "metadata": {},
   "source": [
    "## Dynamo duration <a class=\"anchor\" id=\"duration\"></a>\n",
    "<p align=\"right\">(<a href=\"#top\">back to top</a>)</p>"
   ]
  },
  {
   "cell_type": "code",
   "execution_count": null,
   "id": "ae058272",
   "metadata": {},
   "outputs": [],
   "source": [
    "from duration_calc import on_off_load"
   ]
  },
  {
   "cell_type": "code",
   "execution_count": null,
   "id": "00eacd7b",
   "metadata": {},
   "outputs": [],
   "source": [
    "for name, label in zip([f'{path}CIA_onoff.csv',f'{path}MAC_onoff.csv',f'{path}comp_onoff.csv'],['CIA','MAC','compositional']):\n",
    "    onoff = on_off_load(name,run)\n",
    "    for i in range(len(onoff)):\n",
    "        start = onoff.at[i,'start'] \n",
    "        stop = onoff.at[i,'end']\n",
    "        duration = onoff.at[i,'duration']\n",
    "        print(f'The {label} dynamo starts at {start:.2f} Myr, stops at {stop:.2f} Myr and lasts {duration:.2f} Myr')\n",
    "        i = i+1"
   ]
  },
  {
   "cell_type": "code",
   "execution_count": null,
   "id": "5909b596",
   "metadata": {},
   "outputs": [],
   "source": []
  }
 ],
 "metadata": {
  "kernelspec": {
   "display_name": "Python 3 (ipykernel)",
   "language": "python",
   "name": "python3"
  },
  "language_info": {
   "codemirror_mode": {
    "name": "ipython",
    "version": 3
   },
   "file_extension": ".py",
   "mimetype": "text/x-python",
   "name": "python",
   "nbconvert_exporter": "python",
   "pygments_lexer": "ipython3",
   "version": "3.9.16"
  }
 },
 "nbformat": 4,
 "nbformat_minor": 5
}
