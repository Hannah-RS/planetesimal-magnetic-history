{
 "cells": [
  {
   "cell_type": "markdown",
   "id": "476b1510",
   "metadata": {},
   "source": [
    "# Example output plots <a class=\"anchor\" id=\"top\"></a>\n",
    "\n",
    "\n",
    "### Example run\n",
    "The example data used to make these plots is currently in the same directory as the Jupyter notebook - you will want to change this to where you have saved your results.\n",
    "The run shown here is for a 500km planetesimal, accreted 0.8Ma after CAI formation, $X_{S,0}$=26.7 wt%, all other parameters are given by run 1 in auto_params.csv. To make plots for a specific run, **you only need to change the information in the second code cell**. Everything else is automatic. Figure numbers refer to plots in Sanderson et. al. 2024a \"Unlocking planetesimal magnetic field histories: a refined, versatile model for thermal evolution and dynamo generation\" submitted to Icarus.\n",
    "\n",
    "+ [Summary stats](#stats)\n",
    "+ [Temperature profile - Figure 6](#temp)\n",
    "+ [Heat fluxes - Figure 7](#flux)\n",
    "+ [Field strength and Reynolds number - Figure 8](#Bfield)"
   ]
  },
  {
   "cell_type": "markdown",
   "id": "858c9a33",
   "metadata": {},
   "source": [
    "### Set-up"
   ]
  },
  {
   "cell_type": "code",
   "execution_count": null,
   "id": "f8c9fc40",
   "metadata": {},
   "outputs": [],
   "source": [
    "import numpy as np\n",
    "import pandas as pd\n",
    "import matplotlib.pyplot as plt\n",
    "import matplotlib as mpl\n",
    "import seaborn as sns\n",
    "import sys\n",
    "sys.path.append('../')\n",
    "from load_info import load_run_info, load_run_results\n",
    "\n",
    "#scale time to Myr\n",
    "from plot_params import Myr, f0"
   ]
  },
  {
   "cell_type": "markdown",
   "id": "e2694a4b",
   "metadata": {},
   "source": [
    "Choose run for main thermal plots and where to save files. \n",
    "\n",
    "**Change the parameters in this box**"
   ]
  },
  {
   "cell_type": "code",
   "execution_count": null,
   "id": "31e9a252",
   "metadata": {},
   "outputs": [],
   "source": [
    "run=1 #run you want to plot\n",
    "save = False # do you want to save your figures?\n",
    "automated = False #did you calculate runs individually or automated\n",
    "log_time = True #do you want to plot time logarithmically\n",
    "path = '' #path to files \n",
    "save_path = '../Plots/' #path to where you save your files"
   ]
  },
  {
   "cell_type": "markdown",
   "id": "e6b6ddd9",
   "metadata": {},
   "source": [
    "Load results for differentiation"
   ]
  },
  {
   "cell_type": "code",
   "execution_count": null,
   "id": "8f615fff",
   "metadata": {},
   "outputs": [],
   "source": [
    "npzfile = np.load(f'{path}run_{run}_diff.npz')\n",
    "Tdiff = npzfile['Tdiff'] #temperature profile [K]\n",
    "iron = npzfile['Xfe'] #Fe-FeS melt fraction\n",
    "silicate_d = npzfile['Xsi'] #silicate melt fraction\n",
    "tdiff = npzfile['t_diff'] #time points [s]\n",
    "Ra_d = npzfile['Ra'] #Rayleigh number\n",
    "Ra_crit_d = npzfile['Ra_crit'] #critical Rayleigh number\n",
    "d0_diff = npzfile['d0'] #stagnant lid thickness [m]"
   ]
  },
  {
   "cell_type": "markdown",
   "id": "052ada3a",
   "metadata": {},
   "source": [
    "Load results for thermal evolution"
   ]
  },
  {
   "cell_type": "code",
   "execution_count": null,
   "id": "81a73c3d",
   "metadata": {},
   "outputs": [],
   "source": [
    "npzfile = np.load(f'{path}run_{run}.npz')\n",
    "Tc= npzfile['Tc'] #central core temperature [K]\n",
    "Tc_conv = npzfile['Tc_conv'] #convective core temperature [K], 0 when the core isn't convecting\n",
    "Tcmb = npzfile['Tcmb'] #CMB temperature [K]\n",
    "Tm_mid = npzfile['Tm_mid'] # mid-mantle temperature [K]\n",
    "Tm_conv = npzfile['Tm_conv'] #convective mantle temperature [K], 0 when the mantle isn't convecting \n",
    "Tm_surf = npzfile['Tm_surf'] # temperature one cell below the surface [K]\n",
    "T_profile = npzfile['T_profile'] #full temperature profile, first dimension is time, second is radius T_profile[:,-1] is surface\n",
    "f = npzfile['f'] #fractional inner core radius\n",
    "\n",
    "t = npzfile['t'] #time in s\n",
    "Rem = npzfile['Rem'] # magnetic Reynolds number \n",
    "B = npzfile['B']/1e-6 # magnetic field strength [T] \n",
    "buoyr = npzfile['buoyr'] #compositional buoyancy flux and thermal buoyancy flux\n",
    "Flux = npzfile['Flux'] #array of fluxes\n",
    "Ra = npzfile['Ra'] # model Rayleigh number (whichever RaH or RanoH is greater)\n",
    "RaH = npzfile['RaH'] #radiogenic heating Rayleigh number\n",
    "RanoH = npzfile['RanoH'] # no-internal heating Rayleigh number\n",
    "Racrit = npzfile['Racrit'] #critical Rayleigh number \n",
    "eta = npzfile['eta'] #mantle viscosity [Pas]\n",
    "d0 = npzfile['d0'] #stagnant lid thickness [m]\n",
    "min_unstable = npzfile['min_unstable'] #\n",
    "Urey = npzfile['Ur'] #Urey ratio\n",
    "Xs = npzfile['Xs'] #liquid core sulfur content [wt %]\n",
    "dl = npzfile['dl'] #CMB boundary layer thickness in mantle [m]\n",
    "dc = npzfile['dc'] #CMB boundary layer thickness in core [m]\n",
    "Fs = Flux[0] #surface heat flux [W/m^2]\n",
    "Fcmb = Flux[1] #CMB heat flux [W/m^2]\n",
    "Fad = Flux[2] #adiabatic heat flux [W/m^2]\n",
    "Frad = Flux[3] #radiogenic heat flux [W/m^2]\n",
    "qcore = npzfile['qcore']\n",
    "#core heat sources\n",
    "qcore = qcore/1e9 #convert to GW\n",
    "qrad = qcore[0,:] #radiogenic heat [GW]\n",
    "qs = qcore[1,:] #secular cooling [GW]\n",
    "ql = qcore[2,:] #latent heat [GW]\n",
    "qg = qcore[3,:] #release of GPE [GW], zero unless you choose to turn it on"
   ]
  },
  {
   "cell_type": "markdown",
   "id": "8c75b413",
   "metadata": {},
   "source": [
    "Concatenate shared variables.\n",
    "\n",
    "After this step the first dimension of Tall is radius and the second is time. For example, `Tall[-1,:]` is the surface temperature at all times."
   ]
  },
  {
   "cell_type": "code",
   "execution_count": null,
   "id": "470a4e51",
   "metadata": {},
   "outputs": [],
   "source": [
    "Tall = np.transpose(np.vstack((Tdiff,T_profile))) #temperature profile [K]\n",
    "tall = np.append(tdiff,t) #time [s]\n",
    "Ra_all = np.append(Ra_d,Ra) #Rayleigh number\n",
    "Ra_crit_all = np.append(Ra_crit_d,Racrit) #critical Rayleigh number\n",
    "d0_all = np.append(d0_diff,d0) #stagnant lid thickness"
   ]
  },
  {
   "cell_type": "markdown",
   "id": "ed30a852",
   "metadata": {},
   "source": [
    "Scale time by Myr"
   ]
  },
  {
   "cell_type": "code",
   "execution_count": null,
   "id": "cf47ce2b",
   "metadata": {},
   "outputs": [],
   "source": [
    "t_plot_all = tall/Myr\n",
    "t_plot_t = t/Myr"
   ]
  },
  {
   "cell_type": "markdown",
   "id": "bd60c1d2",
   "metadata": {},
   "source": [
    "Run info\n",
    "\n",
    "r = planetesimal radius, rcr = core radius fraction, dr = grid spacing, tstart = accretion time, dt = timestep, viscosity = viscosity model (Sanderson et. al. or Dodds, Bryson), icfrac = core solidification endmember"
   ]
  },
  {
   "cell_type": "code",
   "execution_count": null,
   "id": "36932f53",
   "metadata": {},
   "outputs": [],
   "source": [
    "if automated == True:\n",
    "    r, rcr, dr, tstart, dt, viscosity, icfrac = load_run_info(run,f'{path}auto_params.csv')\n",
    "else: \n",
    "    r, rcr, dr, tstart, dt, viscosity, icfrac = load_run_info(run,f'{path}run_info.csv')"
   ]
  },
  {
   "cell_type": "markdown",
   "id": "b26d370e",
   "metadata": {},
   "source": [
    "## Summary statistics <a class=\"anchor\" id=\"stats\"></a>\n",
    "<p align=\"right\">(<a href=\"#top\">back to top</a>)</p>"
   ]
  },
  {
   "cell_type": "markdown",
   "id": "142810ca",
   "metadata": {},
   "source": [
    "Load in results data"
   ]
  },
  {
   "cell_type": "code",
   "execution_count": null,
   "id": "bd4aa18e",
   "metadata": {},
   "outputs": [],
   "source": [
    "results = load_run_results(run,f'{path}run_results.csv')"
   ]
  },
  {
   "cell_type": "markdown",
   "id": "a6c76e3b",
   "metadata": {},
   "source": [
    "Load in run parameters"
   ]
  },
  {
   "cell_type": "code",
   "execution_count": null,
   "id": "9eafd74c",
   "metadata": {},
   "outputs": [],
   "source": [
    "if automated == True:\n",
    "    params = pd.read_csv(f'{path}auto_params.csv',skiprows=[1])\n",
    "    params = params[params['run']==run]\n",
    "else:\n",
    "    params = pd.read_csv(f'{path}run_info.csv',skiprows=[1])\n",
    "    params = params[params['run']==run]"
   ]
  },
  {
   "cell_type": "markdown",
   "id": "00b5daf1",
   "metadata": {},
   "source": [
    "Assign to variables values that will be used later. See METADATA.md for other values that could be imported from `results.csv`"
   ]
  },
  {
   "cell_type": "code",
   "execution_count": null,
   "id": "2c50f51a",
   "metadata": {},
   "outputs": [],
   "source": [
    "n_cells = int(r/dr) #number of cells needed to span the body\n",
    "nccells = round((n_cells-3)*(rcr))+2 #number of cells needed to span core (inc. centre and CMB)\n",
    "nmantle = n_cells - nccells +1 #number of cells needed to span mantle plus one extra for CMB\n",
    "rc = (nccells-1)*dr #radius of core [m], subtract one for centre\n",
    "terode = results.at[0,'terode'] #removal of all core thermal stratification [Myr]\n",
    "tstrat_remove = results.at[0,'tstrat_remove'] #beginning of erosion of core thermal stratification [Myr]\n",
    "diff_time = results.at[0,'diff_time'] #time of differentiation [Myr]\n",
    "peak_coreT = np.amax(Tall[:,:nmantle]) #peak core temperature [K]\n",
    "loc_max = np.where(Tall[:,:nmantle]==peak_coreT)[1][0] #take the set of time coordinates and first value (they should all be the same)\n",
    "tcoremax = tall[loc_max]/Myr #time of peak core temperature [Myr]\n",
    "fcond_t = results.at[0,'fcond_t'] # time of cessation of convection [Myr]\n",
    "diff_T =results.at[0,'diff_T'] #differentiation temperature [K]\n",
    "tsolid_start =results.at[0,'tsolid_start'] #onset of core solidification [Myr]\n",
    "#dynamo on and off times\n",
    "var_results = pd.read_csv(path+'run_results.csv',skiprows=[1])\n",
    "on1=var_results.loc[var_results['run']==run,'magon_1'].values[0]\n",
    "off1=var_results.loc[var_results['run']==run,'magoff_1'].values[0]\n",
    "on2=var_results.loc[var_results['run']==run,'magon_2'].values[0]\n",
    "off2=var_results.loc[var_results['run']==run,'magoff_2'].values[0]\n",
    "on3=var_results.loc[var_results['run']==run,'magon_3'].values[0]\n",
    "off3=var_results.loc[var_results['run']==run,'magoff_3'].values[0]"
   ]
  },
  {
   "cell_type": "markdown",
   "id": "531bac0d",
   "metadata": {},
   "source": [
    "Print a summary"
   ]
  },
  {
   "cell_type": "code",
   "execution_count": null,
   "id": "a7877d6a",
   "metadata": {},
   "outputs": [],
   "source": [
    "print(f\"Differentiation is at {results.at[0,'diff_time']:.2f} Myr\")\n",
    "print(f\"The temperature at differentiation is at {results.at[0,'diff_T']:.2f}K\")\n",
    "print(f\"Peak magma ocean temp is {results.at[0,'peakT']:.0f}K at {results.at[0,'tmax']:.2f} Myr\")\n",
    "print(f\"Stratification starts at {results.at[0,'tstrat_start']:.2f} Myr\")\n",
    "print(f\"Mantle hotter than the core until {results.at[0,'tstrat_remove']:.2f} Myr\")\n",
    "print(f\"Erosion of stratification by {results.at[0,'terode']:.2f} Myr\") \n",
    "print(f\"End of mantle convection by {results.at[0,'fcond_t']:.2f} Myr\")\n",
    "print(f\"The maximum thermal Rem is {results.at[0,'max_Rtherm']:.2f} at {results.at[0,'max_Rtherm']:.2f} Myr\")\n",
    "print(f\"The maximum thermal field strength is {results.at[0,'max_Btherm']:.2e}T at {results.at[0,'max_Bthermt']:.2f} Myr\")\n",
    "print(f\"The maximum compositional Rem is {results.at[0,'max_Rcomp']:.2f}\")\n",
    "print(f\"The maximum compositional field strength is {results.at[0,'max_Bcomp']:.2e}\")\n",
    "print(f'The dynamo starts at {on1:.2f} Myr, stops at {off1:.2f} Myr and lasts {off1-on1:.2f} Myr')\n",
    "if on2 > 0:\n",
    "    print(f'The second dynamo starts at {on2:.2f} Myr, stops at {off2:.2f} Myr and lasts {off2-on2:.2f} Myr')\n",
    "if on3 > 0:\n",
    "    print(f'The third dynamo starts at {on3:.2f} Myr, stops at {off3:.2f} Myr and lasts {off3-on3:.2f} Myr')\n",
    "print(f\"Core solidification begins at {results.at[0,'tsolid_start']:.2f} Ma and ends at {results.at[0,'tsolid']:.2f} Ma\")"
   ]
  },
  {
   "cell_type": "markdown",
   "id": "6b9f8dde",
   "metadata": {},
   "source": [
    "# Example run"
   ]
  },
  {
   "cell_type": "markdown",
   "id": "7443d762",
   "metadata": {},
   "source": [
    "## Temperature profile <a class=\"anchor\" id=\"temp\"></a>\n",
    "<p align=\"right\">(<a href=\"#top\">back to top</a>)</p>"
   ]
  },
  {
   "cell_type": "markdown",
   "id": "71e0ab49",
   "metadata": {},
   "source": [
    "Create r array for plotting and prelog time to speed up plotting"
   ]
  },
  {
   "cell_type": "code",
   "execution_count": null,
   "id": "893c3034",
   "metadata": {},
   "outputs": [],
   "source": [
    "rplot = np.arange(0,int(r)+dr,int(dr))/1e3\n",
    "r_unstable=np.array([]) \n",
    "for ind in min_unstable:\n",
    "    r_unstable = np.append(r_unstable,rplot[int(ind)])\n",
    "\n",
    "\n",
    "#log time\n",
    "if log_time == True:\n",
    "    tpt = np.log10(t_plot_t)\n",
    "    tpa = np.log10(t_plot_all)\n",
    "    lfcond = np.log10(fcond_t)\n",
    "    on1l = np.log10(on1)\n",
    "    on2l = np.log10(on2)\n",
    "    on3l = np.log10(on3)\n",
    "    off1l = np.log10(off1)\n",
    "    off2l = np.log10(off3)\n",
    "    off3l = np.log10(off3)\n",
    "else: \n",
    "    tpt = t_plot_t\n",
    "    tpa = t_plot_all\n",
    "    lfcond = fcond_t\n",
    "    on1l = on1\n",
    "    on2l = on2\n",
    "    on3l = on3\n",
    "    off1l = off1\n",
    "    off2l = off2\n",
    "    off3l = off3"
   ]
  },
  {
   "cell_type": "markdown",
   "id": "e037eae4",
   "metadata": {},
   "source": [
    "Make figure - Figure 6 in Sanderson et. al. 2024a"
   ]
  },
  {
   "cell_type": "code",
   "execution_count": null,
   "id": "67d5a668",
   "metadata": {},
   "outputs": [],
   "source": [
    "plt.figure(figsize=[10,20/3])\n",
    "plt.pcolormesh(tpa[::2],rplot[::2],np.transpose(Tall[::2,::2]),shading = 'gouraud',vmin=200,vmax=1600) \n",
    "plt.hlines(rc/1e3,tpt[0],max(tpa),linestyle='--',color='black',label='CMB')\n",
    "plt.vlines(tpt[0],0,r/1e3,linestyle='-.',label='Differentiation')\n",
    "plt.annotate(text='', xy=(on1l,rc/1e4), xytext=(off1l,rc/1e4), arrowprops=dict(arrowstyle='<->'))\n",
    "plt.plot(tpt,r_unstable,linestyle='dotted',label='Convecting core')\n",
    "if on2 > 0:\n",
    "    plt.annotate(text='', xy=(on2l,rc/1e4), xytext=(off2l,rc/1e4), arrowprops=dict(arrowstyle='<->'))\n",
    "if on3 > 0: \n",
    "    plt.annotate(text='', xy=(on3l,rc/1e4), xytext=(off3l,rc/1e4), arrowprops=dict(arrowstyle='<->'))\n",
    "\n",
    "\n",
    "if np.any(t_plot_t<fcond_t):\n",
    "    plt.plot(tpt[(t_plot_t<=fcond_t)&(d0<(r-rc))],(r-d0[(t_plot_t<=fcond_t)&(d0<(r-rc))])/1e3,linestyle='dashed',label='base of $\\delta_0$',color='blue')\n",
    "    plt.plot(tpt[(t_plot_t<=fcond_t)&(r_unstable==0)][1:],(rc+dl[(t_plot_t<=fcond_t)&(r_unstable==0)][1:])/1e3,linestyle='dotted',label='top of $\\delta_l$',color='blue')\n",
    "    plt.vlines(tpt[t_plot_t<=fcond_t][-1],r/1e3,rc/1e3,linestyle='dotted',label='conductive mantle',color='red')\n",
    "plt.plot(tpt[f<f0],f[f<f0]*rc/1e3,linestyle='-.',color='black',label='Top of liquid core')\n",
    "#labels and limits\n",
    "plt.ylabel('Distance from centre of planetesimal/km')\n",
    "if log_time == False:\n",
    "    plt.xlabel('Time / Ma')\n",
    "else:\n",
    "    plt.xlabel('log10(Time / Ma)')\n",
    "plt.colorbar(label='Temperature/K')\n",
    "plt.ylim(bottom=0)\n",
    "plt.legend(bbox_to_anchor=[1.6,0.5])\n",
    "#plt.xscale('log')\n",
    "if save == True:\n",
    "    plt.savefig(f'{save_path}run_{run}_thermal_profile.png',bbox_inches='tight',dpi=500)"
   ]
  },
  {
   "cell_type": "markdown",
   "id": "b9b3a0ef",
   "metadata": {},
   "source": [
    "How long is the planetesimal below 700K?"
   ]
  },
  {
   "cell_type": "code",
   "execution_count": null,
   "id": "918a6e13",
   "metadata": {},
   "outputs": [],
   "source": [
    "tacc = 0.8 #accretion time in Ma\n",
    "rlen = int((r/1e3)*2)\n",
    "tsint = np.zeros([rlen])\n",
    "for i in range(rlen):\n",
    "    tsint[i]=tall[Tall[i,:]>700][0]\n",
    "tshort = np.min(tsint/Myr-tacc)\n",
    "print(f'The shortest time before sintering is {tshort:.2f} Ma \\\n",
    "and the longest time before sintering is {np.max(tsint/Myr-tacc):.2f} Ma')"
   ]
  },
  {
   "cell_type": "code",
   "execution_count": null,
   "id": "0f93cc6e",
   "metadata": {},
   "outputs": [],
   "source": [
    "rcheck = rplot[:-1] #remove surface point\n",
    "rsint = rcheck[(tsint/Myr)>(tshort+tacc)]\n",
    "print(f'The inner {rsint[0]}km sinters within {tshort:.1f} Ma of accretion')"
   ]
  },
  {
   "cell_type": "markdown",
   "id": "f255fa50",
   "metadata": {},
   "source": [
    "How long is the planetesimal above rcmf?"
   ]
  },
  {
   "cell_type": "code",
   "execution_count": null,
   "id": "4f2b63af",
   "metadata": {},
   "outputs": [],
   "source": [
    "tacc = 0.8 #accretion time in Ma\n",
    "rlen = int((r/1e3))\n",
    "trcmf = np.zeros([rlen-1])\n",
    "rcmf = params['rcmf'].values[0]\n",
    "for i in range(rlen-1): #don't include surface\n",
    "    trcmf[i]=tall[Tall[nmantle+i,:]>=(rcmf*(400)+1400)][-1]\n",
    "max_rcmf = np.max(trcmf/Myr)\n",
    "min_rcmf = np.min(trcmf/Myr)\n",
    "#boundary layer thickness at rcmf\n",
    "d0_rcmf1 = d0[t_plot_t<min_rcmf][0]\n",
    "dl_rcmf1 = dl[t_plot_t<min_rcmf][-1]\n",
    "d0_rcmf2 = d0[t_plot_t<min_rcmf][-1]\n",
    "dl_rcmf2 = dl[t_plot_t<max_rcmf][-1]\n",
    "print(f'The shortest time before T<T_C is {min_rcmf:.2f} Ma \\\n",
    "and the longest time before T<T_C is {max_rcmf:.2f} Ma')\n",
    "print(f'The lid thickness at rcmf is {d0_rcmf1:.2f}-{d0_rcmf2:.2f}m and the CMB boundary layer thickness is {dl_rcmf1:.2f}-{dl_rcmf2:.2f}')"
   ]
  },
  {
   "cell_type": "markdown",
   "id": "024a53e7",
   "metadata": {},
   "source": [
    "## Temperature and heat fluxes <a class=\"anchor\" id=\"flux\"></a>\n",
    "<p align=\"right\">(<a href=\"#top\">back to top</a>)</p>"
   ]
  },
  {
   "cell_type": "markdown",
   "id": "e2915bd3",
   "metadata": {},
   "source": [
    "Have plotted only the central core temperature and convective mantle temperature.\n",
    "\n",
    "This is Figure 7 from Sanderson et. al. 2024a."
   ]
  },
  {
   "cell_type": "code",
   "execution_count": null,
   "id": "29c1b2fc",
   "metadata": {},
   "outputs": [],
   "source": [
    "dl_end = int(dl[Tm_conv==0][0]/dr) #index of CMB b.l. base above CMB at cessation of convection\n",
    "\n",
    "with sns.plotting_context('paper',font_scale=1.7,rc={'lines.linewidth':3}):\n",
    "    fig, ax = plt.subplots(nrows=3,ncols=1,tight_layout=True,figsize=[15,15])\n",
    "    xmin=tstart\n",
    "\n",
    "    #temperatures as function of time\n",
    "    ax[0].plot(t_plot_t,Tc,label='central core temperature',color='black')\n",
    "    ax[0].plot(t_plot_t[Tm_conv!=0],Tm_conv[Tm_conv!=0],label='convective mantle interior temperature, $T_m$',color='#FF5350')\n",
    "    ax[0].plot(t_plot_t[Tm_conv==0],T_profile[Tm_conv==0,nmantle+dl_end+2],label='conductive mantle temperature at final position of $\\delta_l$',color='#FF5350',linestyle='dashed')\n",
    "    ax[0].set(ylim=[1250,1550],ylabel='T/K')\n",
    "    if log_time == True:\n",
    "        ax[0].set_xscale('log')\n",
    "    \n",
    "    ax[0].legend(loc='lower left')\n",
    "    ax[0].set_title('a) Temperatures',loc='left')\n",
    "    #fluxes as function of time\n",
    "    Fcmb_neg = Fcmb[Fcmb<0]\n",
    "    Fcmb_pos = Fcmb[Fcmb>0]\n",
    "\n",
    "    ln1, = ax[1].semilogy(t_plot_t,Fs,label='surface heat flux, $F_s$',color='#5F0F40',linestyle='dotted')\n",
    "    ln2, = ax[1].plot(t_plot_t[Fcmb<0],abs(Fcmb_neg),label='negative CMB heat flux, $F_{CMB}<0$',color='#5BC0EB')\n",
    "    ln3, = ax[1].plot(t_plot_t[Fcmb>0],Fcmb_pos,label='positive CMB heat flux, $F_{CMB}>0$',color='#0F4C5C')\n",
    "    ln4, = ax[1].semilogy(t_plot_t,Fad,label='adiabatic heat flux $F_{ad}$',color='#E36414',linestyle='dashed')\n",
    "    ln5, = ax[1].semilogy(t_plot_t,Frad,label='radiogenic heat flux $F_{rad}$',color='#9A031E',linestyle='-.')\n",
    "    ln6 = ax[1].fill_betweenx(y=[1e-4,100],x1=diff_time,x2=tstrat_remove,alpha=0.35,color='#78c3fb',label='formation of stratification')\n",
    "    ln7 = ax[1].fill_betweenx(y=[1e-4,100],x1=tstrat_remove,x2=terode,alpha=0.35,color='#8f2d56',label='erosion of stratification')\n",
    "    ln8 = ax[1].fill_betweenx(y=[1e-4,100],x1=terode,x2=min_rcmf,alpha=0.35,color='#c7aa74',label='top of mantle above $\\phi_C$')\n",
    "    ln9 = ax[1].fill_betweenx(y=[1e-4,100],x1=min_rcmf,x2=max_rcmf,alpha=0.35,color='#957964',label='bottom of mantle above $\\phi_C$')\n",
    "    ln10 = ax[1].fill_betweenx(y=[1e-4,100],x1=fcond_t,x2=max(t_plot_t),alpha=0.35,color='#783f8e',label='mantle conducting')\n",
    "    ln11 = ax[1].fill_betweenx(y=[1e-4,1e-3],x1=on1,x2=off1,alpha=0.35,color='grey',label='dynamo on')\n",
    "    ax[1].fill_betweenx(y=[1e-4,1e-3],x1=on2,x2=off2,alpha=0.35,color='grey')\n",
    "    if log_time == True:\n",
    "        ax[1].set_xscale('log')\n",
    "    ax[1].set(ylim=[1e-4,1e2],ylabel='Heat flux / W$m^{-2}$')\n",
    "    #ax[1].legend(bbox_to_anchor=[1,0.9],ncol=1)\n",
    "    leg1 = ax[1].legend(handles=[ln1,ln2,ln3,ln4,ln5],bbox_to_anchor=(0.7,1))\n",
    "    leg2 = ax[1].legend(handles=[ln6,ln7,ln8,ln9,ln10,ln11],bbox_to_anchor=(1,1))\n",
    "    ax[1].add_artist(leg1)\n",
    "    ax[1].add_artist(leg2)\n",
    "    ax[1].set_title('b) Mantle',loc='left')\n",
    "    \n",
    "    #core power\n",
    "    wn = 200 #int(len(t_plot_t[t_plot_t>tsolid_start])/20)\n",
    "    ax[2].plot(t_plot_t,Fcmb*4*np.pi*rc**2/1e9,label='CMB heat flow, $Q_{CMB}$',color='#0F4C5C')\n",
    "    ax[2].plot(t_plot_t,qrad,label='radiogenic heat, $Q_R$',color='#9A031E',linestyle='-.')\n",
    "    ax[2].plot(t_plot_t[t_plot_t<tsolid_start],qs[t_plot_t<tsolid_start],label='secular cooling, $Q_S$',color='#E36414',linestyle='dashed')\n",
    "    ax[2].plot(t_plot_t[t_plot_t>tsolid_start],pd.Series(qs[t_plot_t>tsolid_start]).rolling(window=wn).mean(),color='#E36414',linestyle='dashed')\n",
    "    ax[2].plot(t_plot_t[t_plot_t>tsolid_start],pd.Series(ql[t_plot_t>tsolid_start]).rolling(window=wn).mean(),label='latent heat, $Q_L$',color='#5BC0EB',linestyle='dotted')\n",
    "    #ax[2].plot(t_plot_t[t_plot_t>tsolid_start],pd.Series(qg[t_plot_t>tsolid_start]).rolling(window=wn).mean(),label='gravitational energy,$Q_G$')\n",
    "    ax[2].legend(loc='upper right')\n",
    "    ax[2].set_title('c) Core',loc='left')\n",
    "    if log_time == True:\n",
    "        ax[2].set_xscale('log')\n",
    "    ax[2].set(ylabel='Power/GW',xlabel='Time /Ma after CAI formation')\n",
    "\n",
    "    if save == True:\n",
    "        plt.savefig(f'{save_path}run_{run}_flux.png',dpi=500)"
   ]
  },
  {
   "cell_type": "markdown",
   "id": "7a48b211",
   "metadata": {},
   "source": [
    "## Magnetic Field Strength <a class=\"anchor\" id=\"Bfield\"></a>\n",
    "<p align=\"right\">(<a href=\"#top\">back to top</a>)</p>"
   ]
  },
  {
   "cell_type": "markdown",
   "id": "e59e6d90",
   "metadata": {},
   "source": [
    "Extract compositional and thermal buoyancy components"
   ]
  },
  {
   "cell_type": "code",
   "execution_count": null,
   "id": "5bd33fe8",
   "metadata": {},
   "outputs": [],
   "source": [
    "comp = buoyr[0,:] #compostional buoyancy component\n",
    "therm = buoyr[1,:] #thermal buoyancy component"
   ]
  },
  {
   "cell_type": "code",
   "execution_count": null,
   "id": "385db85f",
   "metadata": {},
   "outputs": [],
   "source": [
    "Xs_eutectic = 33\n",
    "print(f'The core reaches the eutectic at {t_plot_t[Xs>=Xs_eutectic][0]:.2f} Ma')"
   ]
  },
  {
   "cell_type": "markdown",
   "id": "83cfeca7",
   "metadata": {},
   "source": [
    "Create data frames for rolling average compositional dynamo strengths"
   ]
  },
  {
   "cell_type": "code",
   "execution_count": null,
   "id": "808dcf1f",
   "metadata": {},
   "outputs": [],
   "source": [
    "compdf = pd.Series(comp[f<f0])\n",
    "thermdf = pd.Series(therm[f<f0])\n",
    "Remdf = pd.Series(Rem[f<f0])\n",
    "Bdf = pd.Series(B[f<f0])"
   ]
  },
  {
   "cell_type": "markdown",
   "id": "a61177c9",
   "metadata": {},
   "source": [
    "Make figure - Figure 8 in Sanderson et. al. 2024b"
   ]
  },
  {
   "cell_type": "markdown",
   "id": "a918f55b",
   "metadata": {},
   "source": [
    "There is a lag between the onset of solidification and the rolling average so plot the original time series and the average."
   ]
  },
  {
   "cell_type": "code",
   "execution_count": null,
   "id": "a250c241",
   "metadata": {},
   "outputs": [],
   "source": [
    "wn = 75 #averaging window width\n",
    "fig, ax = plt.subplots(nrows=2,ncols=1,sharex='col',figsize=[10,8])\n",
    "#B and Rem\n",
    "ax2 = ax[0].twinx()\n",
    "ln1 = ax[0].plot(t_plot_t[f>=f0],np.ma.masked_where(Rem[f>=f0]<10,B[f>=f0]),color='black')\n",
    "ax[0].plot(t_plot_t[f<f0],np.ma.masked_where(Rem[f<f0]<10,B[f<f0]),color='black',alpha=0.1) #original series\n",
    "ax[0].plot(t_plot_t[f<f0],Bdf.rolling(window=wn,center=True).mean(),color='black') #rolling average\n",
    "ln2 = ax2.plot(t_plot_t[f>=f0],Rem[f>=f0],color='darkorchid')\n",
    "ax2.plot(t_plot_t[f<f0],Rem[f<f0],color='darkorchid',alpha=0.1) #original series\n",
    "ax2.plot(t_plot_t[f<f0],Remdf.rolling(window=wn,center=True).mean(),color='darkorchid') #rolling average\n",
    "\n",
    "\n",
    "ax2.hlines(10,min(t_plot_t),max(t_plot_t),linestyle='dashed',color='darkorchid')\n",
    "ax[0].legend(ln1+ln2,['Magnetic field strength','Re$_m$'])\n",
    "ax[0].set_ylabel('Magnetic field strength/ $\\mu T$')\n",
    "ax2.set_ylabel('$Re_m$')\n",
    "ax[0].tick_params(axis='y',colors='black')\n",
    "ax2.tick_params(axis='y',colors='darkorchid')\n",
    "ax[0].yaxis.label.set_color('black') \n",
    "ax2.yaxis.label.set_color('darkorchid') \n",
    "\n",
    "#thermal and compositional buoyancy flux\n",
    "ln3 = ax[1].plot(t_plot_t[f>=f0],therm[f>=f0],color='black')\n",
    "#ax[1].plot(t_plot_t[f<f0],therm[f<f0],color='black',alpha=0.1)\n",
    "ax[1].plot(t_plot_t[f<f0],thermdf.rolling(window=wn,center=True).mean(),color='black')\n",
    "ax[1].plot(t_plot_t[f<f0],comp[f<f0],color='darkorchid',alpha=0.1)\n",
    "ln4=ax[1].plot(t_plot_t[f<f0],compdf.rolling(window=wn,center=True).mean(),color='darkorchid')\n",
    "ax[1].legend(ln3+ln4,['thermal','compositional'])\n",
    "ax[1].set(ylim=[1e-11,1e-8],ylabel='Buoyancy flux per unit area /kg$s^{-1}m^{-2}$',xlabel='Time/Ma',xscale='log')\n",
    "\n",
    "if save == True:\n",
    "    plt.savefig(f'{save_path}run_{run}_Bbuoy.png',dpi=500)"
   ]
  },
  {
   "cell_type": "code",
   "execution_count": null,
   "id": "cd61c9b1",
   "metadata": {},
   "outputs": [],
   "source": []
  }
 ],
 "metadata": {
  "kernelspec": {
   "display_name": "Python 3 (ipykernel)",
   "language": "python",
   "name": "python3"
  },
  "language_info": {
   "codemirror_mode": {
    "name": "ipython",
    "version": 3
   },
   "file_extension": ".py",
   "mimetype": "text/x-python",
   "name": "python",
   "nbconvert_exporter": "python",
   "pygments_lexer": "ipython3",
   "version": "3.9.16"
  }
 },
 "nbformat": 4,
 "nbformat_minor": 5
}
