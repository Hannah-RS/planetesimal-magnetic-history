{
 "cells": [
  {
   "cell_type": "markdown",
   "id": "476b1510",
   "metadata": {},
   "source": [
    "# Plots for Icarus paper <a class=\"anchor\" id=\"top\"></a>\n",
    "\n",
    "\n",
    "### Example run\n",
    "These plots are for runs which are comparable to Case 1 of instantaneous accretion in [Dodds et. al. 2021](https://agupubs.onlinelibrary.wiley.com/doi/full/10.1029/2020JE006704). r=500km, $t_{acc}$=0.8 Ma after CAI formation, $X_{S,0}$=[27.1,30.05,33] wt%, all other parameters are median values from Sanderson et. al. 2024 (EPSL. in review). For runs 1-6, odd number runs have $m_{frac}=0$ and even number runs have $m_{frac}=1$. Run 7 is for a 400km planetesimal accreted at 0.5Ma after CAI formation for comparison with the single accretion event model in [Bryson et. al. 2019](https://doi.org/10.1016/j.epsl.2019.05.046)\n",
    "\n",
    "+ [Summary stats](#stats)\n",
    "+ [Temperature profile](#temp)\n",
    "+ [Heat fluxes](#flux)\n",
    "+ [Field strength and Reynolds number](#Bfield)\n",
    "+ [Solidification endmembers](#icfrac)\n",
    "\n",
    "### Core solidification discussion\n",
    "+ [Convective lengthscales](#conv)\n",
    "    + [Ratio of lengthscales to B and Rem](#ratio)\n",
    "+ [Thermal vs compositional dynamo field strength](#therm-comp)\n"
   ]
  },
  {
   "cell_type": "markdown",
   "id": "858c9a33",
   "metadata": {},
   "source": [
    "### Set-up"
   ]
  },
  {
   "cell_type": "code",
   "execution_count": null,
   "id": "f8c9fc40",
   "metadata": {},
   "outputs": [],
   "source": [
    "import numpy as np\n",
    "import pandas as pd\n",
    "import matplotlib.pyplot as plt\n",
    "import matplotlib as mpl\n",
    "import sys\n",
    "sys.path.append('../')\n",
    "from load_info import load_run_info, load_run_results\n",
    "\n",
    "#scale time to Myr\n",
    "from plot_params import Myr, f0"
   ]
  },
  {
   "cell_type": "markdown",
   "id": "e2694a4b",
   "metadata": {},
   "source": [
    "Choose run for main thermal plots and where to save files.\n",
    "\n",
    "Run 4 has $m_{frac}$=1 and the median value of $X_{S,0}$ so use as default for plotting."
   ]
  },
  {
   "cell_type": "code",
   "execution_count": null,
   "id": "31e9a252",
   "metadata": {},
   "outputs": [],
   "source": [
    "run=4\n",
    "save = True# do you want to save your figures?\n",
    "automated = True\n",
    "log_time = True #do you want to plot time logarithmically\n",
    "path = '../Results_combined/Dodds_comp/' #path to files \n",
    "save_path = '../Plots/Icarus_paper/'"
   ]
  },
  {
   "cell_type": "markdown",
   "id": "e6b6ddd9",
   "metadata": {},
   "source": [
    "Load results for differentiation"
   ]
  },
  {
   "cell_type": "code",
   "execution_count": null,
   "id": "8f615fff",
   "metadata": {},
   "outputs": [],
   "source": [
    "npzfile = np.load(f'{path}run_{run}_diff.npz')\n",
    "Tdiff = npzfile['Tdiff'] \n",
    "iron = npzfile['Xfe']\n",
    "silicate_d = npzfile['Xsi']\n",
    "tdiff = npzfile['t_diff']\n",
    "Ra_d = npzfile['Ra']\n",
    "Ra_crit_d = npzfile['Ra_crit']\n",
    "d0_diff = npzfile['d0']"
   ]
  },
  {
   "cell_type": "markdown",
   "id": "052ada3a",
   "metadata": {},
   "source": [
    "Load results for thermal evolution"
   ]
  },
  {
   "cell_type": "code",
   "execution_count": null,
   "id": "81a73c3d",
   "metadata": {},
   "outputs": [],
   "source": [
    "npzfile = np.load(f'{path}run_{run}.npz')\n",
    "Tc= npzfile['Tc'] \n",
    "Tc_conv = npzfile['Tc_conv']\n",
    "Tcmb = npzfile['Tcmb']\n",
    "Tm_mid = npzfile['Tm_mid']\n",
    "Tm_conv = npzfile['Tm_conv']\n",
    "Tm_surf = npzfile['Tm_surf'] \n",
    "T_profile = npzfile['T_profile']\n",
    "f = npzfile['f'] \n",
    "\n",
    "t = npzfile['t'] #time in s\n",
    "Rem = npzfile['Rem'] # magnetic Reynolds number \n",
    "B = npzfile['B']/1e-6 # magnetic field strength [T] \n",
    "buoyr = npzfile['buoyr'] #compositional buoyancy flux and thermal buoyancy flux\n",
    "Flux = npzfile['Flux']\n",
    "Ra = npzfile['Ra'] \n",
    "RaH = npzfile['RaH'] \n",
    "RanoH = npzfile['RanoH'] \n",
    "Racrit = npzfile['Racrit'] \n",
    "d0 = npzfile['d0'] \n",
    "min_unstable = npzfile['min_unstable'] \n",
    "Urey = npzfile['Ur']\n",
    "Xs = npzfile['Xs']\n",
    "dl = npzfile['dl']\n",
    "dc = npzfile['dc']\n",
    "Fs = Flux[0]\n",
    "Fcmb = Flux[1]\n",
    "Fad = Flux[2]\n",
    "Frad = Flux[3]"
   ]
  },
  {
   "cell_type": "markdown",
   "id": "8c75b413",
   "metadata": {},
   "source": [
    "Concatenate shared variables"
   ]
  },
  {
   "cell_type": "code",
   "execution_count": null,
   "id": "470a4e51",
   "metadata": {},
   "outputs": [],
   "source": [
    "Tall = np.hstack((Tdiff,np.transpose(T_profile)))\n",
    "tall = np.append(tdiff,t)\n",
    "iron_all = np.hstack\n",
    "Ra_all = np.append(Ra_d,Ra)\n",
    "Ra_crit_all = np.append(Ra_crit_d,Racrit)\n",
    "d0_all = np.append(d0_diff,d0)"
   ]
  },
  {
   "cell_type": "markdown",
   "id": "ed30a852",
   "metadata": {},
   "source": [
    "Scale time by Myr"
   ]
  },
  {
   "cell_type": "code",
   "execution_count": null,
   "id": "cf47ce2b",
   "metadata": {},
   "outputs": [],
   "source": [
    "t_plot_all = tall/Myr\n",
    "t_plot_t = t/Myr"
   ]
  },
  {
   "cell_type": "markdown",
   "id": "bd60c1d2",
   "metadata": {},
   "source": [
    "Run info"
   ]
  },
  {
   "cell_type": "code",
   "execution_count": null,
   "id": "36932f53",
   "metadata": {},
   "outputs": [],
   "source": [
    "if automated == True:\n",
    "    r, dr, tstart, dt, viscosity, icfrac = load_run_info(run,f'{path}auto_params.csv')\n",
    "else: \n",
    "    r, dr, tstart, dt, viscosity, icfrac = load_run_info(run,f'{path}run_info.csv')"
   ]
  },
  {
   "cell_type": "markdown",
   "id": "b26d370e",
   "metadata": {},
   "source": [
    "## Summary statistics <a class=\"anchor\" id=\"stats\"></a>\n",
    "<p align=\"right\">(<a href=\"#top\">back to top</a>)</p>"
   ]
  },
  {
   "cell_type": "markdown",
   "id": "142810ca",
   "metadata": {},
   "source": [
    "Load in results data"
   ]
  },
  {
   "cell_type": "code",
   "execution_count": null,
   "id": "bd4aa18e",
   "metadata": {},
   "outputs": [],
   "source": [
    "results = load_run_results(run,f'{path}run_results.csv')"
   ]
  },
  {
   "cell_type": "markdown",
   "id": "a6c76e3b",
   "metadata": {},
   "source": [
    "Load in run parameters"
   ]
  },
  {
   "cell_type": "code",
   "execution_count": null,
   "id": "9eafd74c",
   "metadata": {},
   "outputs": [],
   "source": [
    "if automated == True:\n",
    "    params = pd.read_csv(f'{path}auto_params.csv',skiprows=[1])\n",
    "    params = params[params['run']==run]\n",
    "else:\n",
    "    params = pd.read_csv(f'{path}run_info.csv',skiprows=[1])\n",
    "    params = params[params['run']==run]"
   ]
  },
  {
   "cell_type": "markdown",
   "id": "00b5daf1",
   "metadata": {},
   "source": [
    "Assign to variables values that will be used later"
   ]
  },
  {
   "cell_type": "code",
   "execution_count": null,
   "id": "2c50f51a",
   "metadata": {},
   "outputs": [],
   "source": [
    "nmantle = int((r/dr)/2)\n",
    "terode = results.at[0,'terode']\n",
    "tstrat_remove = results.at[0,'tstrat_remove']\n",
    "diff_time = results.at[0,'diff_time']\n",
    "peak_coreT = np.amax(Tall[:nmantle,:])\n",
    "loc_max = np.where(Tall[:nmantle,:]==peak_coreT)[1][0] #take the set of time coordinates and first value (they should all be the same)\n",
    "tcoremax = tall[loc_max]/Myr\n",
    "fcond_t = results.at[0,'fcond_t']\n",
    "diff_T =results.at[0,'diff_T']\n",
    "\n",
    "#dynamo on and off times\n",
    "var_results = pd.read_csv(path+'run_results.csv',skiprows=[1])\n",
    "on1=var_results.loc[var_results['run']==run,'magon_1'].values[0]\n",
    "off1=var_results.loc[var_results['run']==run,'magoff_1'].values[0]\n",
    "on2=var_results.loc[var_results['run']==run,'magon_2'].values[0]\n",
    "off2=var_results.loc[var_results['run']==run,'magoff_2'].values[0]\n",
    "on3=var_results.loc[var_results['run']==run,'magon_3'].values[0]\n",
    "off3=var_results.loc[var_results['run']==run,'magoff_3'].values[0]"
   ]
  },
  {
   "cell_type": "markdown",
   "id": "531bac0d",
   "metadata": {},
   "source": [
    "Print a summary"
   ]
  },
  {
   "cell_type": "code",
   "execution_count": null,
   "id": "a7877d6a",
   "metadata": {},
   "outputs": [],
   "source": [
    "print(f\"Differentiation is at {results.at[0,'diff_time']:.2f} Myr\")\n",
    "print(f\"The temperature at differentiation is at {results.at[0,'diff_T']:.2f}K\")\n",
    "print(f\"Peak magma ocean temp is {results.at[0,'peakT']:.0f}K at {results.at[0,'tmax']:.2f} Myr\")\n",
    "print(f\"Stratification starts at {results.at[0,'tstrat_start']:.2f} Myr\")\n",
    "print(f\"Mantle hotter than the core until {results.at[0,'tstrat_remove']:.2f} Myr\")\n",
    "print(f\"Erosion of stratification by {results.at[0,'terode']:.2f} Myr\") \n",
    "print(f\"End of mantle convection by {results.at[0,'fcond_t']:.2f} Myr\")\n",
    "print(f\"The maximum thermal Rem is {results.at[0,'max_Rtherm']:.2f} at {results.at[0,'max_Rtherm']:.2f} Myr\")\n",
    "print(f\"The maximum thermal field strength is {results.at[0,'max_Btherm']:.2e}T at {results.at[0,'max_Bthermt']:.2f} Myr\")\n",
    "print(f\"The maximum compositional Rem is {results.at[0,'max_Rcomp']:.2f}\")\n",
    "print(f\"The maximum compositional field strength is {results.at[0,'max_Bcomp']:.2e}\")\n",
    "print(f'The dynamo starts at {on1:.2f} Myr, stops at {off1:.2f} Myr and lasts {off1-on1:.2f} Myr')\n",
    "if on2 > 0:\n",
    "    print(f'The second dynamo starts at {on2:.2f} Myr, stops at {off2:.2f} Myr and lasts {off2-on2:.2f} Myr')\n",
    "if on3 > 0:\n",
    "    print(f'The third dynamo starts at {on3:.2f} Myr, stops at {off3:.2f} Myr and lasts {off3-on3:.2f} Myr')\n",
    "print(f\"Core solidification begins at {results.at[0,'tsolid_start']:.2f} Ma and ends at {results.at[0,'tsolid']:.2f} Ma\")"
   ]
  },
  {
   "cell_type": "markdown",
   "id": "6b9f8dde",
   "metadata": {},
   "source": [
    "# Example run"
   ]
  },
  {
   "cell_type": "markdown",
   "id": "7443d762",
   "metadata": {},
   "source": [
    "## Temperature profile <a class=\"anchor\" id=\"temp\"></a>\n",
    "<p align=\"right\">(<a href=\"#top\">back to top</a>)</p>"
   ]
  },
  {
   "cell_type": "markdown",
   "id": "71e0ab49",
   "metadata": {},
   "source": [
    "Create r array for plotting and prelog time to speed up plotting"
   ]
  },
  {
   "cell_type": "code",
   "execution_count": null,
   "id": "1b4fea43",
   "metadata": {},
   "outputs": [],
   "source": [
    "log_time = False"
   ]
  },
  {
   "cell_type": "code",
   "execution_count": null,
   "id": "893c3034",
   "metadata": {},
   "outputs": [],
   "source": [
    "rplot = np.arange(0,int(r)+dr,int(dr))/1e3\n",
    "r_unstable=np.array([]) \n",
    "for ind in min_unstable:\n",
    "    r_unstable = np.append(r_unstable,rplot[int(ind)])\n",
    "rc = r/2\n",
    "\n",
    "#log time\n",
    "if log_time == True:\n",
    "    tpt = np.log10(t_plot_t)\n",
    "    tpa = np.log10(t_plot_all)\n",
    "    lfcond = np.log10(fcond_t)\n",
    "    on1l = np.log10(on1)\n",
    "    on2l = np.log10(on2)\n",
    "    on3l = np.log10(on3)\n",
    "    off1l = np.log10(off1)\n",
    "    off2l = np.log10(off3)\n",
    "    off3l = np.log10(off3)\n",
    "else: \n",
    "    tpt = t_plot_t\n",
    "    tpa = t_plot_all\n",
    "    lfcond = fcond_t\n",
    "    on1l = on1\n",
    "    on2l = on2\n",
    "    on3l = on3\n",
    "    off1l = off1\n",
    "    off2l = off2\n",
    "    off3l = off3"
   ]
  },
  {
   "cell_type": "markdown",
   "id": "e037eae4",
   "metadata": {},
   "source": [
    "Make figure"
   ]
  },
  {
   "cell_type": "code",
   "execution_count": null,
   "id": "67d5a668",
   "metadata": {},
   "outputs": [],
   "source": [
    "plt.figure(figsize=[10,20/3])\n",
    "plt.pcolormesh(tpa[::2],rplot[::2],Tall[::2,::2],shading = 'gouraud',vmin=200,vmax=1600)\n",
    "plt.hlines(rc/1e3,tpt[0],max(tpa),linestyle='--',color='black',label='CMB')\n",
    "plt.vlines(tpt[0],0,r/1e3,linestyle='-.',label='Differentiation')\n",
    "plt.fill_betweenx([0,rc/5e3],on1l,off1l,alpha=0,hatch='/',label='dynamo on')\n",
    "plt.plot(tpt,r_unstable,linestyle='dotted',label='Convecting core')\n",
    "if on2 > 0:\n",
    "    plt.fill_betweenx([0,rc/5e3],on2l,off2l,alpha=0,hatch='/')\n",
    "if on3 > 0: \n",
    "    plt.fill_betweenx([0,rc/5e3],on3l,off3l,alpha=0,hatch='/')\n",
    "\n",
    "if np.any(t_plot_t<fcond_t):\n",
    "    plt.plot(tpt[(t_plot_t<=fcond_t)&(d0<(r-rc))],(r-d0[(t_plot_t<=fcond_t)&(d0<(r-rc))])/1e3,linestyle='dashed',label='base of $\\delta_0$',color='blue')\n",
    "    plt.plot(tpt[(t_plot_t<=fcond_t)&(r_unstable==0)][1:],(rc+dl[(t_plot_t<=fcond_t)&(r_unstable==0)][1:])/1e3,linestyle='dotted',label='top of $\\delta_l$',color='blue')\n",
    "    plt.vlines(tpt[t_plot_t<=fcond_t][-1],r/1e3,rc/1e3,linestyle='dotted',label='conductive mantle',color='red')\n",
    "plt.plot(tpt[f<f0],f[f<f0]*rc/1e3,linestyle='-.',color='black',label='Top of liquid core')\n",
    "#labels and limits\n",
    "plt.ylabel('Distance from centre of planetesimal/km')\n",
    "plt.xlabel('Time / Ma')\n",
    "plt.colorbar(label='Temperature/K')\n",
    "plt.ylim(bottom=0)\n",
    "plt.legend(bbox_to_anchor=[1.6,0.5])\n",
    "plt.xscale('log')\n",
    "if save == True:\n",
    "    plt.savefig(f'{save_path}run_{run}_thermal_profile.png',bbox_inches='tight',dpi=500)"
   ]
  },
  {
   "cell_type": "markdown",
   "id": "b9b3a0ef",
   "metadata": {},
   "source": [
    "How long is the planetesimal below 700K?"
   ]
  },
  {
   "cell_type": "code",
   "execution_count": null,
   "id": "918a6e13",
   "metadata": {},
   "outputs": [],
   "source": [
    "tacc = 0.8 #accretion time in Ma\n",
    "rlen = int((r/1e3)*2)\n",
    "tsint = np.zeros([rlen])\n",
    "for i in range(rlen):\n",
    "    tsint[i]=tall[Tall[i,:]>700][0]\n",
    "tshort = np.min(tsint/Myr-tacc)\n",
    "print(f'The shortest time before sintering is {tshort:.2f} Ma \\\n",
    "and the longest time before sintering is {np.max(tsint/Myr-tacc):.2f} Ma')"
   ]
  },
  {
   "cell_type": "code",
   "execution_count": null,
   "id": "0f93cc6e",
   "metadata": {},
   "outputs": [],
   "source": [
    "rcheck = rplot[:-1] #remove surface point\n",
    "rsint = rcheck[(tsint/Myr)>(tshort+tacc)]\n",
    "print(f'The inner {rsint[0]}km sinters within {tshort:.1f} Ma of accretion')"
   ]
  },
  {
   "cell_type": "markdown",
   "id": "f255fa50",
   "metadata": {},
   "source": [
    "How long is the planetesimal above rcmf?"
   ]
  },
  {
   "cell_type": "code",
   "execution_count": null,
   "id": "4f2b63af",
   "metadata": {},
   "outputs": [],
   "source": [
    "tacc = 0.8 #accretion time in Ma\n",
    "rlen = int((r/1e3))\n",
    "trcmf = np.zeros([rlen])\n",
    "rcmf = params['rcmf'].values[0]\n",
    "for i in range(rlen):\n",
    "    trcmf[i]=tall[Tall[nmantle+i,:]>(rcmf*(400)+1400)][-1]\n",
    "max_rcmf = np.max(trcmf/Myr-tacc)\n",
    "print(f'The shortest time before T<T_C is {np.min(trcmf/Myr-tacc):.2f} Ma \\\n",
    "and the longest time before T<T_C is {max_rcmf:.2f} Ma')"
   ]
  },
  {
   "cell_type": "markdown",
   "id": "024a53e7",
   "metadata": {},
   "source": [
    "## Temperature and heat fluxes <a class=\"anchor\" id=\"flux\"></a>\n",
    "<p align=\"right\">(<a href=\"#top\">back to top</a>)</p>"
   ]
  },
  {
   "cell_type": "markdown",
   "id": "e2915bd3",
   "metadata": {},
   "source": [
    "Have plotted only the central core temperature and convective mantle temperature."
   ]
  },
  {
   "cell_type": "code",
   "execution_count": null,
   "id": "e4e5bfee",
   "metadata": {},
   "outputs": [],
   "source": [
    "log_time = True"
   ]
  },
  {
   "cell_type": "code",
   "execution_count": null,
   "id": "4ef805bb",
   "metadata": {},
   "outputs": [],
   "source": [
    "import seaborn as sns"
   ]
  },
  {
   "cell_type": "code",
   "execution_count": null,
   "id": "29c1b2fc",
   "metadata": {},
   "outputs": [],
   "source": [
    "dl_end = int(dl[Tm_conv==0][0]/dr) #index of CMB b.l. base above CMB at cessation of convection\n",
    "\n",
    "with sns.plotting_context('paper',font_scale=1.4):\n",
    "    plt.figure(tight_layout=True,figsize=[10,7])\n",
    "    xmin=tstart\n",
    "\n",
    "    #temperatures as function of time\n",
    "    plt.subplot(2,1,1)\n",
    "\n",
    "    plt.plot(t_plot_t,Tc,label='central core temperature',color='black')\n",
    "    plt.plot(t_plot_t[Tm_conv!=0],Tm_conv[Tm_conv!=0],label='convective mantle temperature',color='#FF5350')\n",
    "    plt.plot(t_plot_t[Tm_conv==0],T_profile[Tm_conv==0,nmantle+dl_end+2],label='conductive mantle temperature',color='#FF5350',linestyle='dashed')\n",
    "    if log_time == True:\n",
    "        plt.xscale('log')\n",
    "    plt.ylim([1250,1550])\n",
    "    plt.ylabel('T/K')\n",
    "    plt.legend(loc='lower left')\n",
    "\n",
    "    #fluxes as function of time\n",
    "    plt.subplot(2,1,2)\n",
    "    Fcmb_neg = Fcmb[Fcmb<0]\n",
    "    Fcmb_pos = Fcmb[Fcmb>0]\n",
    "\n",
    "    plt.semilogy(t_plot_t,Fs,label='$F_s$',color='#0F4C5C')\n",
    "    plt.scatter(t_plot_t[Fcmb<0],abs(Fcmb_neg),label='$-F_{CMB}$',color='#5BC0EB',s=2)\n",
    "    plt.scatter(t_plot_t[Fcmb>0],Fcmb_pos,label='$F_{CMB}$',color='#5F0F40',s=2)\n",
    "    plt.semilogy(t_plot_t,Fad,label='$F_{ad}$',color='#E36414',linestyle='dashed')\n",
    "    plt.semilogy(t_plot_t,Frad,label='$F_{rad}$',color='#9A031E',linestyle='-.')\n",
    "    plt.fill_betweenx(y=[1e-4,100],x1=tstrat_remove,x2=terode,label='erosion of stratification',alpha=0.2)\n",
    "    plt.fill_betweenx(y=[1e-4,100],x1=fcond_t,x2=max(t_plot_t),label='mantle conducting',alpha=0.2)\n",
    "    plt.fill_betweenx(y=[1e-4,1e-3],x1=on1,x2=off1,label='dynamo on',alpha=0.2,color='grey')\n",
    "    plt.fill_betweenx(y=[1e-4,1e-3],x1=on2,x2=off2,alpha=0.2,color='grey')\n",
    "    if log_time == True:\n",
    "        plt.xscale('log')\n",
    "    plt.xlabel('Time/ Ma')\n",
    "\n",
    "    plt.ylim([1e-4,1e2])   #use these limits when comparing runs\n",
    "    plt.ylabel('Heat flux/ W$m^{-2}$')\n",
    "    plt.legend(loc='upper right',ncol=2)\n",
    "\n",
    "    if save == True:\n",
    "        plt.savefig(f'{save_path}run_{run}_flux.png',dpi=500)"
   ]
  },
  {
   "cell_type": "markdown",
   "id": "7a48b211",
   "metadata": {},
   "source": [
    "## Magnetic Field Strength <a class=\"anchor\" id=\"Bfield\"></a>\n",
    "<p align=\"right\">(<a href=\"#top\">back to top</a>)</p>"
   ]
  },
  {
   "cell_type": "markdown",
   "id": "e59e6d90",
   "metadata": {},
   "source": [
    "Extract compositional and thermal buoyancy components"
   ]
  },
  {
   "cell_type": "code",
   "execution_count": null,
   "id": "5bd33fe8",
   "metadata": {},
   "outputs": [],
   "source": [
    "comp = buoyr[0,:]\n",
    "therm = buoyr[1,:]"
   ]
  },
  {
   "cell_type": "code",
   "execution_count": null,
   "id": "385db85f",
   "metadata": {},
   "outputs": [],
   "source": [
    "Xs_eutectic = 33\n",
    "print(f'The core reaches the eutectic at {t_plot_t[Xs>=Xs_eutectic][0]:.2f} Ma')"
   ]
  },
  {
   "cell_type": "markdown",
   "id": "83cfeca7",
   "metadata": {},
   "source": [
    "Create data frames for rolling average compositional dynamo strengths"
   ]
  },
  {
   "cell_type": "code",
   "execution_count": null,
   "id": "808dcf1f",
   "metadata": {},
   "outputs": [],
   "source": [
    "compdf = pd.Series(comp[f<f0])\n",
    "thermdf = pd.Series(therm[f<f0])\n",
    "Remdf = pd.Series(Rem[f<f0])\n",
    "Bdf = pd.Series(B[f<f0])"
   ]
  },
  {
   "cell_type": "markdown",
   "id": "a61177c9",
   "metadata": {},
   "source": [
    "Make figure"
   ]
  },
  {
   "cell_type": "markdown",
   "id": "a918f55b",
   "metadata": {},
   "source": [
    "There is a lag between the onset of solidification and the rolling average so plot the original time series and the average."
   ]
  },
  {
   "cell_type": "code",
   "execution_count": null,
   "id": "a250c241",
   "metadata": {},
   "outputs": [],
   "source": [
    "wn = 75 #averaging window width\n",
    "fig, ax = plt.subplots(nrows=2,ncols=1,sharex='col',figsize=[10,8])\n",
    "#B and Rem\n",
    "ax2 = ax[0].twinx()\n",
    "ln1 = ax[0].plot(t_plot_t[f>=f0],np.ma.masked_where(Rem[f>=f0]<10,B[f>=f0]),color='black')\n",
    "ax[0].plot(t_plot_t[f<f0],np.ma.masked_where(Rem[f<f0]<10,B[f<f0]),color='black',alpha=0.1) #original series\n",
    "ax[0].plot(t_plot_t[f<f0],Bdf.rolling(window=wn,center=True).mean(),color='black') #average\n",
    "ln2 = ax2.plot(t_plot_t[f>=f0],Rem[f>=f0],color='darkorchid')\n",
    "ax2.plot(t_plot_t[f<f0],Rem[f<f0],color='darkorchid',alpha=0.1) #original series\n",
    "ax2.plot(t_plot_t[f<f0],Remdf.rolling(window=wn,center=True).mean(),color='darkorchid') #average\n",
    "\n",
    "ax2.hlines(10,min(t_plot_t),max(t_plot_t),linestyle='dashed',color='grey')\n",
    "ax[0].legend(ln1+ln2,['Magnetic field strength','Re$_m$'])\n",
    "ax[0].set_ylabel('Magnetic field strength/ $\\mu T$')\n",
    "ax2.set_ylabel('$Re_m$')\n",
    "ax[0].tick_params(axis='y',colors='black')\n",
    "ax2.tick_params(axis='y',colors='darkorchid')\n",
    "ax[0].yaxis.label.set_color('black') \n",
    "ax2.yaxis.label.set_color('darkorchid') \n",
    "\n",
    "#thermal and compositional buoyancy flux\n",
    "ln3 = ax[1].plot(t_plot_t[f>=f0],therm[f>=f0],color='black')\n",
    "#ax[1].plot(t_plot_t[f<f0],therm[f<f0],color='black',alpha=0.1)\n",
    "ax[1].plot(t_plot_t[f<f0],thermdf.rolling(window=wn,center=True).mean(),color='black')\n",
    "ax[1].plot(t_plot_t[f<f0],comp[f<f0],color='darkorchid',alpha=0.1)\n",
    "ln4=ax[1].plot(t_plot_t[f<f0],compdf.rolling(window=wn,center=True).mean(),color='darkorchid')\n",
    "ax[1].legend(ln3+ln4,['thermal','compositional'])\n",
    "ax[1].set(xscale='log',ylim=[1e-11,1e-8],ylabel='Buoyancy flux per unit area /kg$s^{-1}m^{-2}$',xlabel='Time/Ma')\n",
    "\n",
    "if save == True:\n",
    "    plt.savefig(f'{save_path}run_{run}_Bbuoy.pdf',dpi=500)"
   ]
  },
  {
   "cell_type": "markdown",
   "id": "648b61de",
   "metadata": {},
   "source": [
    "For the 500km body the buoyancy flux ratio is not useful, because of the cessation of mantle convection in the middle, but can add the code below to the plot abovr if you want to plot it."
   ]
  },
  {
   "cell_type": "raw",
   "id": "c45283b9",
   "metadata": {},
   "source": [
    "ax3 = ax[1].twinx()\n",
    "ln5 = ax3.scatter(t_plot_t[(f<f0)&(Xs<Xs_eutectic)],abs(compdf.rolling(window=wn,center=True).mean()/thermdf.rolling(window=wn,center=True).mean())\n",
    "         [Xs[f<f0]<Xs_eutectic],color='blue')\n",
    "ax3.set_yscale('log')\n",
    "ax3.set_ylabel('Compositional/Thermal buoyancy flux')"
   ]
  },
  {
   "cell_type": "markdown",
   "id": "0f13a8b1",
   "metadata": {},
   "source": [
    "### What is the peak field strength in each epoch?\n",
    "Put in times by eye from plot above"
   ]
  },
  {
   "cell_type": "code",
   "execution_count": null,
   "id": "206c5324",
   "metadata": {},
   "outputs": [],
   "source": [
    "tsolid_start = results.at[0,'tsolid_start']\n",
    "peakB = []\n",
    "peakB.append(np.max(B[t_plot_t<10]))\n",
    "peakB.append(np.max(B[(t_plot_t>10)&(t_plot_t<200)]))\n",
    "peakB.append(np.max(B[(t_plot_t>200)&(t_plot_t<tsolid_start)]))\n",
    "peakB.append(np.max(Bdf.rolling(window=wn,center=True).mean()))\n",
    "for i, Bval in enumerate(peakB):\n",
    "    print(f\"The peak field strength in regime {i+1} is {Bval:.2f} muT\")"
   ]
  },
  {
   "cell_type": "markdown",
   "id": "0089aa52",
   "metadata": {},
   "source": [
    "### What causes the different trends in field generation?"
   ]
  },
  {
   "cell_type": "markdown",
   "id": "4984d1f5",
   "metadata": {},
   "source": [
    "Early times"
   ]
  },
  {
   "cell_type": "markdown",
   "id": "67d7a818",
   "metadata": {},
   "source": [
    "Find the index of the time series that corresponds to the xlim on the time axis to speed up plotting"
   ]
  },
  {
   "cell_type": "code",
   "execution_count": null,
   "id": "d4239f82",
   "metadata": {},
   "outputs": [],
   "source": [
    "xlim_up = 40 #40 Ma\n",
    "tind = np.where(t_plot_t<xlim_up)[-1][-1]"
   ]
  },
  {
   "cell_type": "code",
   "execution_count": null,
   "id": "000025c2",
   "metadata": {},
   "outputs": [],
   "source": [
    "ticks = np.arange(1500,1530,10)\n",
    "labels = (ticks-1400)/400 #melt fraction\n",
    "fig, ax = plt.subplots(1,1)\n",
    "ax1 = ax.twinx()\n",
    "ln2 = ax.plot(t_plot_t,dl/1e3,color='darkorchid',linestyle='dashed')\n",
    "mappable = ax.pcolormesh(t_plot_t[:tind],rplot[:11],np.transpose(T_profile[:(tind-1),(nmantle+1):(nmantle+11)]),vmin=1500,vmax=1520)\n",
    "ln1 = ax1.plot(t_plot_t,Tcmb-Tm_conv,color='black')\n",
    "ax1.set(ylim=[0,10],xscale='log',xlim=[diff_time,xlim_up],xlabel='Time/Ma',ylabel='$T_{CMB}-T_{m,conv}$/K')\n",
    "ax.set(ylabel='$\\delta_l$/km',ylim=[0,5])\n",
    "ax.tick_params(axis='y',colors='darkorchid') \n",
    "ax.yaxis.label.set_color('darkorchid') \n",
    "ax1.legend(ln1+ln2,['$T_{CMB}-T_{m,conv}$','$\\delta_l$'])\n",
    "cax = fig.add_axes([1,0.15,0.025,0.7])\n",
    "col = fig.colorbar(mappable,cax=cax,orientation='vertical',label='Melt fraction')\n",
    "col.set_ticks(ticks, labels=labels)\n",
    "if save == True:\n",
    "    plt.savefig(f'{save_path}run_{run}_deltal.png',dpi=500)"
   ]
  },
  {
   "cell_type": "markdown",
   "id": "13d303db",
   "metadata": {},
   "source": [
    "Epoch 1 (until 14Ma): lid thickens so $F_{CMB}$ decreases. There is a jump in lid thickness and decrease in $F_{CMB}$ at 14Ma after CAI when the base of the mantle goes below $\\phi_C$. This leads to an increased temperature difference between the core and mantle, which counteracts the increase in viscosity is balanced to give the decrease in $\\delta_l$ from 14-20Ma before lid thickness then increases again."
   ]
  },
  {
   "cell_type": "markdown",
   "id": "d55369e6",
   "metadata": {},
   "source": [
    "Late times - why does strength increase before the onset of core solidification?"
   ]
  },
  {
   "cell_type": "code",
   "execution_count": null,
   "id": "e4fcc7b0",
   "metadata": {},
   "outputs": [],
   "source": [
    "fig, ax = plt.subplots(1,1)\n",
    "ln1 = ax.plot(t_plot_t,Tcmb-T_profile[:,nmantle+1],color='black')\n",
    "ax.set(ylim=[0,3],xlim=[on2,tsolid_start],xlabel='Time/Ma',ylabel='$T_{CMB}-T_{m,CMB+1}$ /K')"
   ]
  },
  {
   "cell_type": "markdown",
   "id": "14272056",
   "metadata": {},
   "source": [
    "Temperature difference between the CMB and one cell above the CMB increases, which drives the increase in $F_{CMB}$ and field strength. This is due to increased efficiency of mantle cooling as shallower layers of the mantle cool more."
   ]
  },
  {
   "cell_type": "markdown",
   "id": "3edeb9a8",
   "metadata": {},
   "source": [
    "## Endmember strength comparison <a class=\"anchor\" id=\"icfrac\"></a>\n",
    "<p align=\"right\">(<a href=\"#top\">back to top</a>)</p>"
   ]
  },
  {
   "cell_type": "markdown",
   "id": "735c092e",
   "metadata": {},
   "source": [
    "Import other endmember field strengths"
   ]
  },
  {
   "cell_type": "code",
   "execution_count": null,
   "id": "e2ef37bd",
   "metadata": {},
   "outputs": [],
   "source": [
    "run = 3\n",
    "if automated == True:\n",
    "    r_run2, dr2, tstart2, dt2, viscosity2, icfrac2 = load_run_info(run,f'{path}auto_params.csv')\n",
    "else:\n",
    "    r_run2, dr2, tstart2, dt2, viscosity2, icfrac2 = load_run_info(run,f'{path}run_info.csv')\n",
    "npzfile = np.load(f'{path}run_{run}.npz')\n",
    "\n",
    "f2 = npzfile['f'] \n",
    "t2 = npzfile['t'] #time in s\n",
    "Rem2 = npzfile['Rem'] # magnetic Reynolds number \n",
    "B2 = npzfile['B']/1e-6 # magnetic field strength [T] \n",
    "buoyr2 = npzfile['buoyr'] #compositional buoyancy flux and thermal buoyancy flux\n",
    "Xs2 = npzfile['Xs']\n",
    "t_plot_t2 = t2/Myr"
   ]
  },
  {
   "cell_type": "code",
   "execution_count": null,
   "id": "87c63343",
   "metadata": {},
   "outputs": [],
   "source": [
    "comp2 = buoyr2[0,:]\n",
    "therm2 = buoyr2[1,:]"
   ]
  },
  {
   "cell_type": "code",
   "execution_count": null,
   "id": "034535c6",
   "metadata": {},
   "outputs": [],
   "source": [
    "compdf2 = pd.Series(comp2[f2<f0])\n",
    "thermdf2 = pd.Series(therm2[f2<f0])\n",
    "Remdf2 = pd.Series(Rem2[f2<f0])\n",
    "Bdf2 = pd.Series(B2[f2<f0])"
   ]
  },
  {
   "cell_type": "markdown",
   "id": "cd31ed62",
   "metadata": {},
   "source": [
    "Only plot compositional dynamo"
   ]
  },
  {
   "cell_type": "code",
   "execution_count": null,
   "id": "0a2a8d0b",
   "metadata": {},
   "outputs": [],
   "source": [
    "wn = 200 #averaging window width\n",
    "fig, ax = plt.subplots(nrows=1,ncols=2,sharex='col',figsize=[10,3])\n",
    "#B and Rem\n",
    "t_plot_solid = t_plot_t[f<f0]\n",
    "t_plot_solid2 = t_plot_t2[f2<f0]\n",
    "# B - icfrac = 0\n",
    "#ln1 = ax[0].plot(t_plot_t[f>=f0],np.ma.masked_where(Rem[f>=f0]<10,B[f>=f0]),color='#0000ca')\n",
    "ln1 = ax[0].plot(np.ma.masked_where(Remdf.rolling(window=wn,center=True).mean()<10,t_plot_solid),\\\n",
    "                 np.ma.masked_where(Remdf.rolling(window=wn,center=True).mean()<10,Bdf.rolling(window=wn,center=True).mean()),\\\n",
    "                 color='#0000ca')\n",
    "#icfrac = 1\n",
    "#ln2 = ax[0].plot(t_plot_t2[f2>=f0],np.ma.masked_where(Rem2[f2>=f0]<10,B2[f2>=f0]),color='#0079cb')\n",
    "ln2 = ax[0].plot(np.ma.masked_where(Remdf2.rolling(window=wn,center=True).mean()<10,t_plot_solid2),\\\n",
    "                 np.ma.masked_where(Remdf2.rolling(window=wn,center=True).mean()<10,Bdf2.rolling(window=wn,center=True).mean()),\\\n",
    "                 color='#0079cb')\n",
    "# Rem  icfrac = 0\n",
    "#ln3 = ax[1].plot(t_plot_t[f>=f0],Rem[f>=f0],color='#0000ca')\n",
    "ln3 = ax[1].plot(t_plot_t[f<f0],Remdf.rolling(window=wn,center=True).mean(),color='#0000ca')\n",
    "#icfrac = 1\n",
    "#ln4 = ax[1].plot(t_plot_t2[f2>=f0],Rem2[f2>=f0],color='#0079cb')\n",
    "ln4 = ax[1].plot(t_plot_t2[f2<f0],Remdf2.rolling(window=wn,center=True).mean(),color='#0079cb')\n",
    "ax[1].hlines(10,min(t_plot_t[f<f0]),max(t_plot_t),linestyle='dashed',color='grey')\n",
    "ax[0].legend(ln1+ln2,[f'$m_{{frac}}$={icfrac:.0g}',f'$m_{{frac}}$={icfrac2:.0g}'])\n",
    "#ax[1].legend(ln3+ln4,[f'$m_{{frac}}$={icfrac:.0g}',f'$m_{{frac}}$={icfrac2:.0g}'])\n",
    "ax[0].set(ylabel='Magnetic field \\n strength/ $\\mu T$',xlabel='Time /Ma',xlim=[350,575])\n",
    "ax[1].set(xlabel='Time /Ma',ylabel='$Re_m$',xlim=[350,575])\n",
    "if save == True:\n",
    "    plt.savefig(f'{save_path}Bendmember.png',dpi=500,bbox_inches='tight')"
   ]
  },
  {
   "cell_type": "markdown",
   "id": "b7f0d778",
   "metadata": {},
   "source": [
    "There is negligible difference in field strength and $Re_m$ between the two endmembers. Increasing $m_{frac}$, increases field strength but decreases $Re_m$."
   ]
  },
  {
   "cell_type": "markdown",
   "id": "fb580a79",
   "metadata": {},
   "source": [
    "# Discussion"
   ]
  },
  {
   "cell_type": "markdown",
   "id": "f08c1b54",
   "metadata": {},
   "source": [
    "## Convective lengthscales <a class=\"anchor\" id=\"conv\"></a>\n",
    "<p align=\"right\">(<a href=\"#top\">back to top</a>)</p>\n",
    "Justify convective lengthscales assumptions. "
   ]
  },
  {
   "cell_type": "markdown",
   "id": "35f63829",
   "metadata": {},
   "source": [
    "Define functions for r1 and r2"
   ]
  },
  {
   "cell_type": "code",
   "execution_count": null,
   "id": "8d6c12f5",
   "metadata": {},
   "outputs": [],
   "source": [
    "@np.vectorize\n",
    "def r1(x,f):\n",
    "    \"\"\"\n",
    "    outer solid shell inner radius\n",
    "\n",
    "    Parameters\n",
    "    ----------\n",
    "    x : float\n",
    "        fraction of mass in outer shell\n",
    "    f : float\n",
    "        fractional inner core radius for concentric inward\n",
    "\n",
    "    Returns\n",
    "    -------\n",
    "    r1 : float\n",
    "        inner radius of outer solid shell\n",
    "\n",
    "    \"\"\"\n",
    "    r1 = rc*(1-(1-x)*(1-f**3))**(1/3)\n",
    "    return r1\n",
    "\n",
    "@np.vectorize\n",
    "def r2(x,f):\n",
    "    \"\"\"\n",
    "    inner solid core radius\n",
    "\n",
    "    Parameters\n",
    "    ----------\n",
    "    x : float\n",
    "        fraction of mass in outer shell\n",
    "    f : float\n",
    "        fractional inner core radius for concentric inward\n",
    "\n",
    "    Returns\n",
    "    -------\n",
    "    r2 : float\n",
    "        inner solid core radius\n",
    "\n",
    "    \"\"\"\n",
    "    r2 = rc*(x*(1-f**3))**(1/3)\n",
    "    return r2"
   ]
  },
  {
   "cell_type": "code",
   "execution_count": null,
   "id": "7c586fa4",
   "metadata": {},
   "outputs": [],
   "source": [
    "r1val1 = r1(icfrac,f[(Xs<Xs_eutectic)&(f<f0)])/rc\n",
    "r2val1 = r2(icfrac,f[(Xs<Xs_eutectic)&(f<f0)])/rc\n",
    "r1val2 = r1(icfrac2,f2[(Xs2<Xs_eutectic)&(f2<f0)])/rc\n",
    "r2val2 = r2(icfrac2,f2[(Xs2<Xs_eutectic)&(f2<f0)])/rc\n",
    "#estimate for x = 0.5\n",
    "r1val3 = r1(0.5,f2[(Xs<Xs_eutectic)&(f<f0)])/rc\n",
    "r2val3 = r2(0.5,f2[(Xs<Xs_eutectic)&(f<f0)])/rc"
   ]
  },
  {
   "cell_type": "markdown",
   "id": "a82f67f3",
   "metadata": {},
   "source": [
    "Make plots - make sure first and second run simported are 27.1 wt%"
   ]
  },
  {
   "cell_type": "code",
   "execution_count": null,
   "id": "0aefb0ef",
   "metadata": {},
   "outputs": [],
   "source": [
    "fig, ax = plt.subplots(nrows=1,ncols=1)\n",
    "ax1 = ax.twinx()\n",
    "c2 = '#0079cb'\n",
    "# x = 0\n",
    "ax.plot(t_plot_t[(Xs<Xs_eutectic)&(f<f0)],r1val2-r2val2,label=f'$m_{{frac}}$={icfrac2}',color='#0000ca')\n",
    "ax1.plot(t_plot_t[(Xs<Xs_eutectic)&(f<f0)],r1val2/f2[(Xs2<Xs_eutectic)&(f2<f0)],color=c2)\n",
    "# x = 1\n",
    "ax.plot(t_plot_t[(Xs<Xs_eutectic)&(f<f0)],r1val1-r2val1,label=f'$m_{{frac}}$={icfrac}',color='#0000ca',linestyle='dashed')\n",
    "ax1.plot(t_plot_t[(Xs<Xs_eutectic)&(f<f0)],r1val1/f[(Xs<Xs_eutectic)&(f<f0)],linestyle='dashed',color=c2)\n",
    "\n",
    "ax.set_xlabel('Time /Ma')\n",
    "ax.set_ylabel('Convective lengthscale /r$_c$')\n",
    "ax1.set_ylabel('$r_1$/$r_i$ ')\n",
    "ax1.tick_params(axis='y',colors=c2) \n",
    "ax1.yaxis.label.set_color(c2) \n",
    "ax.legend(loc='center left')\n",
    "ax.set_ylim([0,1])\n",
    "if save == True:\n",
    "    plt.savefig(f'{save_path}convl.png',dpi=450)"
   ]
  },
  {
   "cell_type": "markdown",
   "id": "becf154e",
   "metadata": {},
   "source": [
    "There is a 5% difference between $r_i$ (inner core radius for concentric inward) and $r_1$ (outer core radius with passive inner core) even for the endmember where all the mass ends up in the passive inner core so it is reasonable to approximate them as the same.\n",
    "\n",
    "The overall convective lengthscale is reduced by a factor of 0.6 from x=0 to x=1.\n"
   ]
  },
  {
   "cell_type": "markdown",
   "id": "ad80085c",
   "metadata": {},
   "source": [
    "### Ratio of endmember field strengths and $Re_m$ <a class=\"anchor\" id=\"ratio\"></a>\n",
    "<p align=\"right\">(<a href=\"#top\">back to top</a>)</p>"
   ]
  },
  {
   "cell_type": "markdown",
   "id": "cab51c1d",
   "metadata": {},
   "source": [
    "Test the predicted ratio of convective lengthscale l to ratio of B or Rem, given by the gradient of a log-log plot.\n",
    "\n",
    "Expect $Re_m \\propto l^{0.32}$ and $B \\propto l$\n",
    "\n",
    "This plot is for the supplementary."
   ]
  },
  {
   "cell_type": "code",
   "execution_count": null,
   "id": "e8203197",
   "metadata": {},
   "outputs": [],
   "source": [
    "wn = 200 #averaging window width\n",
    "fig, ax = plt.subplots(nrows=2,ncols=1,sharex='col',figsize=[10,6])\n",
    "#B and Rem\n",
    "\n",
    "max_ind = len(f[(Xs<Xs_eutectic)&(f<f0)])\n",
    "#data\n",
    "ln1 = ax[0].plot(((r1val1-r2val1)/(r1val2-r2val2)),(Bdf.rolling(window=wn,center=True).mean()/Bdf2.rolling(window=wn,center=True).mean())[:max_ind],color='#0000ca')\n",
    "ln2 = ax[1].plot(((r1val1-r2val1)/(r1val2-r2val2)),(Remdf.rolling(window=wn,center=True).mean()/Remdf2.rolling(window=wn,center=True).mean())[:max_ind],color='#0000ca')\n",
    "#proposed relationship - only plot after the Nan added by the rolling mean function\n",
    "ln3 = ax[0].plot(((r1val1-r2val1)/(r1val2-r2val2))[int(wn/2):],(((r1val1-r2val1)/(r1val2-r2val2))**(-0.24))[int(wn/2):],color='#0079cb',linestyle='dashed')\n",
    "ln4 = ax[1].plot(((r1val1-r2val1)/(r1val2-r2val2))[int(wn/2):],(((r1val1-r2val1)/(r1val2-r2val2))**(0.32))[int(wn/2):],linestyle='dashed',color='#0079cb')\n",
    "\n",
    "ax[0].set_ylabel('$B_0/B_1$')\n",
    "ax[1].set_ylabel('$Re_{m,0}/Re_{m,1}$')\n",
    "ax[1].set_xlabel('$l_0/l_1$')\n",
    "\n",
    "#ax[0].set_xscale('log')\n",
    "#ax[0].set_yscale('log')\n",
    "#ax[1].set_yscale('log')\n",
    "\n",
    "ax[0].legend(ln1+ln3,['Model output','$(B_0}$/$B_1$ $\\propto$ $l_0$/$l_1)^{-0.24}$'])\n",
    "ax[1].legend(ln2+ln4,['Model output','$Re_{m,0}/Re_{m,1} \\propto (l_0/l_1)^{0.32}$'])\n",
    "if save == True:\n",
    "    plt.savefig(f'{save_path}Bratios.png',dpi=450)"
   ]
  },
  {
   "cell_type": "markdown",
   "id": "aa06f852",
   "metadata": {},
   "source": [
    "## Thermal vs compositional dynamos  <a class=\"anchor\" id=\"therm-comp\"></a>\n",
    "<p align=\"right\">(<a href=\"#top\">back to top</a>)</p>\n",
    "Compare three runs with same geometry, but different sulfur contents. Run 6 solidification is eutectic so doesn't generate buoyancy."
   ]
  },
  {
   "cell_type": "markdown",
   "id": "d08174d5",
   "metadata": {},
   "source": [
    "Import 27 wt% run"
   ]
  },
  {
   "cell_type": "code",
   "execution_count": null,
   "id": "ac9315c6",
   "metadata": {},
   "outputs": [],
   "source": [
    "run = 2\n",
    "npzfile = np.load(f'{path}run_{run}.npz')\n",
    "\n",
    "f3 = npzfile['f'] \n",
    "t3 = npzfile['t'] #time in s\n",
    "Rem3 = npzfile['Rem'] # magnetic Reynolds number \n",
    "B3 = npzfile['B']/1e-6 # magnetic field strength [T] \n",
    "buoyr3 = npzfile['buoyr'] #compositional buoyancy flux and thermal buoyancy flux\n",
    "Xs3 = npzfile['Xs']\n",
    "t_plot_t3 = t3/Myr"
   ]
  },
  {
   "cell_type": "code",
   "execution_count": null,
   "id": "bfc65c06",
   "metadata": {},
   "outputs": [],
   "source": [
    "comp3 = buoyr3[0,:]\n",
    "therm3 = buoyr3[1,:]"
   ]
  },
  {
   "cell_type": "code",
   "execution_count": null,
   "id": "2f84cc4c",
   "metadata": {},
   "outputs": [],
   "source": [
    "compdf3 = pd.Series(comp3[f3<f0])\n",
    "thermdf3 = pd.Series(therm3[f3<f0])\n",
    "Remdf3 = pd.Series(Rem3[f3<f0])\n",
    "Bdf3 = pd.Series(B3[f3<f0])"
   ]
  },
  {
   "cell_type": "markdown",
   "id": "c961dac5",
   "metadata": {},
   "source": [
    "Import eutectic run"
   ]
  },
  {
   "cell_type": "code",
   "execution_count": null,
   "id": "7b42d5ab",
   "metadata": {},
   "outputs": [],
   "source": [
    "run = 6\n",
    "\n",
    "npzfile = np.load(f'{path}run_{run}.npz')\n",
    "\n",
    "f4 = npzfile['f'] \n",
    "t4 = npzfile['t'] #time in s\n",
    "Rem4 = npzfile['Rem'] # magnetic Reynolds number \n",
    "B4 = npzfile['B']/1e-6 # magnetic field strength [T] \n",
    "buoyr4 = npzfile['buoyr'] #compositional buoyancy flux and thermal buoyancy flux\n",
    "Xs4 = npzfile['Xs']\n",
    "t_plot_t4 = t4/Myr"
   ]
  },
  {
   "cell_type": "code",
   "execution_count": null,
   "id": "e3f9c77d",
   "metadata": {},
   "outputs": [],
   "source": [
    "wn = 200 #averaging window width\n",
    "c2= '#DAC800'\n",
    "c1 = '#CA7800' #highest S content\n",
    "c3='#4F4F4F' #lowest S content\n",
    "fig, ax = plt.subplots(nrows=2,ncols=1,figsize=[10,6],sharex='col')\n",
    "#scale solidification time\n",
    "t_plot_solid = t_plot_t[f<f0]\n",
    "t_plot_solid3 = t_plot_t3[f3<f0]\n",
    "\n",
    "# B \n",
    "#non-eutectic - 27.1wt%\n",
    "ln0 = ax[0].plot(t_plot_t3[f3>=f0],np.ma.masked_where(Rem3[f3>=f0]<10,B3[f3>=f0]),color=c3)\n",
    "ax[0].plot(t_plot_t3[f3<f0],np.ma.masked_where(Rem3[f3<f0]<10,B3[f3<f0]),color=c3,alpha=0.1) #original series\n",
    "ax[0].plot(np.ma.masked_where(Remdf3.rolling(window=wn,center=True).mean()<10,t_plot_solid3),\\\n",
    "                 np.ma.masked_where(Remdf3.rolling(window=wn,center=True).mean()<10,Bdf3.rolling(window=wn,center=True).mean()),\\\n",
    "                 color=c3)\n",
    "#non-eutectic - 30.05wt%\n",
    "ax[0].plot(t_plot_t[f>=f0],np.ma.masked_where(Rem[f>=f0]<10,B[f>=f0]),color=c1)\n",
    "ax[0].plot(t_plot_t[f<f0],np.ma.masked_where(Rem[f<f0]<10,B[f<f0]),color=c1,alpha=0.1) #original series\n",
    "ln1 = ax[0].plot(np.ma.masked_where(Remdf.rolling(window=wn,center=True).mean()<10,t_plot_solid),\\\n",
    "                 np.ma.masked_where(Remdf.rolling(window=wn,center=True).mean()<10,Bdf.rolling(window=wn,center=True).mean()),\\\n",
    "                 color=c1)\n",
    "#eutectic\n",
    "ln2 = ax[0].plot(t_plot_t4,np.ma.masked_where(Rem4<10,B4),color=c2) \n",
    "\n",
    "#Rem\n",
    "#non-eutectic - 27.1 wt%\n",
    "ax[1].plot(t_plot_t3[f3>=f0],Rem3[f3>=f0],color=c3)\n",
    "ax[1].plot(t_plot_solid3, Remdf3.rolling(window=wn,center=True).mean(),color=c3)\n",
    "ax[1].plot(t_plot_t3[f3<f0],Rem3[f3<f0],color=c3,alpha=0.1) #original series\n",
    "#non-eutectic - 30.05 wt%\n",
    "ax[1].plot(t_plot_t[f>=f0],Rem[f>=f0],color=c1)\n",
    "ax[1].plot(t_plot_solid, Remdf.rolling(window=wn,center=True).mean(),color=c1)\n",
    "ax[1].plot(t_plot_t[f<f0],Rem[f<f0],color=c1,alpha=0.1) #original series\n",
    "#eutectic\n",
    "ax[1].plot(t_plot_t4,Rem4,color=c2) \n",
    "\n",
    "ax[1].hlines(10,min(t_plot_t),max(t_plot_t),linestyle='dashed',color='grey')\n",
    "ax[0].legend(ln0+ln1+ln2,[f'X$_{{s,0}}$={Xs3[0]:.1f} wt%',f'X$_{{s,0}}$={Xs[0]:.1f} wt%','Eutectic $X_{S,0}$'],loc='lower left')\n",
    "ax[0].set(ylabel='Magnetic field \\n strength/ $\\mu T$',ylim=[0,20])\n",
    "ax[0].set(xlabel='Time /Ma')\n",
    "ax[1].set(xlabel='Time /Ma',ylabel='$Re_m$',xscale='log',ylim=[0,150])\n",
    "if save == True:\n",
    "    plt.savefig(f'{save_path}Bnobuoy.pdf',dpi=500)"
   ]
  },
  {
   "cell_type": "markdown",
   "id": "8027abc4",
   "metadata": {},
   "source": [
    "What is the difference in field strength when the compositional field is maximal?"
   ]
  },
  {
   "cell_type": "code",
   "execution_count": null,
   "id": "35e3d77d",
   "metadata": {},
   "outputs": [],
   "source": [
    "np.max(Bdf3.rolling(window=wn,center=True).mean())/B4[t_plot_t4>t_plot_solid3[0]][0]"
   ]
  },
  {
   "cell_type": "code",
   "execution_count": null,
   "id": "2d362a99",
   "metadata": {},
   "outputs": [],
   "source": []
  }
 ],
 "metadata": {
  "kernelspec": {
   "display_name": "Python 3 (ipykernel)",
   "language": "python",
   "name": "python3"
  },
  "language_info": {
   "codemirror_mode": {
    "name": "ipython",
    "version": 3
   },
   "file_extension": ".py",
   "mimetype": "text/x-python",
   "name": "python",
   "nbconvert_exporter": "python",
   "pygments_lexer": "ipython3",
   "version": "3.9.16"
  }
 },
 "nbformat": 4,
 "nbformat_minor": 5
}
