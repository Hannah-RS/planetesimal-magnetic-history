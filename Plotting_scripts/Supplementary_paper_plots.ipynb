{
 "cells": [
  {
   "cell_type": "markdown",
   "id": "1dfda2c2",
   "metadata": {},
   "source": [
    "# Plots for supplementary materials of paper\n",
    "<a class=\"anchor\" id=\"top\"></a>\n",
    "<p align=\"right\">\n",
    "\n",
    "Variable is\n",
    "+ $\\eta_0$ - reference viscosity [$10^{14},10^{24}$]Pas - params_2\n",
    "\n",
    "Fixed values are:\n",
    "+ $\\phi_{RCMF}$=0.3\n",
    "+ $\\beta=0.0225\\,K^{-1}$\n",
    "+ $\\eta_l=10$ Pas\n",
    "+ $\\alpha_n=30$\n",
    "+ $^{60}Fe/^{56}Fe = 10^{-8}$\n",
    "+ $X_{S,0}=29.85$ wt%\n",
    "+ r=300km\n",
    "\n",
    "This notebook creates the plots to justify explanantions in the EPSL paper which are included in the supplementary material. \n",
    "    \n",
    "### Plots\n",
    "+ [Reference viscosity](#eta) \n",
    "    + [3 epochs of dynamo generation $\\eta_0$=$10^{20}$Pas](#3eta)\n",
    "+ [Critical melt fraction](#rcmf)\n",
    "    + [3 epochs of dynamo generation $\\phi_C$=0.26](#3rcmf)"
   ]
  },
  {
   "cell_type": "markdown",
   "id": "7c87fcfb",
   "metadata": {},
   "source": [
    "# Set-up\n",
    "This can be run once for a specific variable"
   ]
  },
  {
   "cell_type": "markdown",
   "id": "19aeeb70",
   "metadata": {},
   "source": [
    "## Import libraries "
   ]
  },
  {
   "cell_type": "code",
   "execution_count": null,
   "id": "3c821987",
   "metadata": {},
   "outputs": [],
   "source": [
    "import numpy as np\n",
    "import matplotlib.pyplot as plt\n",
    "import pandas as pd\n",
    "import matplotlib as mpl\n",
    "import seaborn as sns"
   ]
  },
  {
   "cell_type": "markdown",
   "id": "30817a62",
   "metadata": {},
   "source": [
    "Colours for plotting (there are a lot as there are a lot of values of $\\eta_0$)"
   ]
  },
  {
   "cell_type": "code",
   "execution_count": null,
   "id": "64bb38a6",
   "metadata": {},
   "outputs": [],
   "source": [
    "colors = ['black','darkblue','blue','royalblue','cornflowerblue','paleturquoise','salmon','maroon','saddlebrown','chocolate','orange','tan','olive','olivedrab','yellowgreen','darkolivegreen']"
   ]
  },
  {
   "cell_type": "markdown",
   "id": "b90d91ef",
   "metadata": {},
   "source": [
    "## Import data"
   ]
  },
  {
   "cell_type": "code",
   "execution_count": null,
   "id": "290bfe7f",
   "metadata": {},
   "outputs": [],
   "source": [
    "folder = 'Paper_run300km/'\n",
    "savefolder ='EPSL_paper/'\n",
    "subfolders = {'rcmf':1,'eta0':2,'beta':3,'etal':4,'Xs_0':5,'Fe0':6,'alpha_n':7,'r':8}\n",
    "labels = {'rcmf':'$\\\\phi_{{C}}$','eta0':'$\\\\eta_0$','beta':'$\\\\beta$','etal':'$\\\\eta_l$ ','Xs_0':'$X_{{s,0}}$','Fe0':'$^{{60}}Fe/^{{56}}Fe$','alpha_n':'$\\\\alpha_n$','r':'radius'}\n",
    "Myr = 365*24*3600*1e6 #number of s in Myr\n",
    "save = True"
   ]
  },
  {
   "cell_type": "markdown",
   "id": "eb6d4c92",
   "metadata": {},
   "source": [
    "Import the summary info"
   ]
  },
  {
   "cell_type": "code",
   "execution_count": null,
   "id": "22311a8a",
   "metadata": {},
   "outputs": [],
   "source": [
    "var_results = pd.read_csv(f'../Results_combined/{folder}/all_sucess_info.csv',skiprows=[1])"
   ]
  },
  {
   "cell_type": "code",
   "execution_count": null,
   "id": "268bbf96",
   "metadata": {},
   "outputs": [],
   "source": [
    "r = 300e3\n",
    "dr = 500\n",
    "rcr = 0.5"
   ]
  },
  {
   "cell_type": "code",
   "execution_count": null,
   "id": "68184d0f",
   "metadata": {},
   "outputs": [],
   "source": [
    "n_cells = int(r/dr)\n",
    "nccells = round((n_cells-3)*(rcr))+2 #number of cells needed to span core (inc. centre and CMB)\n",
    "nmantle = n_cells - nccells +1 #number of cells needed to span mantle plus one extra for CMB"
   ]
  },
  {
   "cell_type": "markdown",
   "id": "3b80737a",
   "metadata": {},
   "source": [
    "## $\\eta_0$ Stagnant lid thickness <a class=\"anchor\" id=\"eta\"></a>\n",
    "<p align=\"right\">(<a href=\"#top\">back to top</a>)</p>"
   ]
  },
  {
   "cell_type": "markdown",
   "id": "b4710403",
   "metadata": {},
   "source": [
    "Choose variable of interest"
   ]
  },
  {
   "cell_type": "code",
   "execution_count": null,
   "id": "86c4f2d1",
   "metadata": {},
   "outputs": [],
   "source": [
    "var = 'eta0'\n",
    "unit = 'Pas' #unit of variable\n",
    "varlab = labels[var]\n",
    "logvar = True\n",
    "path = '../Results_combined/'+folder+f\"params_{subfolders[var]}/\""
   ]
  },
  {
   "cell_type": "markdown",
   "id": "58aa4695",
   "metadata": {},
   "source": [
    "Find run numbers"
   ]
  },
  {
   "cell_type": "code",
   "execution_count": null,
   "id": "cb7cbf00",
   "metadata": {},
   "outputs": [],
   "source": [
    "var_data = pd.read_csv(path+'auto_params.csv',skiprows=[1])\n",
    "minrun = min(var_data['run'])\n",
    "maxrun = max(var_data['run'])\n",
    "nrun = len(var_data)\n",
    "data = var_results[(var_results['run']>=minrun)&(var_results['run']<=maxrun)].copy(deep=True)\n",
    "data.reset_index(inplace=True,drop=True)"
   ]
  },
  {
   "cell_type": "code",
   "execution_count": null,
   "id": "07b1c6aa",
   "metadata": {},
   "outputs": [],
   "source": [
    "plt.figure(tight_layout=True,figsize=[10,8])\n",
    "plt.suptitle(f'Mantle top and bottom boundary layer thickness for changes in {varlab}')\n",
    "plt.subplot(2,1,1)\n",
    "for i in range(nrun):\n",
    "    run = int(minrun+i)\n",
    "    varval = var_data.loc[var_data['run']==run,var].values[0]\n",
    "    rmantle = var_data.loc[var_data['run']==run,'r'].values[0]/2\n",
    "    fcond_t = var_results.loc[var_results['run']==run,'fcond_t'].values[0]\n",
    "    tsolid = var_results.loc[var_results['run']==run,'tsolid'].values[0]\n",
    "    if var=='r':\n",
    "        varval = varval/1e3\n",
    "    #import data\n",
    "    npzfile = np.load(f'{path}run_{run}.npz')\n",
    "    t = npzfile['t']/Myr #time in Myr\n",
    "    d0 = npzfile['d0']\n",
    "    dl = npzfile['dl']\n",
    "    if fcond_t > 0:\n",
    "        plt.plot(t[t<=fcond_t],1-d0[t<=fcond_t]/rmantle,label=f'{varlab}={varval:.2g}{unit}',color=colors[i])\n",
    "        plt.plot(t[t<=fcond_t],dl[t<=fcond_t]/rmantle,color=colors[i],linestyle='dashed')\n",
    "        \n",
    "    else:\n",
    "        plt.plot(t,1-d0/rmantle,label=f'{varlab}={varval:.2g}{unit}',color=colors[i])\n",
    "        plt.plot(t,dl/rmantle,color=colors[i],linestyle='dashed')\n",
    "        plt.vlines(tsolid,(1-d0[-1]/rmantle)-0.05,(1-d0[-1]/rmantle)+0.05,linestyle='dotted',color='gray')\n",
    " \n",
    "plt.xlabel('Time after CAI formation/ Ma')\n",
    "plt.ylabel('Height in mantle/mantle thickness')\n",
    "plt.legend()\n",
    "plt.xscale('log')\n",
    "plt.xlim([0.8,240])\n",
    "plt.ylim([0,1])\n",
    "if save == True:\n",
    "    plt.savefig(f'../Plots/{savefolder}d0_{var}.png',dpi=450,bbox_inches='tight')"
   ]
  },
  {
   "cell_type": "markdown",
   "id": "461cee87",
   "metadata": {},
   "source": [
    "## 3 epochs of dynamo generation <a class=\"anchor\" id=\"3eta\"></a>\n",
    "<p align=\"right\">(<a href=\"#top\">back to top</a>)</p>"
   ]
  },
  {
   "cell_type": "code",
   "execution_count": null,
   "id": "3dc7325b",
   "metadata": {},
   "outputs": [],
   "source": [
    "fig,ax = plt.subplots(nrows=1,ncols=1,sharex='col',tight_layout=True,figsize=[10,4])\n",
    "\n",
    "for i in range(5,nrun-3): #only plot values either isde of eta0 = 10^20\n",
    "    run = int(minrun+i)\n",
    "    varval = var_data.loc[var_data['run']==run,var].values[0]\n",
    "    rmantle = var_data.loc[var_data['run']==run,'r'].values[0]/2\n",
    "    fcond_t=var_results.loc[var_results['run']==run,'fcond_t'].values[0]\n",
    "    #import data\n",
    "    npzfile = np.load(f'{path}run_{run}.npz')\n",
    "    t = npzfile['t']/Myr #time in Myr\n",
    "    Rem = npzfile['Rem']\n",
    "    ax.plot(t,Rem,label=f'{varlab}={varval:.2g}{unit}',color=colors[i])\n",
    " \n",
    "        \n",
    "ax.hlines(10,0,70,linestyle='dashed',color='gray')\n",
    "ax.set_xlabel('Time after CAI formation/ Ma')\n",
    "ax.set_ylabel('Magnetic Reynolds number')\n",
    "ax.legend()\n",
    "ax.set_xlim([1.2,70])\n",
    "ax.set_ylim([0,35])\n",
    "if save == True:\n",
    "    plt.savefig(f'../Plots/{savefolder}Rem_{var}.png',dpi=450,bbox_inches='tight')"
   ]
  },
  {
   "cell_type": "markdown",
   "id": "febfd6a6",
   "metadata": {},
   "source": [
    "# $\\phi_{RCMF}$ <a class=\"anchor\" id=\"rcmf\"></a>\n",
    "<p align=\"right\">(<a href=\"#top\">back to top</a>)</p>"
   ]
  },
  {
   "cell_type": "code",
   "execution_count": null,
   "id": "767cb0fd",
   "metadata": {},
   "outputs": [],
   "source": [
    "var = 'rcmf'\n",
    "unit = '' #unit of variable\n",
    "varlab = labels[var]\n",
    "logvar = False\n",
    "path = '../Results_combined/'+folder+f\"params_{subfolders[var]}/\""
   ]
  },
  {
   "cell_type": "markdown",
   "id": "f85e0905",
   "metadata": {},
   "source": [
    "Find run numbers"
   ]
  },
  {
   "cell_type": "code",
   "execution_count": null,
   "id": "69349b0d",
   "metadata": {},
   "outputs": [],
   "source": [
    "var_data = pd.read_csv(path+'auto_params.csv',skiprows=[1])\n",
    "minrun = min(var_data['run'])\n",
    "maxrun = max(var_data['run'])\n",
    "nrun = len(var_data)\n",
    "data = var_results[(var_results['run']>=minrun)&(var_results['run']<=maxrun)].copy(deep=True)\n",
    "data.reset_index(inplace=True,drop=True)"
   ]
  },
  {
   "cell_type": "markdown",
   "id": "84e1752f",
   "metadata": {},
   "source": [
    "## Stagnant lid thickness"
   ]
  },
  {
   "cell_type": "code",
   "execution_count": null,
   "id": "980283a3",
   "metadata": {},
   "outputs": [],
   "source": [
    "fig,ax = plt.subplots(nrows=2,ncols=1,sharex='col',tight_layout=True,figsize=[10,8])\n",
    "\n",
    "for i in range(nrun):\n",
    "    run = int(minrun+i)\n",
    "    varval = var_data.loc[var_data['run']==run,var].values[0]\n",
    "    rmantle = var_data.loc[var_data['run']==run,'r'].values[0]/2\n",
    "    fcond_t=var_results.loc[var_results['run']==run,'fcond_t'].values[0]\n",
    "    #import data\n",
    "    npzfile = np.load(f'{path}run_{run}.npz')\n",
    "    t = npzfile['t']/Myr #time in Myr\n",
    "    d0 = npzfile['d0']\n",
    "    dl = npzfile['dl']\n",
    "    Tm_conv = npzfile['Tm_conv']\n",
    "    if fcond_t > 0:\n",
    "        ax[0].plot(t[(t<=fcond_t)&(d0<rmantle)],1-d0[(t<=fcond_t)&(d0<rmantle)]/rmantle,label=f'{varlab}={varval:.2g}',color=colors[i])\n",
    "        if i==0:\n",
    "            ax[1].plot(t[(t<=fcond_t)&(d0<rmantle)],dl[(t<=fcond_t)&(d0<rmantle)]/rmantle,linestyle='dashed',color=colors[i],label='$\\delta_l$')\n",
    "        else:\n",
    "            ax[1].plot(t[(t<=fcond_t)&(d0<rmantle)],dl[(t<=fcond_t)&(d0<rmantle)]/rmantle,linestyle='dashed',color=colors[i])\n",
    "    else:\n",
    "        ax[0].plot(t,d0/rmantle,label=f'{var}={varval:.2g}',color=colors[i])\n",
    "    if i==0:\n",
    "        ax[0].vlines(t[(Tm_conv-1400)/(400)<varval][0],0,1,color=colors[i],linestyle='dotted',label='$T_m<T_{\\phi_C}$')\n",
    "        ax[1].vlines(t[(Tm_conv-1400)/(400)<varval][0],0,1,color=colors[i],linestyle='dotted',label='$T_m<T_{\\phi_C}$')\n",
    "    else:\n",
    "        ax[0].vlines(t[(Tm_conv-1400)/(400)<varval][0],0,1,color=colors[i],linestyle='dotted')\n",
    "        ax[1].vlines(t[(Tm_conv-1400)/(400)<varval][0],0,1,color=colors[i],linestyle='dotted')\n",
    "ax[1].set_xlabel('Time after CAI formation/ Ma')\n",
    "ax[0].set_ylabel('Base of $\\delta_0$ in mantle/mantle thickness')\n",
    "ax[1].set_ylabel('Top of $\\delta_l$ in mantle/mantle thickness')\n",
    "ax[0].legend(loc='center left')\n",
    "ax[1].legend()\n",
    "ax[1].set_yscale('log')\n",
    "ax[0].set_xlim([1.2,20])\n",
    "ax[0].set_ylim([0.6,1])\n",
    "if save == True:\n",
    "    plt.savefig(f'../Plots/{savefolder}d0_{var}.png',dpi=450,bbox_inches='tight')"
   ]
  },
  {
   "cell_type": "markdown",
   "id": "c1aaaac1",
   "metadata": {},
   "source": [
    "## Magnetic Reynolds number - 3 epochs of dynamo generation <a class=\"anchor\" id=\"3rcmf\"></a>\n",
    "<p align=\"right\">(<a href=\"#top\">back to top</a>)</p>"
   ]
  },
  {
   "cell_type": "code",
   "execution_count": null,
   "id": "47ce6ff0",
   "metadata": {},
   "outputs": [],
   "source": [
    "plt.figure(tight_layout=True,figsize=[10,8])\n",
    "plt.subplot(2,1,1)\n",
    "for i in range(nrun):\n",
    "    run = int(minrun+i)\n",
    "    varval = var_data.loc[var_data['run']==run,var].values[0]\n",
    "    rmantle = var_data.loc[var_data['run']==run,'r'].values[0]/2\n",
    "    fcond_t = var_results.loc[var_results['run']==run,'fcond_t'].values[0]\n",
    "    tsolid = var_results.loc[var_results['run']==run,'tsolid'].values[0]\n",
    "    if var=='r':\n",
    "        varval = varval/1e3\n",
    "    #import data\n",
    "    npzfile = np.load(f'{path}run_{run}.npz')\n",
    "    t = npzfile['t']/Myr #time in Myr\n",
    "    Rem = npzfile['Rem']\n",
    "    plt.plot(t,Rem,color=colors[i],label=f'{varlab}={varval:.2g}')\n",
    "\n",
    "plt.hlines(10,0,120,linestyle='dashed',color='gray')\n",
    "plt.xlabel('Time after CAI formation/ Ma')\n",
    "plt.ylabel('Magnetic Reynolds number')\n",
    "plt.legend()\n",
    "plt.xlim([0,80])\n",
    "plt.ylim([0,50])\n",
    "if save == True:\n",
    "    plt.savefig(f'../Plots/{savefolder}Rem_{var}.png',dpi=450,bbox_inches='tight')"
   ]
  },
  {
   "cell_type": "code",
   "execution_count": null,
   "id": "ceef485b",
   "metadata": {},
   "outputs": [],
   "source": []
  }
 ],
 "metadata": {
  "kernelspec": {
   "display_name": "Python 3 (ipykernel)",
   "language": "python",
   "name": "python3"
  },
  "language_info": {
   "codemirror_mode": {
    "name": "ipython",
    "version": 3
   },
   "file_extension": ".py",
   "mimetype": "text/x-python",
   "name": "python",
   "nbconvert_exporter": "python",
   "pygments_lexer": "ipython3",
   "version": "3.9.16"
  }
 },
 "nbformat": 4,
 "nbformat_minor": 5
}
