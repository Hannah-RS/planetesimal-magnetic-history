{
 "cells": [
  {
   "cell_type": "markdown",
   "id": "1dfda2c2",
   "metadata": {},
   "source": [
    "# What are the effects of each variable on thermal evolution?\n",
    "<a class=\"anchor\" id=\"top\"></a>\n",
    "<p align=\"right\">\n",
    "Variables are:\n",
    "+ $\\phi_{rcmf}$ - rheologically critical melt fraction [0.2,0.5] - params_1\n",
    "+ $\\eta_0$ - reference viscsoity [1e10,1e25]Pas - params_2\n",
    "+ frht - Arrhenius slope of the viscosity law [0.005,0.08]$K^{-1}$ - params_3\n",
    "+ $\\eta_l$ - liquid viscosity [10,1000]Pas -params_4\n",
    "+ $X_{S,0}$ - initial core sulfur content [28,32]wt% - params_5\n",
    "+ $^{60}Fe/^{56}Fe$ - radiogenic iron fraction in accreting material [0,1e-7] - params_6\n",
    "+ $\\alpha_n$ - diffusion vs dislocation creep [25,30] - params_7\n",
    "+ radius [100,400]km - params_8\n",
    "\n",
    "For each variable there are two [temperature-time](#Tt) and [flux-time](#Ft) plots for the two endmembers.\n",
    "Across all values, there are plots for:\n",
    "+ [peak core and mantle temperatures](#peakT)\n",
    "+ [Rem, B and compositional flux](#BRem-p) \n",
    "+ [Rem, B and core solidification](#BRem-solid) \n",
    "+ [Inner core size](#f)\n",
    "+ [timings](#time) all thermal history timings\n",
    "    + [filled](#time-filled)\n",
    "+ [Dynamo timings](#dynamo)\n",
    "+ [Solidification time](#solid)\n",
    "+ [Lid thickness](#lid)"
   ]
  },
  {
   "cell_type": "markdown",
   "id": "7c87fcfb",
   "metadata": {},
   "source": [
    "# Set-up\n",
    "This can be run once for a specific variable"
   ]
  },
  {
   "cell_type": "markdown",
   "id": "19aeeb70",
   "metadata": {},
   "source": [
    "## Import libraries "
   ]
  },
  {
   "cell_type": "code",
   "execution_count": null,
   "id": "3c821987",
   "metadata": {},
   "outputs": [],
   "source": [
    "import numpy as np\n",
    "import matplotlib.pyplot as plt\n",
    "import pandas as pd\n",
    "import matplotlib as mpl\n",
    "import seaborn as sns"
   ]
  },
  {
   "cell_type": "markdown",
   "id": "30817a62",
   "metadata": {},
   "source": [
    "Colours for plotting (there are a lot as there are a lot of values of $\\eta_0$)"
   ]
  },
  {
   "cell_type": "code",
   "execution_count": null,
   "id": "64bb38a6",
   "metadata": {},
   "outputs": [],
   "source": [
    "colors = ['black','darkblue','blue','royalblue','cornflowerblue','paleturquoise','salmon','maroon','saddlebrown','chocolate','orange','tan','olive','olivedrab','yellowgreen','darkolivegreen']"
   ]
  },
  {
   "cell_type": "markdown",
   "id": "b90d91ef",
   "metadata": {},
   "source": [
    "## Import data"
   ]
  },
  {
   "cell_type": "code",
   "execution_count": null,
   "id": "290bfe7f",
   "metadata": {},
   "outputs": [],
   "source": [
    "folder = 'Paper_run4/'\n",
    "subfolders = {'rcmf':1,'eta0':2,'beta':3,'etal':4,'Xs_0':5,'Fe0':6,'alpha_n':7,'r':8}\n",
    "labels = {'rcmf':'$\\\\phi_{{RCMF}}$','eta0':'$\\\\eta_0$','beta':'$\\\\beta$','etal':'$\\\\eta_l$ ','Xs_0':'$X_{{s,0}}$','Fe0':'$^{{60}}Fe/^{{56}}Fe$','alpha_n':'$\\\\alpha_n$','r':'radius'}\n",
    "Myr = 365*24*3600*1e6 #number of s in Myr"
   ]
  },
  {
   "cell_type": "markdown",
   "id": "00349ea7",
   "metadata": {},
   "source": [
    "Choose your variable of interest"
   ]
  },
  {
   "cell_type": "code",
   "execution_count": null,
   "id": "eb685df7",
   "metadata": {},
   "outputs": [],
   "source": [
    "var = 'Xs_0'\n",
    "unit = '' #unit of variable\n",
    "varlab = labels[var]\n",
    "logvar = False\n",
    "save = False\n",
    "path = '../Results_combined/'+folder+f\"params_{subfolders[var]}/\""
   ]
  },
  {
   "cell_type": "markdown",
   "id": "eb6d4c92",
   "metadata": {},
   "source": [
    "Import the temperature profile data for the two endmembers"
   ]
  },
  {
   "cell_type": "code",
   "execution_count": null,
   "id": "22311a8a",
   "metadata": {},
   "outputs": [],
   "source": [
    "#find run numbers\n",
    "var_data = pd.read_csv(path+'auto_params.csv',skiprows=[1])\n",
    "#var_results = pd.read_csv(path+'run_results.csv',skiprows=[1])\n",
    "var_results = pd.read_csv(f'../Results_combined/{folder}/all_sucess_info.csv',skiprows=[1])\n",
    "#data = pd.merge(var_data,var_results,on='run')\n",
    "minrun = min(var_data['run'])\n",
    "maxrun = max(var_data['run'])\n",
    "nrun = len(var_data)\n",
    "data = var_results[(var_results['run']>=minrun)&(var_results['run']<=maxrun)].copy(deep=True)\n",
    "data.reset_index(inplace=True,drop=True)"
   ]
  },
  {
   "cell_type": "markdown",
   "id": "b0961e35",
   "metadata": {},
   "source": [
    "Find min and max var values for labelling"
   ]
  },
  {
   "cell_type": "code",
   "execution_count": null,
   "id": "a89f9955",
   "metadata": {},
   "outputs": [],
   "source": [
    "var1=var_data.loc[var_data['run']==minrun,var].values[0]\n",
    "var2=var_data.loc[var_data['run']==maxrun,var].values[0]"
   ]
  },
  {
   "cell_type": "markdown",
   "id": "52eb4305",
   "metadata": {},
   "source": [
    "## Import lowest endmember"
   ]
  },
  {
   "cell_type": "code",
   "execution_count": null,
   "id": "482668d6",
   "metadata": {},
   "outputs": [],
   "source": [
    "#End member 1\n",
    "run = int(minrun)\n",
    "npzfile = np.load(f'{path}run_{run}_diff.npz')\n",
    "Tdiff = npzfile['Tdiff'] \n",
    "tdiff = npzfile['t_diff']/Myr\n",
    "d0_diff = npzfile['d0']\n",
    "\n",
    "npzfile = np.load(f'{path}run_{run}.npz')\n",
    "T_profile = npzfile['T_profile']\n",
    "t1 = npzfile['t']/Myr #time in Myr\n",
    "d01 = npzfile['d0'] \n",
    "dl1 = npzfile['dl']\n",
    "f1 = npzfile['f']\n",
    "min_unstable = npzfile['min_unstable'] \n",
    "Flux = npzfile['Flux']\n",
    "Fs1 = Flux[0]\n",
    "Fcmb1 = Flux[1]\n",
    "Fad1 = Flux[2]\n",
    "Frad1 = Flux[3]\n",
    "\n",
    "#time for field to be on\n",
    "on11=var_results.loc[var_results['run']==minrun,'magon_1'].values[0]\n",
    "off11=var_results.loc[var_results['run']==minrun,'magoff_1'].values[0]\n",
    "on12=var_results.loc[var_results['run']==minrun,'magon_2'].values[0]\n",
    "off12=var_results.loc[var_results['run']==minrun,'magoff_2'].values[0]\n",
    "on13=var_results.loc[var_results['run']==minrun,'magon_3'].values[0]\n",
    "off13=var_results.loc[var_results['run']==minrun,'magoff_3'].values[0]\n",
    "\n",
    "#get time for switch to conduction\n",
    "fcond_t1 = var_results.loc[var_results['run']==run,'fcond_t'].values[0]\n",
    "#Concatenate\n",
    "Tall_1 = np.hstack((Tdiff,np.transpose(T_profile)))\n",
    "tall_1 = np.append(tdiff,t1)\n",
    "d0_all_1 = np.append(d0_diff,d01)\n",
    "dr = var_data.loc[var_data['run']==run,'dr'].values[0]\n",
    "r1 = var_data.loc[var_data['run']==run,'r'].values[0]\n",
    "rplot_1 = np.arange(0,r1+dr,dr)/1e3"
   ]
  },
  {
   "cell_type": "code",
   "execution_count": null,
   "id": "dba40cdc",
   "metadata": {},
   "outputs": [],
   "source": [
    "#find unstable indices for plotting core stratification\n",
    "r_unstable1=np.array([]) \n",
    "for ind in min_unstable:\n",
    "    r_unstable1 = np.append(r_unstable1,rplot_1[int(ind)])\n",
    "rc1 = r1/2"
   ]
  },
  {
   "cell_type": "markdown",
   "id": "80612c95",
   "metadata": {},
   "source": [
    "## Import highest endmember"
   ]
  },
  {
   "cell_type": "code",
   "execution_count": null,
   "id": "d66158d7",
   "metadata": {},
   "outputs": [],
   "source": [
    "#End member 2\n",
    "run = int(maxrun)\n",
    "npzfile = np.load(f'{path}run_{run}_diff.npz')\n",
    "Tdiff = npzfile['Tdiff'] \n",
    "tdiff = npzfile['t_diff']/Myr\n",
    "d0_diff = npzfile['d0']\n",
    "\n",
    "npzfile = np.load(f'{path}run_{run}.npz')\n",
    "T_profile = npzfile['T_profile']\n",
    "t2 = npzfile['t']/Myr #time in Myr \n",
    "d02 = npzfile['d0'] \n",
    "dl2 = npzfile['dl']\n",
    "f2 = npzfile['f']\n",
    "min_unstable = npzfile['min_unstable'] \n",
    "Flux = npzfile['Flux']\n",
    "Fs2 = Flux[0]\n",
    "Fcmb2 = Flux[1]\n",
    "Fad2 = Flux[2]\n",
    "Frad2 = Flux[3]\n",
    "\n",
    "#time for field to be on\n",
    "on21=var_results.loc[var_results['run']==maxrun,'magon_1'].values[0]\n",
    "off21=var_results.loc[var_results['run']==maxrun,'magoff_1'].values[0]\n",
    "on22=var_results.loc[var_results['run']==maxrun,'magon_2'].values[0]\n",
    "off22=var_results.loc[var_results['run']==maxrun,'magoff_2'].values[0]\n",
    "on23=var_results.loc[var_results['run']==maxrun,'magon_3'].values[0]\n",
    "off23=var_results.loc[var_results['run']==maxrun,'magoff_3'].values[0]\n",
    "#get time for switch to conduction\n",
    "fcond_t2 = var_results.loc[var_results['run']==run,'fcond_t'].values[0]\n",
    "\n",
    "#Concatenate\n",
    "Tall_2 = np.hstack((Tdiff,np.transpose(T_profile)))\n",
    "tall_2 = np.append(tdiff,t2)\n",
    "d0_all_2 = np.append(d0_diff,d02)\n",
    "dr = var_data.loc[var_data['run']==run,'dr'].values[0]\n",
    "r2 = var_data.loc[var_data['run']==run,'r'].values[0]\n",
    "rplot_2 = np.arange(0,r2+dr,dr)/1e3"
   ]
  },
  {
   "cell_type": "code",
   "execution_count": null,
   "id": "c6d13785",
   "metadata": {},
   "outputs": [],
   "source": [
    "#find unstable indices for plotting core stratification\n",
    "r_unstable2=np.array([]) \n",
    "for ind in min_unstable:\n",
    "    r_unstable2 = np.append(r_unstable2,rplot_2[int(ind)])\n",
    "rc2 = r2/2"
   ]
  },
  {
   "cell_type": "markdown",
   "id": "f07617ff",
   "metadata": {},
   "source": [
    "## Temperature profiles <a class=\"anchor\" id=\"Tt\"></a>\n",
    "<p align=\"right\">(<a href=\"#top\">back to top</a>)</p>"
   ]
  },
  {
   "cell_type": "code",
   "execution_count": null,
   "id": "3b795634",
   "metadata": {},
   "outputs": [],
   "source": [
    "tend = max(np.max(t1),np.max(t2)) #upper limit for time axes"
   ]
  },
  {
   "cell_type": "code",
   "execution_count": null,
   "id": "25e7e05d",
   "metadata": {},
   "outputs": [],
   "source": [
    "plt.figure(figsize=[20,15])\n",
    "#subplot 1 - min value\n",
    "plt.subplot(2,1,1)\n",
    "plt.pcolormesh(tall_1[::2],rplot_1[::2],Tall_1[::2,::2],shading = 'gouraud',vmin=200,vmax=1600)\n",
    "plt.hlines(rc1/1e3,min(t1),max(tall_1),linestyle='--',color='black',label='CMB')\n",
    "plt.vlines(t1[0],0,r1/1e3,linestyle='-.',label='Differentiation')\n",
    "plt.fill_betweenx([0,rc1/5e3],on11,off11,alpha=0,hatch='/',label='dynamo on')\n",
    "plt.vlines(t1[f1<0.999000][0]/Myr,0/1e3,rc1/1e3,linestyle='dotted',label='beginning of core solidification',color='black')\n",
    "plt.plot(t1,r_unstable1,linestyle='dotted',label='Convecting core')\n",
    "if on12>0:\n",
    "    plt.fill_betweenx([0,rc1/5e3],on12,off12,alpha=0,hatch='/')\n",
    "if on13>0:\n",
    "    plt.fill_betweenx([0,rc1/5e3],on13,off13,alpha=0,hatch='/')\n",
    "if np.any(t1/Myr<fcond_t1):\n",
    "    plt.plot(t1[(t1<=fcond_t1)&(d01<(r1-rc1))],(r1-d01[(t1<=fcond_t1)&(d01<(r1-rc1))])/1e3,linestyle='dashed',label='base of $\\delta_0$',color='blue')\n",
    "    plt.plot(t1[(t1<=fcond_t1)&((rc1+dl1)<r1)],(rc1+dl1[(t1<=fcond_t1)&((rc1+dl1)<r1)])/1e3,linestyle='dotted',label='top of $\\delta_l$',color='blue')\n",
    "    plt.vlines(t1[t1<=fcond_t1][-1],r1/1e3,rc1/1e3,linestyle='dotted',label='conductive mantle',color='red')\n",
    "else:\n",
    "    plt.plot(t1,(r1-d01)/1e3,linestyle='dashed',label='base of $\\delta_0$',color='blue')\n",
    "    plt.plot(t1,(rc1+dl1)/1e3,linestyle='dotted',label='top of $\\delta_l$',color='blue')\n",
    "#labels and limits\n",
    "plt.ylabel('r /km')\n",
    "plt.xlabel('t / Myr')\n",
    "plt.xlim([0.8,tend])\n",
    "plt.colorbar(label='T/K')\n",
    "plt.title(f\"{varlab}={var1:.0e} {unit}\")\n",
    "plt.xscale('log')\n",
    "plt.legend(bbox_to_anchor=[1.4,0.5])\n",
    "\n",
    "#subplot 2 - max value\n",
    "plt.subplot(2,1,2)\n",
    "plt.pcolormesh(tall_2[::2],rplot_2[::2],Tall_2[::2,::2],shading = 'gouraud',vmin=200,vmax=1600)\n",
    "plt.hlines(rc2/1e3,min(t2),max(tall_2),linestyle='--',color='black',label='CMB')\n",
    "plt.vlines(t2[0],0,r2/1e3,linestyle='-.',label='Differentiation')\n",
    "plt.vlines(t2[f2<0.999000][0]/Myr,0/1e3,rc2/1e3,linestyle='dotted',label='beginning of core solidification',color='black')\n",
    "plt.plot(t2,r_unstable2,linestyle='dotted',label='Convecting core')\n",
    "plt.fill_betweenx([0,rc2/5e3],on21,off21,alpha=0,hatch='/',label='dynamo on')\n",
    "if on22>0:\n",
    "    plt.fill_betweenx([0,rc2/5e3],on22,off22,alpha=0,hatch='/')\n",
    "if on23>0:\n",
    "    plt.fill_betweenx([0,rc2/5e3],on23,off23,alpha=0,hatch='/')\n",
    "if np.any(t2/Myr<fcond_t2):\n",
    "    plt.plot(t2[(t2<=fcond_t2)&(d02<(r2-rc2))],(r2-d02[(t2<=fcond_t2)&(d02<(r2-rc2))])/1e3,linestyle='dashed',label='base of $\\delta_0$',color='blue')\n",
    "    plt.plot(t2[(t2<=fcond_t2)&((rc2+dl2)<r2)],(rc2+dl2[(t2<=fcond_t2)&((rc2+dl2)<r2)])/1e3,linestyle='dotted',label='top of $\\delta_l$',color='blue')\n",
    "    plt.vlines(t2[t2<=fcond_t2][-1],r2/1e3,rc2/1e3,linestyle='dotted',label='conductive mantle',color='red')\n",
    "else:\n",
    "    plt.plot(t2,(r2-d02)/1e3,linestyle='dashed',label='base of $\\delta_0$',color='blue')\n",
    "    plt.plot(t2,(rc2+dl2)/1e3,linestyle='dotted',label='top of $\\delta_l$',color='blue')\n",
    "#labels and limits\n",
    "plt.ylabel('r /km')\n",
    "plt.xlabel('t / Myr')\n",
    "plt.xlim([0.8,tend])\n",
    "plt.colorbar(label='T/K')\n",
    "plt.title(f\"{varlab}={var2} {unit}\")\n",
    "plt.xscale('log')\n",
    "plt.legend(bbox_to_anchor=[1.4,0.5])\n",
    "if save == True:\n",
    "    plt.savefig(f'../Plots/{folder}/Tprofile_{var}.png',bbox_inches='tight')"
   ]
  },
  {
   "cell_type": "markdown",
   "id": "10fef09d",
   "metadata": {},
   "source": [
    "Just the second variable"
   ]
  },
  {
   "cell_type": "raw",
   "id": "daaa3adb",
   "metadata": {},
   "source": [
    "plt.subplot(2,1,2)\n",
    "plt.pcolormesh(tall_2[::2],rplot_2[::2],Tall_2[::2,::2],shading = 'gouraud',vmin=200,vmax=1600)\n",
    "plt.hlines(rc2/1e3,min(t2),max(tall_2),linestyle='--',color='black',label='CMB')\n",
    "plt.vlines(t2[0],0,r2/1e3,linestyle='-.',label='Differentiation')\n",
    "plt.vlines(t2[f2<0.999000][0]/Myr,0/1e3,rc2/1e3,linestyle='dotted',label='beginning of core solidification',color='black')\n",
    "plt.plot(t2,r_unstable2,linestyle='dotted',label='Convecting core')\n",
    "plt.fill_betweenx([0,rc2/5e3],on21,off21,alpha=0,hatch='/',label='dynamo on')\n",
    "if on22>0:\n",
    "    plt.fill_betweenx([0,rc2/5e3],on22,off22,alpha=0,hatch='/')\n",
    "if on23>0:\n",
    "    plt.fill_betweenx([0,rc2/5e3],on23,off23,alpha=0,hatch='/')\n",
    "if np.any(t2/Myr<fcond_t2):\n",
    "    plt.plot(t2[(t2<=fcond_t2)&(d02<(r2-rc2))],(r2-d02[(t2<=fcond_t2)&(d02<(r2-rc2))])/1e3,linestyle='dashed',label='base of $\\delta_0$',color='blue')\n",
    "    plt.plot(t2[(t2<=fcond_t2)&((rc2+dl2)<r2)],(rc2+dl2[(t2<=fcond_t2)&((rc2+dl2)<r2)])/1e3,linestyle='dotted',label='top of $\\delta_l$',color='blue')\n",
    "    plt.vlines(t2[t2<=fcond_t2][-1],r2/1e3,rc2/1e3,linestyle='dotted',label='conductive mantle',color='red')\n",
    "else:\n",
    "    plt.plot(t2,(r2-d02)/1e3,linestyle='dashed',label='base of $\\delta_0$',color='blue')\n",
    "    plt.plot(t2,(rc2+dl2)/1e3,linestyle='dotted',label='top of $\\delta_l$',color='blue')\n",
    "#labels and limits\n",
    "plt.ylabel('r /km')\n",
    "plt.xlabel('t / Myr')\n",
    "plt.xlim([0.8,tend])\n",
    "plt.colorbar(label='T/K')\n",
    "plt.title(f\"{varlab}={var2} {unit}\")\n",
    "plt.xscale('log')\n",
    "plt.legend(bbox_to_anchor=[1.4,0.5])"
   ]
  },
  {
   "cell_type": "markdown",
   "id": "b8549e84",
   "metadata": {},
   "source": [
    "### Peak core and mantle temperature <a class=\"anchor\" id=\"peakT\"></a>\n",
    "<p align=\"right\">(<a href=\"#top\">back to top</a>)</p>"
   ]
  },
  {
   "cell_type": "code",
   "execution_count": null,
   "id": "0ab74fb1",
   "metadata": {},
   "outputs": [],
   "source": [
    "#find upper and lower bounds for time colour maps\n",
    "combt = np.concatenate([data['tmax'],data['tcoremax']])\n",
    "tmin = min(combt)\n",
    "tmax = max(combt)"
   ]
  },
  {
   "cell_type": "code",
   "execution_count": null,
   "id": "778caf80",
   "metadata": {},
   "outputs": [],
   "source": [
    "if var == 'Fe0':\n",
    "    cmap = plt.colormaps['viridis']\n",
    "    bounds = [-0.5e-8,0.5e-8,0.5e-7,1.5e-7,1e-6]\n",
    "    norm = mpl.colors.BoundaryNorm(bounds, cmap.N)\n",
    "\n",
    "    fig = plt.figure()\n",
    "    plt.scatter(data['tmax'],data['peakT'],label='Peak mantle temperature',marker='o',c=data[var],cmap=cmap,norm=norm)\n",
    "    plt.scatter(data['tcoremax'],data['peak_coreT'],label='Peak core temperature',marker='v',c=data[var],cmap=cmap,norm=norm)\n",
    "    plt.xlabel(f'Time /Myr')\n",
    "    plt.legend()\n",
    "    plt.ylabel('Temperature /K')\n",
    "    fig.colorbar(mpl.cm.ScalarMappable(cmap=cmap, norm=norm),ticks=[0,1e-8,1e-7,6e-7],spacing='uniform',orientation='vertical',label='$^{60}Fe/^{56}Fe$')\n",
    "    if save == True:\n",
    "        plt.savefig(f'../Plots/{folder}/peakTt_{var}.png',bbox_inches='tight')            "
   ]
  },
  {
   "cell_type": "code",
   "execution_count": null,
   "id": "3ef6b06a",
   "metadata": {},
   "outputs": [],
   "source": [
    "if var == 'Fe0':\n",
    "    fig = plt.figure()\n",
    "    plt.scatter(data[var],data['peakT'],label='Peak mantle temperature',marker='o',c=data['tmax'],vmin=tmin,vmax=tmax)\n",
    "    plt.scatter(data[var],data['peak_coreT'],label='Peak core temperature',marker='v',c=data['tcoremax'],vmin=tmin,vmax=tmax)\n",
    "    plt.xlabel(varlab)\n",
    "    plt.legend()\n",
    "    plt.ylabel(varlab)\n",
    "    plt.colorbar(label='Time/Myr')\n",
    "    if save == True:\n",
    "        plt.savefig(f'../Plots/{folder}/peakTFe_{var}.png',bbox_inches='tight')         "
   ]
  },
  {
   "cell_type": "code",
   "execution_count": null,
   "id": "19c0ba4d",
   "metadata": {},
   "outputs": [],
   "source": [
    "if var!='Fe0':\n",
    "    plt.figure()\n",
    "    plt.scatter(data['tmax'],data['peakT'],label='Peak mantle temperature',marker='o',c=data[var],norm=mpl.colors.LogNorm())\n",
    "    plt.scatter(data['tcoremax'],data['peak_coreT'],label='Peak core temperature',marker='v',c=data[var],norm=mpl.colors.LogNorm())\n",
    "    plt.xlabel('Time /Myr')\n",
    "    plt.legend()\n",
    "    plt.ylabel('Temperature /K')\n",
    "    plt.colorbar(label=f'{varlab}{unit}')"
   ]
  },
  {
   "cell_type": "code",
   "execution_count": null,
   "id": "f9a3e2f8",
   "metadata": {},
   "outputs": [],
   "source": [
    "if var!='Fe0':\n",
    "    plt.figure()\n",
    "    plt.scatter(data[var],data['peakT'],label='Peak mantle temperature',marker='o',c=data['tmax'],vmin=tmin,vmax=tmax)\n",
    "    plt.scatter(data[var],data['peak_coreT'],label='Peak core temperature',marker='v',c=data['tcoremax'],vmin=tmin,vmax=tmax)\n",
    "    plt.xlabel(f'{varlab} {unit}')\n",
    "    plt.legend()\n",
    "    plt.ylabel('Temperature /K')\n",
    "    plt.colorbar(label='Time of maxima/Myr')\n",
    "    if logvar == True:\n",
    "        plt.xscale('log')\n",
    "    if save == True:\n",
    "        plt.savefig(f'../Plots/{folder}/peakT_{var}.png')"
   ]
  },
  {
   "cell_type": "code",
   "execution_count": null,
   "id": "2e6b0822",
   "metadata": {},
   "outputs": [],
   "source": [
    "if var=='rcmf':\n",
    "    phi = (data['peakT']-1400)/400\n",
    "    fig, ax1 = plt.subplots(nrows=1,ncols=1,sharex=True)\n",
    "    ax1.scatter(data[var],data['peakT'],label='Peak mantle temperature',marker='o')\n",
    "    ax1.scatter(data[var],data['peak_coreT'],label='Peak core temperature',marker='v')\n",
    "    ax2 = ax1.twinx()\n",
    "    ax2.scatter(data[var],phi,marker='o',c=data['tmax'],vmin=tmin,vmax=tmax)\n",
    "    ax1.set_xlabel(varlab)\n",
    "    ax1.legend(loc='upper left')\n",
    "    ax1.set_ylabel('Temperature /K')\n",
    "    ax2.set_ylabel('Melt fraction')\n",
    "    ax2.set_ylim([0.15,0.6])\n",
    "    ax1.set_ylim([0.15*400+1400,0.6*400+1400])\n",
    "    #plt.xscale('log')\n",
    "    if save == True:\n",
    "        plt.savefig(f'../Plots/{folder}/peakT_{var}.png')"
   ]
  },
  {
   "cell_type": "markdown",
   "id": "832c0a11",
   "metadata": {},
   "source": [
    "Difference in peak temperatures"
   ]
  },
  {
   "cell_type": "code",
   "execution_count": null,
   "id": "1150429b",
   "metadata": {},
   "outputs": [],
   "source": [
    "data['peak_coreT']-data['peakT']"
   ]
  },
  {
   "cell_type": "markdown",
   "id": "6aea38c4",
   "metadata": {},
   "source": [
    "Difference in timing of peak temperatures"
   ]
  },
  {
   "cell_type": "code",
   "execution_count": null,
   "id": "beb86296",
   "metadata": {},
   "outputs": [],
   "source": [
    "data['tcoremax']-data['tmax']"
   ]
  },
  {
   "cell_type": "markdown",
   "id": "da8fff3a",
   "metadata": {},
   "source": [
    "# Flux-time <a class=\"anchor\" id=\"Ft\"></a>\n",
    "<p align=\"right\">(<a href=\"#top\">back to top</a>)</p>"
   ]
  },
  {
   "cell_type": "markdown",
   "id": "92c8e322",
   "metadata": {},
   "source": [
    "### Two endmembers"
   ]
  },
  {
   "cell_type": "code",
   "execution_count": null,
   "id": "b4ba1c52",
   "metadata": {},
   "outputs": [],
   "source": [
    "plt.figure(tight_layout=True)\n",
    "#end member 1\n",
    "plt.plot(t1,Fs1,label=f'$F_s$ {varlab}={var1} {unit}',color='forestgreen')\n",
    "plt.scatter(t1[Fcmb1<0],abs(Fcmb1[Fcmb1<0]),label='$-F_{CMB}$',color='navy',s=2)\n",
    "plt.scatter(t1[Fcmb1>0],Fcmb1[Fcmb1>0],label='$F_{CMB}$',color='darkviolet',s=2)\n",
    "plt.plot(t1,Fad1,label='$F_{ad}$',color='darkgoldenrod')\n",
    "plt.plot(t1,Frad1,label='$F_{rad}$',color='maroon')\n",
    "\n",
    "#end member 2\n",
    "plt.plot(t2,Fs2,label=f\"$F_s$,{varlab}={var2} {unit}\",linestyle='dashed',color='limegreen')\n",
    "plt.scatter(t2[Fcmb2<0],abs(Fcmb2[Fcmb2<0]),label=f'$-F_{{CMB}}$ ,{varlab}={var2}',color='royalblue',s=2)\n",
    "plt.scatter(t2[Fcmb2>0],Fcmb2[Fcmb2>0],label=f'$F_{{CMB}}$ ,{varlab}={var2}',color='violet',s=2)\n",
    "plt.plot(t2,Fad2,linestyle='dashed',color='wheat',label='$F_{ad}$')\n",
    "plt.plot(t2,Frad2,linestyle='dashed',color='lightcoral',label='$F_{rad}$')\n",
    "plt.xlabel('Time/ Myr')\n",
    "plt.xlim([0.8,tend])\n",
    "plt.xscale('log')\n",
    "plt.yscale('log')\n",
    "plt.ylim([1e-4,1e2])   #use these limits when comparing runs\n",
    "plt.ylabel('Flux/ W$m^{-2}$')\n",
    "plt.legend(loc='upper right',ncol=2)\n",
    "plt.title(f'{varlab} endmember comparison')\n",
    "if save == True:\n",
    "    plt.savefig(f'../Plots/{folder}Tflux_endcomp{var}.png',dpi=450)\n"
   ]
  },
  {
   "cell_type": "markdown",
   "id": "17088375",
   "metadata": {},
   "source": [
    "# Rem and core size <a class=\"anchor\" id=\"Rt\"></a>\n",
    "<p align=\"right\">(<a href=\"#top\">back to top</a>)</p>"
   ]
  },
  {
   "cell_type": "markdown",
   "id": "74979a03",
   "metadata": {},
   "source": [
    "### B, Rem and compositional/thermal buoyancy flux <a class=\"anchor\" id=\"BRem-p\"></a>\n",
    "<p align=\"right\">(<a href=\"#top\">back to top</a>)</p>"
   ]
  },
  {
   "cell_type": "code",
   "execution_count": null,
   "id": "9f24c597",
   "metadata": {},
   "outputs": [],
   "source": [
    "fig, ax = plt.subplots(nrows=2,ncols=1,sharex='col',tight_layout=True,figsize=[10,8])\n",
    "ax2 = ax[0].twinx()\n",
    "ax3 = ax[1].twinx()\n",
    "\n",
    "for i in range(nrun):\n",
    "    run = int(minrun+i)\n",
    "    varval = var_data.loc[var_data['run']==run,var].values[0]\n",
    "    if var=='r':\n",
    "        varval = varval/1e3\n",
    "    #import data\n",
    "    npzfile = np.load(f'{path}run_{run}.npz')\n",
    "    tplot = npzfile['t']/Myr\n",
    "    B = npzfile['B']/1e-6\n",
    "    Rem = npzfile['Rem']\n",
    "    Fcmb = npzfile['Flux'][1]\n",
    "    Fad = npzfile['Flux'][2]\n",
    "    buoy = npzfile['buoyr'] #ratio of compositional/thermal flux\n",
    "    threshold=10\n",
    "    size=2.5 #size of points on scatter plot\n",
    "    print(np.average(buoy[tplot>150]))\n",
    "    #B plot\n",
    "    if var =='eta0':\n",
    "        ax[0].plot(tplot,np.ma.masked_where(Rem<threshold,B),color=colors[i],label=f'{varlab}={varval:.1e} {unit}')\n",
    "    else:\n",
    "        ax[0].plot(tplot,np.ma.masked_where(Rem<threshold,B),color=colors[i],label=f'{varlab}={varval:.2f} {unit}')\n",
    "    ax2.plot(tplot[buoy>0],buoy[buoy>0],color=colors[i],alpha=0.5,linestyle='dashed')\n",
    "    \n",
    "    #Rem plot\n",
    "    if i == 0:   \n",
    "        ln1 = ax[1].plot(tplot,np.ma.masked_where(Rem<=0,Rem),color=colors[i],label='Rem')\n",
    "        ln2 = ax3.plot(tplot[buoy>0],buoy[buoy>0],color=colors[i],linestyle='dashed',alpha=0.5, label='Buoyancy/thermal flux')\n",
    "    else:\n",
    "        ax[1].plot(tplot,np.ma.masked_where(Rem<=0,Rem),color=colors[i])\n",
    "        ax3.plot(tplot[buoy>0],buoy[buoy>0],color=colors[i],linestyle='dashed',alpha=0.5)\n",
    "        ax3.plot(tplot,(Fcmb-Fad)*1e7)\n",
    "        print(((Fcmb-Fad)*1e7)[tplot<25][-1]/((Fcmb-Fad)*1e7)[tplot>150][0])\n",
    "ax[1].hlines(10,xmin=0,xmax=tplot[Rem>0][-1],color='dimgray',linestyle='--')\n",
    "ax[1].hlines(40,xmin=0,xmax=tplot[Rem>0][-1],color='dimgray',linestyle='-.')\n",
    "ax[1].hlines(100,xmin=0,xmax=tplot[Rem>0][-1],color='dimgray',linestyle='dotted')\n",
    "\n",
    "ax[0].set_ylabel('Surface dipole field strength $\\\\mu$T')\n",
    "ax[1].set_ylabel('Magnetic Reynolds number')\n",
    "ax2.set_ylabel('Buoyancy flux/thermal flux')\n",
    "ax3.set_ylabel('Buoyancy flux/thermal flux')\n",
    "\n",
    "ax[1].set_xlabel('Time/Myr')\n",
    "ax[0].legend(ncols=2,loc='upper center')\n",
    "ax[1].legend(ln1+ln2,['Rem','Buoyancy flux/thermal flux'],loc='upper center')\n",
    "#ax[0].set_xscale('log')\n",
    "#ax[1].set_xscale('log')\n",
    "ax2.set_yscale('log')\n",
    "ax3.set_yscale('log')\n",
    "ax[0].set_title('Magnetic field strength')\n",
    "ax[1].set_title('Magnetic Reynolds number')\n",
    "ax[1].set_xlim(left=0.8)\n",
    "ax[1].set_ylim([5,50])\n",
    "#ax[1].set_xlim([100,110])\n",
    "if save==True:\n",
    "    plt.savefig(f'../Plots/{folder}BRem_buoy_{var}.png',dpi=450,bbox_inches='tight')"
   ]
  },
  {
   "cell_type": "markdown",
   "id": "605bceee",
   "metadata": {},
   "source": [
    "### B and Rem with onset of solidification <a class=\"anchor\" id=\"BRem-solid\"></a>\n",
    "<p align=\"right\">(<a href=\"#top\">back to top</a>)</p>"
   ]
  },
  {
   "cell_type": "code",
   "execution_count": null,
   "id": "02fdba0d",
   "metadata": {},
   "outputs": [],
   "source": [
    "fig, ax = plt.subplots(nrows=2,ncols=1,sharex='col',tight_layout=True,figsize=[10,8])\n",
    "fig.suptitle(f'Magnetic field for changes in {varlab}')\n",
    "\n",
    "for i in range(nrun):\n",
    "    run = int(minrun+i)\n",
    "    varval = var_data.loc[var_data['run']==run,var].values[0]\n",
    "    tsolid = var_results.loc[var_results['run']==run,'tsolid_start'].values[0]\n",
    "    if var=='r':\n",
    "        varval = varval/1e3\n",
    "    #import data\n",
    "    npzfile = np.load(f'{path}run_{run}.npz')\n",
    "    tplot = npzfile['t']/Myr\n",
    "    B = npzfile['B']/1e-6\n",
    "    Rem = npzfile['Rem']\n",
    "    buoy = npzfile['buoyr'] #ratio of compositional/thermal flux\n",
    "    threshold=10\n",
    "    \n",
    "    #B plot - adjust units labels here\n",
    "    ax[0].plot(tplot,np.ma.masked_where(Rem<threshold,B),color=colors[i],label=f'{varlab}={varval:.0e} {unit}')\n",
    "    ax[0].vlines(tsolid,0,10,color=colors[i],linestyle='dashed')\n",
    "    \n",
    "    #Rem plot\n",
    "    if i == 0:   \n",
    "        ax[1].plot(tplot,np.ma.masked_where(Rem<=0,Rem),color=colors[i],label='Rem')\n",
    "        ax[1].vlines(tsolid,0,100,color=colors[i],linestyle='dashed',label='Onset of core solidification')\n",
    "    else:\n",
    "        ax[1].plot(tplot,np.ma.masked_where(Rem<=0,Rem),color=colors[i])\n",
    "        ax[1].vlines(tsolid,0,100,color=colors[i],linestyle='dashed')\n",
    "    \n",
    "ax[1].hlines(10,xmin=0,xmax=tplot[Rem>0][-1],color='dimgray',linestyle='--')\n",
    "ax[1].hlines(40,xmin=0,xmax=tplot[Rem>0][-1],color='dimgray',linestyle='-.')\n",
    "ax[1].hlines(100,xmin=0,xmax=tplot[Rem>0][-1],color='dimgray',linestyle='dotted')\n",
    "\n",
    "ax[0].set_ylabel('Surface dipole field strength $\\\\mu$T')\n",
    "ax[1].set_ylabel('Magnetic Reynolds number')\n",
    "\n",
    "ax[1].set_xlabel('Time/Myr')\n",
    "ax[0].legend(ncols=2,loc='upper right')\n",
    "ax[1].legend(loc='upper right')\n",
    "ax[0].set_title('Magnetic field strength for supercritical $Re_m$')\n",
    "ax[1].set_title('Magnetic Reynolds number ($Re_m$)')\n",
    "ax[1].set_xscale('log')\n",
    "ax[1].set_xlim(left=0.8)\n",
    "if save == True:\n",
    "    plt.savefig(f'../Plots/{folder}BRem_onset_{var}.png',dpi=450,bbox_inches='tight')"
   ]
  },
  {
   "cell_type": "markdown",
   "id": "32ae34b0",
   "metadata": {},
   "source": [
    "### Simplified version for talk"
   ]
  },
  {
   "cell_type": "code",
   "execution_count": null,
   "id": "1fcd29e5",
   "metadata": {},
   "outputs": [],
   "source": [
    "colors = ['darkblue','royalblue','cornflowerblue','paleturquoise']"
   ]
  },
  {
   "cell_type": "raw",
   "id": "0aca077c",
   "metadata": {
    "scrolled": false
   },
   "source": [
    "nline = 3\n",
    "with sns.plotting_context('talk'):\n",
    "    fig, ax = plt.subplots(nrows=1,ncols=1,sharex='col',tight_layout=True,figsize=[10,6])\n",
    "    #fig.suptitle(f'Magnetic Reynolds number for changes in {varlab}')\n",
    "    runs = [int(minrun),int((minrun+maxrun)/2),int(maxrun)]\n",
    "    for i, run in enumerate(runs[:nline]):\n",
    "        varval = var_data.loc[var_data['run']==run,var].values[0]\n",
    "        tsolid = var_results.loc[var_results['run']==run,'tsolid_start'].values[0]\n",
    "        if var=='r':\n",
    "            varval = varval/1e3\n",
    "        #import data\n",
    "        npzfile = np.load(f'{path}run_{run}.npz')\n",
    "        tplot = npzfile['t']/Myr\n",
    "        B = npzfile['B']/1e-6\n",
    "        Rem = npzfile['Rem']\n",
    "        buoy = npzfile['buoyr'] #ratio of compositional/thermal flux\n",
    "        threshold=10\n",
    "\n",
    "        threshold=10\n",
    "        #Rem plot\n",
    "        if i == 0:   \n",
    "            #ax.plot(tsolid,Rem[tplot<tsolid][-1],color='black',marker='+',markersize=20,label='Onset of core solidification')\n",
    "            ax.vlines(tsolid,Rem[tplot<tsolid][-1]-10,Rem[tplot<tsolid][-1]+10,color=colors[i],linestyle='dotted',label='Onset of core solidification')\n",
    "        else:\n",
    "            ax.vlines(tsolid,Rem[tplot<tsolid][-1]-10,Rem[tplot<tsolid][-1]+10,color=colors[i],linestyle='dotted')\n",
    "        ax.plot(tplot,np.ma.masked_where(Rem<=0,Rem),color=colors[i],label=f'{varlab}={varval:.1g} {unit}')\n",
    "\n",
    "    ax.hlines(10,xmin=0,xmax=tplot[Rem>0][-1],color='dimgray',linestyle='--')\n",
    "    ax.set_ylabel('Magnetic Reynolds number')\n",
    "    ax.set_xlabel('Time/Myr')\n",
    "    ax.legend(ncols=2,loc='upper right',fontsize='x-small')\n",
    "    ax.set_xscale('log')\n",
    "    ax.set_xlim([0.8,400])\n",
    "    ax.set_ylim([0,150])\n",
    "    if save == True:\n",
    "        plt.savefig(f'../Plots/{folder}Rem_talk_{var}{nline}.png',dpi=450,bbox_inches='tight')"
   ]
  },
  {
   "cell_type": "markdown",
   "id": "aae4bb1a",
   "metadata": {},
   "source": [
    "### Inner core size <a class=\"anchor\" id=\"f\"></a>\n",
    "<p align=\"right\">(<a href=\"#top\">back to top</a>)</p>"
   ]
  },
  {
   "cell_type": "code",
   "execution_count": null,
   "id": "5696ed70",
   "metadata": {},
   "outputs": [],
   "source": [
    "plt.figure(tight_layout=True,figsize=[10,8])\n",
    "plt.suptitle(f'Core size for changes in {varlab}')\n",
    "plt.subplot(2,1,1)\n",
    "for i in range(nrun):\n",
    "    run = int(minrun+i)\n",
    "    varval = var_data.loc[var_data['run']==run,var].values[0]\n",
    "    if var=='r':\n",
    "        varval = varval/1e3\n",
    "    #import data\n",
    "    npzfile = np.load(f'{path}run_{run}.npz')\n",
    "    t = npzfile['t']/Myr #time in Myr\n",
    "    f = npzfile['f']\n",
    "    plt.plot(t,f,label=f'{var}={varval} {unit}',color=colors[i])\n",
    "plt.xlabel('Time/Myr')\n",
    "plt.ylabel('fractional inner core radius')\n",
    "plt.legend(bbox_to_anchor=[1.1,0.9])\n",
    "#plt.xscale('log')\n",
    "plt.ylim([0.8,1.1])\n",
    "if save == True:\n",
    "    plt.savefig(f'../Plots/{folder}f_{var}.png',dpi=450,bbox_inches='tight')"
   ]
  },
  {
   "cell_type": "markdown",
   "id": "422b25f2",
   "metadata": {},
   "source": [
    "# Timings <a class=\"anchor\" id=\"time\"></a>\n",
    "<p align=\"right\">(<a href=\"#top\">back to top</a>)</p>"
   ]
  },
  {
   "cell_type": "markdown",
   "id": "7662ca74",
   "metadata": {},
   "source": [
    "### Points only"
   ]
  },
  {
   "cell_type": "code",
   "execution_count": null,
   "id": "f4157d90",
   "metadata": {},
   "outputs": [],
   "source": [
    "with sns.plotting_context('talk'):\n",
    "    plt.figure(figsize=[20,7.5])\n",
    "    plt.title(f'Variation in thermal history and dynamo timings \\n as a function of {varlab}')\n",
    "    plt.scatter(data['diff_time'],data[var],label='differentiation',marker='s',color='darkred')\n",
    "    plt.scatter(data['tmax'],data[var],label='peak mantle temp',marker='+',color='firebrick')\n",
    "    plt.scatter(data['tcoremax'],data[var],label='peak core temp',marker='x',color='rosybrown')\n",
    "    plt.scatter(data['tstrat_remove'],data[var],label='erosion of core stratification',marker='o',color='indianred')\n",
    "    plt.scatter(data['terode'],data[var],label='core stratification removed',marker='p',color='lightcoral')\n",
    "    plt.scatter(data['magon_1'],data[var],label='first dynamo start',marker='<',color='darkblue')\n",
    "    plt.scatter(data['magoff_1'],data[var],label='first dynamo end',marker='>',color='darkblue')\n",
    "    plt.scatter(data['fcond_t'],data[var],label='end of mantle convection',marker='*',color='palevioletred')\n",
    "    plt.scatter(data['magon_2'],data[var],label='second dynamo start',marker='^',color='skyblue')\n",
    "    plt.scatter(data['magoff_2'],data[var],label='second dynamo end',marker='v',color='skyblue')\n",
    "    plt.scatter(data['tsolid'],data[var],label='core solidified',marker='d',color='pink')\n",
    "    plt.xlabel('Time/Myr')\n",
    "    plt.xscale('log')\n",
    "    if logvar == True:\n",
    "        plt.yscale('log')\n",
    "    plt.ylabel(varlab)\n",
    "    plt.legend(ncols=2,bbox_to_anchor=(1,0.9))\n",
    "#if save == True:\n",
    "    #plt.savefig(f'../Plots/{folder}all_timings_{var}.png',dpi=450,bbox_inches='tight')  "
   ]
  },
  {
   "cell_type": "markdown",
   "id": "7e1b11d0",
   "metadata": {},
   "source": [
    "### Filled <a class=\"anchor\" id=\"time-filled\"></a>\n",
    "<p align=\"right\">(<a href=\"#top\">back to top</a>)</p>\n",
    "The points here need removing eventually and the labels need moving around."
   ]
  },
  {
   "cell_type": "code",
   "execution_count": null,
   "id": "0d2daa9e",
   "metadata": {},
   "outputs": [],
   "source": [
    "#filter by number of generation periods\n",
    "#data = data[(data['eta0']>1e11)&(data['eta0']<1e23)]\n",
    "data.loc[data['Fe0']==0,'Fe0']=1e-9\n",
    "data['fcond_t']=data['fcond_t'].fillna(data['tsolid']) #if mantle doesnt stop convecting fill until end of thermal evolution\n",
    "data1 = data[data['Bn1']>1]\n",
    "data2 = data[data['Bn1']>=1] #only one dynamo generation period\n",
    "data2.loc[data2['Bn1']>1,'magon_1']=data2.loc[data2['Bn1']>1,'magon_2'] #replace the first generation period with the second so when plot together get continuous\n",
    "data2.loc[data2['Bn1']>1,'magoff_1']=data2.loc[data2['Bn1']>1,'magoff_2']\n",
    "with sns.plotting_context('talk'):\n",
    "    plt.figure(figsize=[20,7.5])\n",
    "    plt.title(f'Variation in thermal history and dynamo timings \\n as a function of {varlab}')\n",
    "    plt.scatter(data['tmax'],data[var],label='peak mantle temp',marker='+',color='firebrick')\n",
    "    plt.scatter(data['tcoremax'],data[var],label='peak core temp',marker='x',color='rosybrown')\n",
    "    plt.scatter(data['magon_1'],data[var],label='dynamo start',marker='<',color='darkblue')\n",
    "    plt.scatter(data['magoff_1'],data[var],label='dynamo end',marker='>',color='darkblue')\n",
    "    plt.scatter(data['magon_2'],data[var],marker='<',color='darkblue')\n",
    "    plt.scatter(data['magoff_2'],data[var],marker='>',color='darkblue')\n",
    "    plt.fill_betweenx(data[var],0.8,data['diff_time'],color='gray',alpha=0.5)\n",
    "    plt.fill_betweenx(data[var],data['tstrat_start'],data['tstrat_remove'],color='yellow',alpha=0.5)\n",
    "    plt.fill_betweenx(data[var],data['tstrat_remove'],data['terode'],color='yellowgreen',alpha=0.5)\n",
    "    plt.fill_betweenx(data[var],data['magon_1'],data['magoff_1'],color='cornflowerblue',alpha=0.3,hatch='.')\n",
    "    #plt.fill_betweenx(data[var],data['magon_2'],data['magoff_2'],color='cornflowerblue',alpha=0.3,hatch='.')\n",
    "    #plt.fill_betweenx(data1[var],data1['magon_1'],data1['magoff_1'],color='cornflowerblue',alpha=0.3,hatch='.')\n",
    "    plt.fill_betweenx(data1[var],data1['magon_2'],data1['magoff_2'],color='cornflowerblue',alpha=0.3,hatch='.')\n",
    "    #plt.fill_betweenx(data2[var],data2['magon_1'],data2['magoff_1'],color='cornflowerblue',alpha=0.3,hatch='.')\n",
    "    plt.fill_betweenx(data[var],data['diff_time'],data['fcond_t'],color='coral',alpha=0.5)\n",
    "    plt.fill_betweenx(data[var],data['tsolid_start'],data['tsolid'],color='mediumpurple',alpha=0.3)\n",
    "    plt.scatter(data['tsolid'],data[var],label='core solidified',marker='x',color='black')\n",
    "\n",
    "    plt.xlabel('Time/Myr')\n",
    "    plt.xscale('log')\n",
    "    bcol = 'white' #color for label box\n",
    "    ecol ='gray' #edgecolor for label box\n",
    "    aval=0.7 #alpha for label box\n",
    "    if logvar == True:\n",
    "        #add text labels\n",
    "        plt.text(x=1,y=max(data[var])*1e-6,s='Undifferentiated',rotation='vertical',bbox=dict(edgecolor=ecol,facecolor=bcol,alpha=aval))\n",
    "        plt.text(x=data.loc[2,'fcond_t']*4,y=max(data[var])*1e-2,s='Mantle convecting',bbox=dict(edgecolor=ecol,facecolor=bcol,alpha=aval))\n",
    "        plt.text(x=data.loc[2,'magon_1']*4,y=max(data[var])*1e-5,s='Dynamo on',bbox=dict(edgecolor=ecol,facecolor=bcol,alpha=aval))\n",
    "        plt.text(x=10,y=1e-7,s='Core \\n solidifying',bbox=dict(edgecolor=ecol,facecolor=bcol,alpha=aval))\n",
    "        plt.annotate('Erosion of core \\n stratification',(data.loc[2,'terode'],max(data[var])*1e-5),(data.loc[2,'terode']+1,max(data[var])*5e-4),arrowprops=dict(facecolor='black',edgecolor='black'),bbox=dict(edgecolor=ecol,facecolor=bcol,alpha=aval))\n",
    "        plt.yscale('log')\n",
    "    elif (var == 'Xs_0')|(var=='alpha_n'):\n",
    "        plt.text(x=1,y=max(data[var])*0.9,s='Undifferentiated',rotation='vertical',bbox=dict(edgecolor=ecol,facecolor=bcol,alpha=aval))\n",
    "        plt.text(x=data.loc[2,'fcond_t']*0.1,y=max(data[var])*0.9,s='Mantle convecting',bbox=dict(edgecolor=ecol,facecolor=bcol,alpha=aval))\n",
    "        plt.text(x=data.loc[1,'magon_1'],y=max(data[var])*0.9,s='Dynamo on',bbox=dict(edgecolor=ecol,facecolor=bcol,alpha=aval))\n",
    "        plt.text(x=data.loc[data[var]==var1,'tsolid_start'],y=min(data[var])*1.1,s='Core \\n solidifying',bbox=dict(edgecolor=ecol,facecolor=bcol,alpha=aval))\n",
    "        plt.annotate('Erosion of core \\n stratification',(data.loc[1,'terode'],max(data[var])*0.9),(data.loc[1,'terode']+1,max(data[var])*0.85),arrowprops=dict(facecolor='black',edgecolor='black'),bbox=dict(edgecolor=ecol,facecolor=bcol,alpha=aval))\n",
    "    else:\n",
    "        #add text labels\n",
    "        plt.text(x=1,y=max(data[var]/2),s='Undifferentiated',rotation='vertical',bbox=dict(edgecolor=ecol,facecolor=bcol,alpha=aval))\n",
    "        plt.text(x=data.loc[1,'fcond_t']*0.3,y=max(data[var])/2,s='Mantle convecting',bbox=dict(edgecolor=ecol,facecolor=bcol,alpha=aval))\n",
    "        plt.text(x=data.loc[1,'magon_1'],y=max(data[var])/2,s='Dynamo on',bbox=dict(edgecolor=ecol,facecolor=bcol,alpha=aval))\n",
    "        plt.text(x=100,y=max(data[var])/2,s='Dynamo on',bbox=dict(edgecolor=ecol,facecolor=bcol,alpha=aval))\n",
    "        plt.text(x=data.loc[data[var]==var1,'tsolid_start'][0],y=min(data[var])*1.2,s='Core \\n solidifying',bbox=dict(edgecolor=ecol,facecolor=bcol,alpha=aval))\n",
    "        plt.annotate('Erosion of core \\n thermal stratification',(data.loc[2,'terode'],max(data[var])*0.5),(data.loc[2,'terode']+1,max(data[var])*0.47),arrowprops=dict(facecolor='black',edgecolor='black'),bbox=dict(edgecolor=ecol,facecolor=bcol,alpha=aval))\n",
    "    plt.ylabel(f'{varlab} {unit}')\n",
    "    if var == 'Fe0':\n",
    "        plt.yscale('log')\n",
    "        plt.yticks(ticks=[1e-9,1e-8,1e-7,6e-7],labels=[0,'$10^{-8}$','$10^{-7}$','$6\\\\times10^{-7}$'])\n",
    "    \n",
    "    plt.legend(bbox_to_anchor=[0.6,0.4])\n",
    "if save == True:\n",
    "    plt.savefig(f'../Plots/{folder}all_timings_{var}.png',dpi=450,bbox_inches='tight') "
   ]
  },
  {
   "cell_type": "markdown",
   "id": "9dc34ba0",
   "metadata": {},
   "source": [
    "### Dynamo generation time <a class=\"anchor\" id=\"dynamo\"></a>\n",
    "<p align=\"right\">(<a href=\"#top\">back to top</a>)</p>"
   ]
  },
  {
   "cell_type": "code",
   "execution_count": null,
   "id": "bb27d18b",
   "metadata": {},
   "outputs": [],
   "source": [
    "fig, ax = plt.subplots(nrows=1,ncols=2,sharey=True)\n",
    "ax[0].scatter(data['magon_1'],data[var],label='First dynamo on',marker='<',color='navy')\n",
    "ax[0].scatter(data['magoff_1'],data[var],label='First dynamo off',marker='>',color='navy')\n",
    "\n",
    "ax[1].scatter(data['magon_2'],data[var],label='Second dynamo on',marker='^',color='skyblue')\n",
    "ax[1].scatter(data['magoff_2'],data[var],label='Second dynamo off',marker='v',color='skyblue')\n",
    "\n",
    "ax[0].set_ylabel(varlab)\n",
    "ax[0].set_xlabel('Time/Myr')\n",
    "ax[1].set_xlabel('Time/Myr')\n",
    "fig.legend(bbox_to_anchor=[1.3,0.5])\n",
    "\n",
    "#plt.savefig(f'../Plots/{folder}/dynamot_{var}.png')"
   ]
  },
  {
   "cell_type": "markdown",
   "id": "6b8e3d2f",
   "metadata": {},
   "source": [
    "### Solidification time <a class=\"anchor\" id=\"solid\"></a>\n",
    "<p align=\"right\">(<a href=\"#top\">back to top</a>)</p>"
   ]
  },
  {
   "cell_type": "code",
   "execution_count": null,
   "id": "c47f631e",
   "metadata": {},
   "outputs": [],
   "source": [
    "if var == 'Fe0':\n",
    "    cmap = plt.colormaps['viridis']\n",
    "    bounds = [-0.5e-8,0.5e-8,0.5e-7,1.5e-7,1e-6]\n",
    "    norm = mpl.colors.BoundaryNorm(bounds, cmap.N)\n",
    "\n",
    "    fig = plt.figure()\n",
    "    plt.scatter(data[var],data['tsolid'],label='Peak mantle temperature',marker='o')\n",
    "    plt.xlabel(varlab)\n",
    "    plt.ylabel('Core solidification time /Myr')\n",
    "\n",
    "    if save == True:\n",
    "        plt.savefig(f'../Plots/{folder}/solidt_{var}.png',bbox_inches='tight') "
   ]
  },
  {
   "cell_type": "markdown",
   "id": "3b80737a",
   "metadata": {},
   "source": [
    "## Stagnant lid thickness <a class=\"anchor\" id=\"lid\"></a>\n",
    "<p align=\"right\">(<a href=\"#top\">back to top</a>)</p>"
   ]
  },
  {
   "cell_type": "code",
   "execution_count": null,
   "id": "07b1c6aa",
   "metadata": {},
   "outputs": [],
   "source": [
    "plt.figure(tight_layout=True,figsize=[10,8])\n",
    "plt.suptitle(f'Stagnant lid thickness for changes in {varlab} until end of mantle convection')\n",
    "plt.subplot(2,1,1)\n",
    "for i in range(nrun):\n",
    "    run = int(minrun+i)\n",
    "    varval = var_data.loc[var_data['run']==run,var].values[0]\n",
    "    rmantle = var_data.loc[var_data['run']==run,'r'].values[0]/2\n",
    "    fcond_t=var_results.loc[var_results['run']==run,'fcond_t'].values[0]\n",
    "    if var=='r':\n",
    "        varval = varval/1e3\n",
    "    #import data\n",
    "    npzfile = np.load(f'{path}run_{run}.npz')\n",
    "    t = npzfile['t']/Myr #time in Myr\n",
    "    d0 = npzfile['d0']\n",
    "    if fcond_t > 0:\n",
    "        plt.plot(t[t<=fcond_t],d0[t<=fcond_t]/rmantle,label=f'{var}={varval:.2g}',color=colors[i])\n",
    "    else:\n",
    "        plt.plot(t,d0/rmantle,label=f'{var}={varval:.2g}',color=colors[i])\n",
    "plt.xlabel('Time/Myr')\n",
    "plt.ylabel('Stagnant lid thickness/mantle thickness')\n",
    "plt.legend()\n",
    "plt.xscale('log')\n",
    "plt.xlim([0.8,tend])\n",
    "plt.ylim([0,1])\n",
    "#if save == True:\n",
    " #   plt.savefig(f'../Plots/{folder}d0_{var}.png',dpi=450,bbox_inches='tight')"
   ]
  },
  {
   "cell_type": "markdown",
   "id": "1ea744c9",
   "metadata": {},
   "source": [
    "## $\\eta_0$ investigation plots"
   ]
  },
  {
   "cell_type": "code",
   "execution_count": null,
   "id": "bac09eaf",
   "metadata": {},
   "outputs": [],
   "source": [
    "fig, ax = plt.subplots(nrows=1,ncols=1,tight_layout=True,figsize=[10,8])\n",
    "plt.suptitle(f'Stagnant lid thickness for changes in {varlab} until end of mantle convection')\n",
    "ax1 = ax.twinx()\n",
    "run = int(minrun)\n",
    "varval = var_data.loc[var_data['run']==run,var].values[0]\n",
    "fcond_t=var_results.loc[var_results['run']==run,'fcond_t'].values[0]\n",
    "\n",
    "#import data\n",
    "npzfile = np.load(f'{path}run_{run}.npz')\n",
    "t = npzfile['t']/Myr #time in Myr\n",
    "d0 = npzfile['d0']\n",
    "Fs = npzfile['Flux'][0,:]\n",
    "Flid = npzfile['Flux'][4,:]\n",
    "ax.scatter(t,np.round(d0/500),label=f'$\\\\eta_0$={varval:.0e} Pas',color='navy')\n",
    "ax1.plot(t,Fs,linestyle='dashed',color='navy',label='$F_S$')\n",
    "ax1.plot(t,Flid,linestyle='dotted',color='navy',label='$F_{lid}$')\n",
    "#max val\n",
    "run = int(minrun+nrun-1)\n",
    "varval = var_data.loc[var_data['run']==run,var].values[0]\n",
    "fcond_t=var_results.loc[var_results['run']==run,'fcond_t'].values[0]\n",
    "    \n",
    "#import data\n",
    "npzfile = np.load(f'{path}run_{run}.npz')\n",
    "t = npzfile['t']/Myr #time in Myr\n",
    "d0 = npzfile['d0']\n",
    "Fs = npzfile['Flux'][0,:]\n",
    "ax.scatter(t[t<=fcond_t],np.round(d0[t<=fcond_t]/500),label=f'$\\\\eta_0$={varval:.0e} Pas',color='maroon')\n",
    "ax1.plot(t,Fs,linestyle='dashed',color='maroon')\n",
    "ax1.set_ylabel('$F_S$/W$m^{-2}$')\n",
    "ax.set_xlabel('Time/Myr')\n",
    "ax.set_ylabel('Stagnant lid thickness/cell thickness')\n",
    "ax.legend()\n",
    "ax1.legend(loc='lower right')\n",
    "ax.set_xlim([0,10])\n",
    "ax.set_ylim([0,10])\n",
    "#plt.savefig(f'../Plots/{folder}d0zoom_{var}.png',dpi=450,bbox_inches='tight')"
   ]
  },
  {
   "cell_type": "markdown",
   "id": "3c25d6ff",
   "metadata": {},
   "source": [
    "### CMB boundary layer thickness and CMB flux"
   ]
  },
  {
   "cell_type": "code",
   "execution_count": null,
   "id": "5a3852d9",
   "metadata": {},
   "outputs": [],
   "source": [
    "fig, ax = plt.subplots(nrows=1,ncols=1,tight_layout=True,figsize=[10,8])\n",
    "plt.suptitle(f'CMB boundary layer thickness for changes in {varlab}')\n",
    "ax1 = ax.twinx()\n",
    "run = int(minrun)\n",
    "varval = var_data.loc[var_data['run']==run,var].values[0]\n",
    "fcond_t=var_results.loc[var_results['run']==run,'fcond_t'].values[0]\n",
    "\n",
    "#import data\n",
    "npzfile = np.load(f'{path}run_{run}.npz')\n",
    "t = npzfile['t']/Myr #time in Myr\n",
    "dl = npzfile['dl']\n",
    "Fs = npzfile['Flux'][1,:] #fcmb\n",
    "ax.scatter(t,dl/500,label=f'$\\\\eta_0$={varval:.0e} Pas CMB boundary layer',color='navy')\n",
    "ax1.plot(t,Fs,linestyle='dashed',color='navy',label='$F_{CMB}$')\n",
    "\n",
    "#max val\n",
    "run = int(minrun+nrun-1)\n",
    "varval = var_data.loc[var_data['run']==run,var].values[0]\n",
    "fcond_t=var_results.loc[var_results['run']==run,'fcond_t'].values[0]\n",
    "    \n",
    "#import data\n",
    "npzfile = np.load(f'{path}run_{run}.npz')\n",
    "t = npzfile['t']/Myr #time in Myr\n",
    "dl = npzfile['dl']\n",
    "Fs = npzfile['Flux'][1,:]\n",
    "ax.scatter(t[t<=fcond_t],dl[t<=fcond_t]/500,label=f'$\\\\eta_0$={varval:.0e} Pas',color='maroon')\n",
    "ax1.plot(t,Fs,linestyle='dashed',color='maroon')\n",
    "ax1.set_ylabel('$F_{CMB}$/W$m^{-2}$')\n",
    "ax.set_xlabel('Time/Myr')\n",
    "ax.set_ylabel('CMB boundary layer thickness/cell thickness')\n",
    "ax.legend()\n",
    "ax1.legend(loc='upper left')\n",
    "ax.set_xlim([0,10])\n",
    "ax.set_ylim([0,0.2])\n",
    "#plt.savefig(f'../Plots/{folder}{var}_dl.png',dpi=450,bbox_inches='tight')"
   ]
  },
  {
   "cell_type": "code",
   "execution_count": null,
   "id": "076822d1",
   "metadata": {},
   "outputs": [],
   "source": [
    "n=295\n",
    "fig, ax = plt.subplots(nrows=1,ncols=1,tight_layout=True,figsize=[10,8])\n",
    "plt.suptitle(f'Stagnant lid thickness for changes in {varlab} until end of mantle convection')\n",
    "ax1 = ax.twinx()\n",
    "run = int(minrun)\n",
    "varval = var_data.loc[var_data['run']==run,var].values[0]\n",
    "fcond_t=var_results.loc[var_results['run']==run,'fcond_t'].values[0]\n",
    "\n",
    "#import data\n",
    "npzfile = np.load(f'{path}run_{run}.npz')\n",
    "t = npzfile['t']/Myr #time in Myr\n",
    "Ts = npzfile['T_profile']\n",
    "Fs = npzfile['Flux'][0,:]\n",
    "for i in range(2):\n",
    "    ax.scatter(t,Ts[:,(n*i+301)],label=f'$\\\\eta_0$={varval:.0e} Pas {n*i+300} cells',color=colors[i],marker='x')\n",
    "ax1.plot(t,Fs,linestyle='dashed',color='navy')\n",
    "\n",
    "#max val\n",
    "run = int(minrun+nrun-1)\n",
    "varval = var_data.loc[var_data['run']==run,var].values[0]\n",
    "fcond_t=var_results.loc[var_results['run']==run,'fcond_t'].values[0]\n",
    "    \n",
    "#import data\n",
    "npzfile = np.load(f'{path}run_{run}.npz')\n",
    "t = npzfile['t']/Myr #time in Myr\n",
    "Ts = npzfile['T_profile']\n",
    "Fs = npzfile['Flux'][0,:]\n",
    "for i in range(2):\n",
    "    ax.scatter(t[t<=fcond_t],Ts[t<=fcond_t][:,(n*i+301)],label=f'$\\\\eta_0$={varval:.0e} Pas {n*i+300} cells',color=colors[i],s=5,)\n",
    "ax1.plot(t,Fs,linestyle='dashed',color='maroon')\n",
    "ax1.set_ylabel('$F_S$/W$m^{-2}$')\n",
    "ax.set_xlabel('Time/Myr')\n",
    "ax.set_ylabel('Temperature n cells below the surface')\n",
    "ax.legend()\n",
    "ax.set_xlim([0,10])\n",
    "#plt.savefig(f'../Plots/{folder}d0zoom_{var}.png',dpi=450,bbox_inches='tight')"
   ]
  },
  {
   "cell_type": "markdown",
   "id": "5316f3b9",
   "metadata": {},
   "source": [
    "### Integrated surface flux"
   ]
  },
  {
   "cell_type": "code",
   "execution_count": null,
   "id": "95d4e859",
   "metadata": {},
   "outputs": [],
   "source": [
    "#plot of integrated surface flux\n",
    "fig, ax = plt.subplots(nrows=1,ncols=1,tight_layout=True,figsize=[10,8])\n",
    "plt.suptitle(f'Temperature profiles and integrated surface flux for {varlab} until end of mantle convection')\n",
    "ax1 = ax.twinx()\n",
    "run = int(minrun)\n",
    "varval = var_data.loc[var_data['run']==run,var].values[0]\n",
    "fcond_t=var_results.loc[var_results['run']==run,'fcond_t'].values[0]\n",
    "\n",
    "#import data\n",
    "npzfile = np.load(f'{path}run_{run}.npz')\n",
    "t = npzfile['t']/Myr #time in Myr\n",
    "Ts = npzfile['T_profile']\n",
    "Fs = npzfile['Flux'][0,:]\n",
    "colors=['navy','cornflowerblue']\n",
    "for i in range(2):\n",
    "    ax.scatter(t,Ts[:,(n*i+301)],label=f'$\\\\eta_0$={varval:.0e} Pas {n*i+300} cells',color=colors[i],marker='x')\n",
    "ax1.plot(t,np.cumsum(Fs),linestyle='dashed',color='navy')\n",
    "\n",
    "#max val\n",
    "run = int(minrun+nrun-1)\n",
    "varval = var_data.loc[var_data['run']==run,var].values[0]\n",
    "fcond_t=var_results.loc[var_results['run']==run,'fcond_t'].values[0]\n",
    "    \n",
    "#import data\n",
    "npzfile = np.load(f'{path}run_{run}.npz')\n",
    "t = npzfile['t']/Myr #time in Myr\n",
    "Ts = npzfile['T_profile']\n",
    "Fs = npzfile['Flux'][0,:]\n",
    "colors=['maroon','coral']\n",
    "for i in range(2):\n",
    "    ax.scatter(t[t<=fcond_t],Ts[t<=fcond_t][:,(n*i+301)],label=f'$\\\\eta_0$={varval:.0e} Pas {n*i+300} cells',color=colors[i],s=5,)\n",
    "ax1.plot(t,np.cumsum(Fs),linestyle='dashed',color='maroon',label='Cumulative heat flux')\n",
    "ax1.set_ylabel('$\\\\int F_S \\;dt$/W$m^{-2}$')\n",
    "ax.set_xlabel('Time/Myr')\n",
    "ax.set_ylabel('Temperature n cells above the centre')\n",
    "ax.legend()\n",
    "ax1.legend()\n",
    "ax.set_xlim([0,10])\n",
    "if save == True:\n",
    "    plt.savefig(f'../Plots/{folder}{var}_dlT.png',dpi=450,bbox_inches='tight')"
   ]
  },
  {
   "cell_type": "code",
   "execution_count": null,
   "id": "74df9f76",
   "metadata": {},
   "outputs": [],
   "source": []
  }
 ],
 "metadata": {
  "kernelspec": {
   "display_name": "Python 3 (ipykernel)",
   "language": "python",
   "name": "python3"
  },
  "language_info": {
   "codemirror_mode": {
    "name": "ipython",
    "version": 3
   },
   "file_extension": ".py",
   "mimetype": "text/x-python",
   "name": "python",
   "nbconvert_exporter": "python",
   "pygments_lexer": "ipython3",
   "version": "3.9.16"
  }
 },
 "nbformat": 4,
 "nbformat_minor": 5
}
