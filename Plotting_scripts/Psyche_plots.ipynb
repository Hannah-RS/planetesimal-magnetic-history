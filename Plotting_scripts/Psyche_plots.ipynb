{
 "cells": [
  {
   "cell_type": "markdown",
   "id": "476b1510",
   "metadata": {},
   "source": [
    "# Psyche plots <a class=\"anchor\" id=\"top\"></a>\n",
    "\n",
    "\n",
    "## Run information\n",
    "### Core:mantle ratio\n",
    "We want a core:mantle ratio which fits the bulk density of Psyche. However, core density is a function of core sulfur content. For high core sulfur contents, core bulk densities are low and very high core:mantle ratios are needed. For a mantle density of 3000 kg$m^{-3}$ and Psyche bulk density of 4000 kg$m^{-3}$, for a pure iron core rc=0.65r and for a 27.1 wt% sulfur core rc=0.9r. Therefore, I have run models for both of these core:mantle ratios but input an initial core sulfur content of 27.1 wt% into the core solidification model so the code runs. The initial accreted iron content is calculated to match the amount of iron required for a given density and core size. \n",
    "\n",
    "### Parameter choices\n",
    "Runs 1-6 are for two core:mantle ratios $\\frac{r_c}{r}=0.65,0.9$ and three different reference viscosities, $\\eta_0$ for each core:mantle ratio.\n",
    "+ $^{60}Fe/^{56}Fe = 10^{-8}$ lower bound on Solar System value, choice doesn't matter too much as only interested in compositional dynamos and heat is removed very quickly.\n",
    "+ $X_{S,0} = 27.1$wt % lowest initial core sulfur content permissible in my model for this size body, maximises change in density with solidification\n",
    "+ $t_{acc} = 0.3$ Ma suggested by Sam, again slightly arbitrary as extra heater from accreting early will be lost efficiently after differentiation\n",
    "+ $\\phi_C$=0.3, $\\alpha_n$=30, $\\eta_l$=10Pas, $\\beta$=0.0225$K^{-1}$ use median values from Sanderson et. al. 2024b (broad paper) as don't have a significant impact on dynamo generation\n",
    "+ $\\eta_0=[10^{16},10^{19},10^{22}]$Pas as reference viscosity has a significant impact on dynamo generation timing and should always use values above and below the threshold (Sanderson et. al. 2024b)\n",
    "+ $m_{frac}=0$ in most optimistic case we want all solidified material to form a layer at the CMB\n",
    "\n",
    "For runs 7 and 8 as above, but $\\phi_C$=0.5 and as a result the minimum sulfur content is lower ($X_{S,0}$=23.5wt%).\n",
    "\n",
    "## Plots\n",
    "To change which run is plotted - alter the options in the first cell.\n",
    "+ [Summary stats](#stats)\n",
    "+ [Temperature profile](#temp)\n",
    "+ [Heat fluxes](#flux)\n",
    "+ [Field strength and Reynolds number](#Bfield)\n",
    "+ [Solidification endmembers](#icfrac)\n"
   ]
  },
  {
   "cell_type": "markdown",
   "id": "858c9a33",
   "metadata": {},
   "source": [
    "### Set-up"
   ]
  },
  {
   "cell_type": "markdown",
   "id": "e2694a4b",
   "metadata": {},
   "source": [
    "Choose run for main thermal plots and where to save files."
   ]
  },
  {
   "cell_type": "code",
   "execution_count": null,
   "id": "31e9a252",
   "metadata": {},
   "outputs": [],
   "source": [
    "run=5\n",
    "rcr = 0.65 #core:mantle ratio\n",
    "save = True# do you want to save your figures?\n",
    "automated = True # were your results generated using an automated run (default=True)\n",
    "log_time = True #do you want to plot time logarithmically\n",
    "path = '../Results_combined/Psyche/' #path to files \n",
    "save_path = '../Plots/Psyche/'"
   ]
  },
  {
   "cell_type": "code",
   "execution_count": null,
   "id": "f8c9fc40",
   "metadata": {},
   "outputs": [],
   "source": [
    "import numpy as np\n",
    "import pandas as pd\n",
    "import matplotlib.pyplot as plt\n",
    "import matplotlib as mpl\n",
    "import sys\n",
    "\n",
    "#scale time to Myr\n",
    "from plot_params import Myr, f0"
   ]
  },
  {
   "cell_type": "markdown",
   "id": "e6b6ddd9",
   "metadata": {},
   "source": [
    "Load results for differentiation"
   ]
  },
  {
   "cell_type": "code",
   "execution_count": null,
   "id": "8f615fff",
   "metadata": {},
   "outputs": [],
   "source": [
    "npzfile = np.load(f'{path}run_{run}_diff.npz')\n",
    "Tdiff = npzfile['Tdiff'] \n",
    "iron = npzfile['Xfe']\n",
    "silicate_d = npzfile['Xsi']\n",
    "tdiff = npzfile['t_diff']\n",
    "Ra_d = npzfile['Ra']\n",
    "Ra_crit_d = npzfile['Ra_crit']\n",
    "d0_diff = npzfile['d0']"
   ]
  },
  {
   "cell_type": "markdown",
   "id": "052ada3a",
   "metadata": {},
   "source": [
    "Load results for thermal evolution"
   ]
  },
  {
   "cell_type": "code",
   "execution_count": null,
   "id": "81a73c3d",
   "metadata": {},
   "outputs": [],
   "source": [
    "npzfile = np.load(f'{path}run_{run}.npz')\n",
    "Tc= npzfile['Tc'] \n",
    "Tc_conv = npzfile['Tc_conv']\n",
    "Tcmb = npzfile['Tcmb']\n",
    "Tm_mid = npzfile['Tm_mid']\n",
    "Tm_conv = npzfile['Tm_conv']\n",
    "Tm_surf = npzfile['Tm_surf'] \n",
    "T_profile = npzfile['T_profile']\n",
    "f = npzfile['f'] \n",
    "\n",
    "t = npzfile['t'] #time in s\n",
    "Rem = npzfile['Rem'] # magnetic Reynolds number \n",
    "B = npzfile['B']/1e-6 # magnetic field strength [T] \n",
    "buoyr = npzfile['buoyr'] #compositional buoyancy flux and thermal buoyancy flux\n",
    "Flux = npzfile['Flux']\n",
    "Ra = npzfile['Ra'] \n",
    "RaH = npzfile['RaH'] \n",
    "RanoH = npzfile['RanoH'] \n",
    "Racrit = npzfile['Racrit'] \n",
    "d0 = npzfile['d0'] \n",
    "min_unstable = npzfile['min_unstable'] \n",
    "Urey = npzfile['Ur']\n",
    "Xs = npzfile['Xs']\n",
    "dl = npzfile['dl']\n",
    "dc = npzfile['dc']\n",
    "Fs = Flux[0]\n",
    "Fcmb = Flux[1]\n",
    "Fad = Flux[2]\n",
    "Frad = Flux[3]"
   ]
  },
  {
   "cell_type": "markdown",
   "id": "8c75b413",
   "metadata": {},
   "source": [
    "Concatenate shared variables.\n",
    "\n",
    "`Tall[0,:]` - central temperature at all times\n",
    "`Tall[-1,:]` - surface temperature at all times"
   ]
  },
  {
   "cell_type": "code",
   "execution_count": null,
   "id": "470a4e51",
   "metadata": {},
   "outputs": [],
   "source": [
    "Tall = np.hstack((Tdiff,np.transpose(T_profile)))\n",
    "tall = np.append(tdiff,t)\n",
    "iron_all = np.hstack\n",
    "Ra_all = np.append(Ra_d,Ra)\n",
    "Ra_crit_all = np.append(Ra_crit_d,Racrit)\n",
    "d0_all = np.append(d0_diff,d0)"
   ]
  },
  {
   "cell_type": "markdown",
   "id": "ed30a852",
   "metadata": {},
   "source": [
    "Scale time by Myr"
   ]
  },
  {
   "cell_type": "code",
   "execution_count": null,
   "id": "cf47ce2b",
   "metadata": {},
   "outputs": [],
   "source": [
    "t_plot_all = tall/Myr\n",
    "t_plot_t = t/Myr"
   ]
  },
  {
   "cell_type": "markdown",
   "id": "bd60c1d2",
   "metadata": {},
   "source": [
    "Run info"
   ]
  },
  {
   "cell_type": "code",
   "execution_count": null,
   "id": "99649f33",
   "metadata": {},
   "outputs": [],
   "source": [
    "r = 130e3 #radius [km]\n",
    "dr = 500 #grid spacing [m]\n",
    "icfrac=0 #solidification endmember"
   ]
  },
  {
   "cell_type": "markdown",
   "id": "b26d370e",
   "metadata": {},
   "source": [
    "## Summary statistics <a class=\"anchor\" id=\"stats\"></a>\n",
    "<p align=\"right\">(<a href=\"#top\">back to top</a>)</p>"
   ]
  },
  {
   "cell_type": "markdown",
   "id": "142810ca",
   "metadata": {},
   "source": [
    "Load in results data"
   ]
  },
  {
   "cell_type": "code",
   "execution_count": null,
   "id": "bd4aa18e",
   "metadata": {},
   "outputs": [],
   "source": [
    "run_info = pd.read_csv(path+'run_results.csv',delimiter=',',skiprows=[1])  \n",
    "results = run_info[run_info['run']==run]\n",
    "results.reset_index(inplace=True,drop=True)"
   ]
  },
  {
   "cell_type": "markdown",
   "id": "a6c76e3b",
   "metadata": {},
   "source": [
    "Load in run parameters"
   ]
  },
  {
   "cell_type": "code",
   "execution_count": null,
   "id": "9eafd74c",
   "metadata": {},
   "outputs": [],
   "source": [
    "params = pd.read_csv(f'{path}auto_params.csv',skiprows=[1])\n",
    "params = params[params['run']==run]"
   ]
  },
  {
   "cell_type": "markdown",
   "id": "00b5daf1",
   "metadata": {},
   "source": [
    "Assign to variables values that will be used later"
   ]
  },
  {
   "cell_type": "code",
   "execution_count": null,
   "id": "2c50f51a",
   "metadata": {},
   "outputs": [],
   "source": [
    "n_cells = int(r/dr)\n",
    "nccells = round((n_cells-3)*(rcr))+2 #number of cells needed to span core (inc. centre and CMB)\n",
    "nmantle = n_cells - nccells +1 #number of cells needed to span mantle plus one extra for CMB\n",
    "rc = (nccells-1)*dr #radius of core [m], subtract one for centre\n",
    "terode = results.at[0,'terode']\n",
    "tstrat_remove = results.at[0,'tstrat_remove']\n",
    "diff_time = results.at[0,'diff_time']\n",
    "peak_coreT = np.amax(Tall[:nmantle,:])\n",
    "loc_max = np.where(Tall[:nmantle,:]==peak_coreT)[1][0] #take the set of time coordinates and first value (they should all be the same)\n",
    "tcoremax = tall[loc_max]/Myr\n",
    "fcond_t = results.at[0,'fcond_t']\n",
    "diff_T =results.at[0,'diff_T']\n",
    "\n",
    "#dynamo on and off times\n",
    "var_results = pd.read_csv(path+'run_results.csv',skiprows=[1])\n",
    "on1=var_results.loc[var_results['run']==run,'magon_1'].values[0]\n",
    "off1=var_results.loc[var_results['run']==run,'magoff_1'].values[0]\n",
    "on2=var_results.loc[var_results['run']==run,'magon_2'].values[0]\n",
    "off2=var_results.loc[var_results['run']==run,'magoff_2'].values[0]\n",
    "on3=var_results.loc[var_results['run']==run,'magon_3'].values[0]\n",
    "off3=var_results.loc[var_results['run']==run,'magoff_3'].values[0]"
   ]
  },
  {
   "cell_type": "markdown",
   "id": "531bac0d",
   "metadata": {},
   "source": [
    "Print a summary"
   ]
  },
  {
   "cell_type": "code",
   "execution_count": null,
   "id": "a7877d6a",
   "metadata": {},
   "outputs": [],
   "source": [
    "print(f\"Differentiation is at {results.at[0,'diff_time']:.2f} Myr\")\n",
    "print(f\"The temperature at differentiation is at {results.at[0,'diff_T']:.2f}K\")\n",
    "print(f\"Peak magma ocean temp is {results.at[0,'peakT']:.0f}K at {results.at[0,'tmax']:.2f} Myr\")\n",
    "print(f\"Stratification starts at {results.at[0,'tstrat_start']:.2f} Myr\")\n",
    "print(f\"Mantle hotter than the core until {results.at[0,'tstrat_remove']:.2f} Myr\")\n",
    "print(f\"Erosion of stratification by {results.at[0,'terode']:.2f} Myr\") \n",
    "print(f\"End of mantle convection by {results.at[0,'fcond_t']:.2f} Myr\")\n",
    "print(f\"The maximum thermal Rem is {results.at[0,'max_Rtherm']:.2f} at {results.at[0,'max_Rtherm']:.2f} Myr\")\n",
    "print(f\"The maximum thermal field strength is {results.at[0,'max_Btherm']:.2e}T at {results.at[0,'max_Bthermt']:.2f} Myr\")\n",
    "print(f\"The maximum compositional Rem is {results.at[0,'max_Rcomp']:.2f}\")\n",
    "print(f\"The maximum compositional field strength is {results.at[0,'max_Bcomp']:.2e}\")\n",
    "print(f'The dynamo starts at {on1:.2f} Myr, stops at {off1:.2f} Myr and lasts {off1-on1:.2f} Myr')\n",
    "if on2 > 0:\n",
    "    print(f'The second dynamo starts at {on2:.2f} Myr, stops at {off2:.2f} Myr and lasts {off2-on2:.2f} Myr')\n",
    "if on3 > 0:\n",
    "    print(f'The third dynamo starts at {on3:.2f} Myr, stops at {off3:.2f} Myr and lasts {off3-on3:.2f} Myr')\n",
    "print(f\"Core solidification begins at {results.at[0,'tsolid_start']:.2f} Ma and ends at {results.at[0,'tsolid']:.2f} Ma\")"
   ]
  },
  {
   "cell_type": "markdown",
   "id": "6b9f8dde",
   "metadata": {},
   "source": [
    "# Example run"
   ]
  },
  {
   "cell_type": "markdown",
   "id": "7443d762",
   "metadata": {},
   "source": [
    "## Temperature profile <a class=\"anchor\" id=\"temp\"></a>\n",
    "<p align=\"right\">(<a href=\"#top\">back to top</a>)</p>"
   ]
  },
  {
   "cell_type": "markdown",
   "id": "71e0ab49",
   "metadata": {},
   "source": [
    "Create r array for plotting and prelog time to speed up plotting"
   ]
  },
  {
   "cell_type": "code",
   "execution_count": null,
   "id": "1b4fea43",
   "metadata": {},
   "outputs": [],
   "source": [
    "log_time = False"
   ]
  },
  {
   "cell_type": "code",
   "execution_count": null,
   "id": "893c3034",
   "metadata": {},
   "outputs": [],
   "source": [
    "rplot = np.arange(0,int(r)+dr,int(dr))/1e3\n",
    "r_unstable=np.array([]) \n",
    "for ind in min_unstable:\n",
    "    r_unstable = np.append(r_unstable,rplot[int(ind)])\n",
    "\n",
    "\n",
    "#log time\n",
    "if log_time == True:\n",
    "    tpt = np.log10(t_plot_t)\n",
    "    tpa = np.log10(t_plot_all)\n",
    "    lfcond = np.log10(fcond_t)\n",
    "    on1l = np.log10(on1)\n",
    "    on2l = np.log10(on2)\n",
    "    on3l = np.log10(on3)\n",
    "    off1l = np.log10(off1)\n",
    "    off2l = np.log10(off3)\n",
    "    off3l = np.log10(off3)\n",
    "else: \n",
    "    tpt = t_plot_t\n",
    "    tpa = t_plot_all\n",
    "    lfcond = fcond_t\n",
    "    on1l = on1\n",
    "    on2l = on2\n",
    "    on3l = on3\n",
    "    off1l = off1\n",
    "    off2l = off2\n",
    "    off3l = off3"
   ]
  },
  {
   "cell_type": "markdown",
   "id": "e037eae4",
   "metadata": {},
   "source": [
    "Make figure"
   ]
  },
  {
   "cell_type": "code",
   "execution_count": null,
   "id": "cd9e03bb",
   "metadata": {},
   "outputs": [],
   "source": [
    "Tcurie = 1053 #choose Curie temp in Kelvin"
   ]
  },
  {
   "cell_type": "code",
   "execution_count": null,
   "id": "67d5a668",
   "metadata": {},
   "outputs": [],
   "source": [
    "plt.figure(figsize=[10,20/3])\n",
    "plt.pcolormesh(tpa[::2],rplot[::2],Tall[::2,::2],shading = 'gouraud',vmin=Tcurie,vmax=1600) \n",
    "plt.hlines(rc/1e3,tpt[0],max(tpa),linestyle='--',color='black',label='CMB')\n",
    "plt.vlines(tpt[0],0,r/1e3,linestyle='-.',label='Differentiation')\n",
    "plt.fill_betweenx([0,rc/5e3],on1l,off1l,alpha=0,hatch='/',label='dynamo on')\n",
    "plt.plot(tpt,r_unstable,linestyle='dotted',label='Convecting core')\n",
    "if on2 > 0:\n",
    "    plt.fill_betweenx([0,rc/5e3],on2l,off2l,alpha=0,hatch='/')\n",
    "if on3 > 0: \n",
    "    plt.fill_betweenx([0,rc/5e3],on3l,off3l,alpha=0,hatch='/')\n",
    "\n",
    "if np.any(t_plot_t<fcond_t):\n",
    "    plt.plot(tpt[(t_plot_t<=fcond_t)&(d0<(r-rc))],(r-d0[(t_plot_t<=fcond_t)&(d0<(r-rc))])/1e3,linestyle='dashed',label='base of $\\delta_0$',color='blue')\n",
    "    plt.plot(tpt[(t_plot_t<=fcond_t)&(r_unstable==0)][1:],(rc+dl[(t_plot_t<=fcond_t)&(r_unstable==0)][1:])/1e3,linestyle='dotted',label='top of $\\delta_l$',color='blue')\n",
    "    plt.vlines(tpt[t_plot_t<=fcond_t][-1],r/1e3,rc/1e3,linestyle='dotted',label='conductive mantle',color='red')\n",
    "plt.plot(tpt[f<f0],f[f<f0]*rc/1e3,linestyle='-.',color='black',label='Top of liquid core')\n",
    "#labels and limits\n",
    "plt.ylabel('Distance from centre of planetesimal/km')\n",
    "plt.xlabel('Time / Ma')\n",
    "plt.colorbar(label='Temperature/K')\n",
    "plt.ylim(bottom=0)\n",
    "plt.legend(bbox_to_anchor=[1.6,0.5])\n",
    "#plt.xscale('log')\n",
    "if save == True:\n",
    "    plt.savefig(f'{save_path}run_{run}_thermal_profile.png',bbox_inches='tight',dpi=500)"
   ]
  },
  {
   "cell_type": "markdown",
   "id": "024a53e7",
   "metadata": {},
   "source": [
    "## Temperature and heat fluxes <a class=\"anchor\" id=\"flux\"></a>\n",
    "<p align=\"right\">(<a href=\"#top\">back to top</a>)</p>"
   ]
  },
  {
   "cell_type": "markdown",
   "id": "e2915bd3",
   "metadata": {},
   "source": [
    "Have plotted only the central core temperature and convective mantle temperature."
   ]
  },
  {
   "cell_type": "code",
   "execution_count": null,
   "id": "e4e5bfee",
   "metadata": {},
   "outputs": [],
   "source": [
    "log_time = True"
   ]
  },
  {
   "cell_type": "code",
   "execution_count": null,
   "id": "4ef805bb",
   "metadata": {},
   "outputs": [],
   "source": [
    "import seaborn as sns"
   ]
  },
  {
   "cell_type": "code",
   "execution_count": null,
   "id": "29c1b2fc",
   "metadata": {},
   "outputs": [],
   "source": [
    "dl_end = int(dl[Tm_conv==0][0]/dr) #index of CMB b.l. base above CMB at cessation of convection\n",
    "\n",
    "with sns.plotting_context('paper',font_scale=1.4):\n",
    "    plt.figure(tight_layout=True,figsize=[10,7])\n",
    "\n",
    "\n",
    "    #temperatures as function of time\n",
    "    plt.subplot(2,1,1)\n",
    "\n",
    "    plt.plot(t_plot_t,Tc,label='central core temperature',color='black')\n",
    "    plt.plot(t_plot_t[Tm_conv!=0],Tm_conv[Tm_conv!=0],label='convective mantle temperature',color='#FF5350')\n",
    "    plt.plot(t_plot_t[Tm_conv==0],T_profile[Tm_conv==0,nmantle+dl_end+2],label='conductive mantle temperature',color='#FF5350',linestyle='dashed')\n",
    "    if log_time == True:\n",
    "        plt.xscale('log')\n",
    "    plt.ylim([1250,1550])\n",
    "    plt.ylabel('T/K')\n",
    "    plt.legend(loc='lower left')\n",
    "\n",
    "    #fluxes as function of time\n",
    "    plt.subplot(2,1,2)\n",
    "    Fcmb_neg = Fcmb[Fcmb<0]\n",
    "    Fcmb_pos = Fcmb[Fcmb>0]\n",
    "\n",
    "    plt.semilogy(t_plot_t,Fs,label='$F_s$',color='#0F4C5C')\n",
    "    plt.scatter(t_plot_t[Fcmb<0],abs(Fcmb_neg),label='$-F_{CMB}$',color='#5BC0EB',s=2)\n",
    "    plt.scatter(t_plot_t[Fcmb>0],Fcmb_pos,label='$F_{CMB}$',color='#5F0F40',s=2)\n",
    "    plt.semilogy(t_plot_t,Fad,label='$F_{ad}$',color='#E36414',linestyle='dashed')\n",
    "    plt.semilogy(t_plot_t,Frad,label='$F_{rad}$',color='#9A031E',linestyle='-.')\n",
    "    plt.fill_betweenx(y=[1e-4,100],x1=tstrat_remove,x2=terode,label='erosion of stratification',alpha=0.2)\n",
    "    plt.fill_betweenx(y=[1e-4,100],x1=fcond_t,x2=max(t_plot_t),label='mantle conducting',alpha=0.2)\n",
    "    plt.fill_betweenx(y=[1e-4,1e-3],x1=on1,x2=off1,label='dynamo on',alpha=0.2,color='grey')\n",
    "    plt.fill_betweenx(y=[1e-4,1e-3],x1=on2,x2=off2,alpha=0.2,color='grey')\n",
    "    if log_time == True:\n",
    "        plt.xscale('log')\n",
    "    plt.xlabel('Time/ Ma')\n",
    "\n",
    "    plt.ylim([1e-4,1e2])   #use these limits when comparing runs\n",
    "    plt.ylabel('Heat flux/ W$m^{-2}$')\n",
    "    plt.legend(loc='upper right',ncol=2)\n",
    "\n",
    "    if save == True:\n",
    "        plt.savefig(f'{save_path}run_{run}_flux.png',dpi=500)"
   ]
  },
  {
   "cell_type": "markdown",
   "id": "7a48b211",
   "metadata": {},
   "source": [
    "## Magnetic Field Strength <a class=\"anchor\" id=\"Bfield\"></a>\n",
    "<p align=\"right\">(<a href=\"#top\">back to top</a>)</p>"
   ]
  },
  {
   "cell_type": "markdown",
   "id": "e59e6d90",
   "metadata": {},
   "source": [
    "Extract compositional and thermal buoyancy components"
   ]
  },
  {
   "cell_type": "code",
   "execution_count": null,
   "id": "5bd33fe8",
   "metadata": {},
   "outputs": [],
   "source": [
    "comp = buoyr[0,:]\n",
    "therm = buoyr[1,:]"
   ]
  },
  {
   "cell_type": "code",
   "execution_count": null,
   "id": "385db85f",
   "metadata": {},
   "outputs": [],
   "source": [
    "Xs_eutectic = 33\n",
    "print(f'The core reaches the eutectic at {t_plot_t[Xs>=Xs_eutectic][0]:.2f} Ma')"
   ]
  },
  {
   "cell_type": "markdown",
   "id": "83cfeca7",
   "metadata": {},
   "source": [
    "Create data frames for rolling average compositional dynamo strengths"
   ]
  },
  {
   "cell_type": "code",
   "execution_count": null,
   "id": "808dcf1f",
   "metadata": {},
   "outputs": [],
   "source": [
    "compdf = pd.Series(comp[f<f0])\n",
    "thermdf = pd.Series(therm[f<f0])\n",
    "Remdf = pd.Series(Rem[f<f0])\n",
    "Bdf = pd.Series(B[f<f0])"
   ]
  },
  {
   "cell_type": "markdown",
   "id": "a61177c9",
   "metadata": {},
   "source": [
    "Make figure"
   ]
  },
  {
   "cell_type": "markdown",
   "id": "a918f55b",
   "metadata": {},
   "source": [
    "There is a lag between the onset of solidification and the rolling average so plot the original time series and the average."
   ]
  },
  {
   "cell_type": "code",
   "execution_count": null,
   "id": "a250c241",
   "metadata": {},
   "outputs": [],
   "source": [
    "wn = 20 #averaging window width\n",
    "fig, ax = plt.subplots(nrows=1,ncols=1,sharex='col',figsize=[10,4])\n",
    "#B and Rem\n",
    "ax2 = ax.twinx()\n",
    "ln1 = ax.plot(t_plot_t[f>=f0],np.ma.masked_where(Rem[f>=f0]<10,B[f>=f0]),color='black')\n",
    "ax.plot(t_plot_t[f<f0],np.ma.masked_where(Rem[f<f0]<10,B[f<f0]),color='black',alpha=0.1) #original series\n",
    "ax.plot(t_plot_t[f<f0],Bdf.rolling(window=wn,center=True).mean(),color='black') #average\n",
    "ln2 = ax2.plot(t_plot_t[f>=f0],Rem[f>=f0],color='darkorchid')\n",
    "ax2.plot(t_plot_t[f<f0],Rem[f<f0],color='darkorchid',alpha=0.1) #original series\n",
    "ax2.plot(t_plot_t[f<f0],Remdf.rolling(window=wn,center=True).mean(),color='darkorchid') #average\n",
    "\n",
    "ax2.hlines(10,min(t_plot_t),max(t_plot_t),linestyle='dashed',color='grey')\n",
    "ax.legend(ln1+ln2,['Magnetic field strength','Re$_m$'])\n",
    "ax.set_ylabel('Magnetic field strength/ $\\mu T$')\n",
    "ax2.set_ylabel('$Re_m$')\n",
    "ax.tick_params(axis='y',colors='black')\n",
    "ax2.tick_params(axis='y',colors='darkorchid')\n",
    "ax.yaxis.label.set_color('black') \n",
    "ax2.yaxis.label.set_color('darkorchid') \n",
    "\n",
    "if save == True:\n",
    "    plt.savefig(f'{save_path}run_{run}_Bbuoy.png',dpi=500)"
   ]
  },
  {
   "cell_type": "markdown",
   "id": "aa06f852",
   "metadata": {},
   "source": [
    "## Magnetic field comparison  <a class=\"anchor\" id=\"therm-comp\"></a>\n",
    "<p align=\"right\">(<a href=\"#top\">back to top</a>)</p>\n",
    "Compare magnetic field generation for three runs."
   ]
  },
  {
   "cell_type": "code",
   "execution_count": null,
   "id": "ac9315c6",
   "metadata": {},
   "outputs": [],
   "source": [
    "run = 1\n",
    "npzfile = np.load(f'{path}run_{run}.npz')\n",
    "\n",
    "f3 = npzfile['f'] \n",
    "t3 = npzfile['t'] #time in s\n",
    "Rem3 = npzfile['Rem'] # magnetic Reynolds number \n",
    "B3 = npzfile['B']/1e-6 # magnetic field strength [T] \n",
    "buoyr3 = npzfile['buoyr'] #compositional buoyancy flux and thermal buoyancy flux\n",
    "Xs3 = npzfile['Xs']\n",
    "t_plot_t3 = t3/Myr"
   ]
  },
  {
   "cell_type": "code",
   "execution_count": null,
   "id": "bfc65c06",
   "metadata": {},
   "outputs": [],
   "source": [
    "comp3 = buoyr3[0,:]\n",
    "therm3 = buoyr3[1,:]"
   ]
  },
  {
   "cell_type": "code",
   "execution_count": null,
   "id": "2f84cc4c",
   "metadata": {},
   "outputs": [],
   "source": [
    "compdf3 = pd.Series(comp3[f3<f0])\n",
    "thermdf3 = pd.Series(therm3[f3<f0])\n",
    "Remdf3 = pd.Series(Rem3[f3<f0])\n",
    "Bdf3 = pd.Series(B3[f3<f0])"
   ]
  },
  {
   "cell_type": "markdown",
   "id": "c961dac5",
   "metadata": {},
   "source": [
    "Import another run"
   ]
  },
  {
   "cell_type": "code",
   "execution_count": null,
   "id": "7b42d5ab",
   "metadata": {},
   "outputs": [],
   "source": [
    "run = 6\n",
    "\n",
    "npzfile = np.load(f'{path}run_{run}.npz')\n",
    "\n",
    "f4 = npzfile['f'] \n",
    "t4 = npzfile['t'] #time in s\n",
    "Rem4 = npzfile['Rem'] # magnetic Reynolds number \n",
    "B4 = npzfile['B']/1e-6 # magnetic field strength [T] \n",
    "buoyr4 = npzfile['buoyr'] #compositional buoyancy flux and thermal buoyancy flux\n",
    "Xs4 = npzfile['Xs']\n",
    "t_plot_t4 = t4/Myr"
   ]
  },
  {
   "cell_type": "code",
   "execution_count": null,
   "id": "e3f9c77d",
   "metadata": {},
   "outputs": [],
   "source": [
    "wn = 200 #averaging window width\n",
    "c2= '#DAC800'\n",
    "c1 = '#CA7800' #highest S content\n",
    "c3='#4F4F4F' #lowest S content\n",
    "fig, ax = plt.subplots(nrows=2,ncols=1,figsize=[10,6],sharex='col')\n",
    "#scale solidification time\n",
    "t_plot_solid = t_plot_t[f<f0]\n",
    "t_plot_solid3 = t_plot_t3[f3<f0]\n",
    "\n",
    "# B \n",
    "#non-eutectic - 27.1wt%\n",
    "ln0 = ax[0].plot(t_plot_t3[f3>=f0],np.ma.masked_where(Rem3[f3>=f0]<10,B3[f3>=f0]),color=c3)\n",
    "ax[0].plot(t_plot_t3[f3<f0],np.ma.masked_where(Rem3[f3<f0]<10,B3[f3<f0]),color=c3,alpha=0.1) #original series\n",
    "ax[0].plot(np.ma.masked_where(Remdf3.rolling(window=wn,center=True).mean()<10,t_plot_solid3),\\\n",
    "                 np.ma.masked_where(Remdf3.rolling(window=wn,center=True).mean()<10,Bdf3.rolling(window=wn,center=True).mean()),\\\n",
    "                 color=c3)\n",
    "#non-eutectic - 30.05wt%\n",
    "ax[0].plot(t_plot_t[f>=f0],np.ma.masked_where(Rem[f>=f0]<10,B[f>=f0]),color=c1)\n",
    "ax[0].plot(t_plot_t[f<f0],np.ma.masked_where(Rem[f<f0]<10,B[f<f0]),color=c1,alpha=0.1) #original series\n",
    "ln1 = ax[0].plot(np.ma.masked_where(Remdf.rolling(window=wn,center=True).mean()<10,t_plot_solid),\\\n",
    "                 np.ma.masked_where(Remdf.rolling(window=wn,center=True).mean()<10,Bdf.rolling(window=wn,center=True).mean()),\\\n",
    "                 color=c1)\n",
    "#eutectic\n",
    "ln2 = ax[0].plot(t_plot_t4,np.ma.masked_where(Rem4<10,B4),color=c2) \n",
    "\n",
    "#Rem\n",
    "#non-eutectic - 27.1 wt%\n",
    "ax[1].plot(t_plot_t3[f3>=f0],Rem3[f3>=f0],color=c3)\n",
    "ax[1].plot(t_plot_solid3, Remdf3.rolling(window=wn,center=True).mean(),color=c3)\n",
    "ax[1].plot(t_plot_t3[f3<f0],Rem3[f3<f0],color=c3,alpha=0.1) #original series\n",
    "#non-eutectic - 30.05 wt%\n",
    "ax[1].plot(t_plot_t[f>=f0],Rem[f>=f0],color=c1)\n",
    "ax[1].plot(t_plot_solid, Remdf.rolling(window=wn,center=True).mean(),color=c1)\n",
    "ax[1].plot(t_plot_t[f<f0],Rem[f<f0],color=c1,alpha=0.1) #original series\n",
    "#eutectic\n",
    "ax[1].plot(t_plot_t4,Rem4,color=c2) \n",
    "\n",
    "ax[1].hlines(10,min(t_plot_t),max(t_plot_t),linestyle='dashed',color='grey')\n",
    "ax[0].legend(ln0+ln1+ln2,[f'X$_{{s,0}}$={Xs3[0]:.1f} wt%',f'X$_{{s,0}}$={Xs[0]:.1f} wt%','Eutectic $X_{S,0}$'],loc='lower left')\n",
    "ax[0].set(ylabel='Magnetic field \\n strength/ $\\mu T$',ylim=[0,20])\n",
    "ax[0].set(xlabel='Time /Ma')\n",
    "ax[1].set(xlabel='Time /Ma',ylabel='$Re_m$',xscale='log',ylim=[0,150])\n",
    "if save == True:\n",
    "    plt.savefig(f'{save_path}Bnobuoy.pdf',dpi=500)"
   ]
  },
  {
   "cell_type": "code",
   "execution_count": null,
   "id": "05a6a0ad",
   "metadata": {},
   "outputs": [],
   "source": []
  }
 ],
 "metadata": {
  "kernelspec": {
   "display_name": "Python 3 (ipykernel)",
   "language": "python",
   "name": "python3"
  },
  "language_info": {
   "codemirror_mode": {
    "name": "ipython",
    "version": 3
   },
   "file_extension": ".py",
   "mimetype": "text/x-python",
   "name": "python",
   "nbconvert_exporter": "python",
   "pygments_lexer": "ipython3",
   "version": "3.9.16"
  }
 },
 "nbformat": 4,
 "nbformat_minor": 5
}
