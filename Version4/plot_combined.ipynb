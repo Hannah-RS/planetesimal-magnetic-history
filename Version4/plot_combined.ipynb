{
 "cells": [
  {
   "cell_type": "markdown",
   "id": "c06eb9ae",
   "metadata": {},
   "source": [
    "# Plots for differentiation and thermal evolution<a class=\"anchor\" id=\"top\"></a>\n",
    "For the whole thermal evolution:\n",
    "+ [temperature](#temp)\n",
    "+ [% silicate melted](#silicate)\n",
    "+ [Rayleigh number](#critical-rayleigh)\n",
    "+ [Stagnant lid thickness](#d0)\n",
    "+ [Urey ratio](#Urey)\n",
    "\n",
    "\n",
    "For differentiation stage:\n",
    "+ [% iron melted](#iron)\n",
    "\n",
    "For the thermal evolution stage:\n",
    "+ [temperatures and heat fluxes](#temp-heat)\n",
    "+ [inner core size and magnetic Reynolds number](#Rem)\n",
    "+ [magnetic field strength](#B)"
   ]
  },
  {
   "cell_type": "markdown",
   "id": "259cb6b5",
   "metadata": {},
   "source": [
    "## Set-up"
   ]
  },
  {
   "cell_type": "code",
   "execution_count": 1,
   "id": "f34b80b8",
   "metadata": {},
   "outputs": [],
   "source": [
    "#import modules\n",
    "import matplotlib.pyplot as plt\n",
    "import numpy as np\n",
    "import pandas as pd\n",
    "from load_info import load_run_info\n",
    "\n",
    "#scale time to Myr\n",
    "from parameters import Myr, Tms, Tml, Xs_0 #need to change so import from save file instead"
   ]
  },
  {
   "cell_type": "markdown",
   "id": "904d4e2e",
   "metadata": {},
   "source": [
    "Choose run and whether you want to save figure"
   ]
  },
  {
   "cell_type": "code",
   "execution_count": 2,
   "id": "b2ff3adf",
   "metadata": {},
   "outputs": [],
   "source": [
    "run=1\n",
    "save = False # do you want to save your figures?\n",
    "conduction = True #does the mantle switch to conduction\n",
    "path = 'Results_combined/Timestep_test/' #path to files"
   ]
  },
  {
   "cell_type": "markdown",
   "id": "0ff7cc89",
   "metadata": {},
   "source": [
    "Load npz files for differentiation"
   ]
  },
  {
   "cell_type": "code",
   "execution_count": 3,
   "id": "e7c70656",
   "metadata": {},
   "outputs": [],
   "source": [
    "npzfile = np.load(f'{path}run_{run}_diff.npz')\n",
    "Tdiff = npzfile['Tdiff'] \n",
    "iron = npzfile['Xfe']\n",
    "silicate_d = npzfile['Xsi']\n",
    "tdiff = npzfile['t_diff']\n",
    "Ra_d = npzfile['Ra']\n",
    "Ra_crit_d = npzfile['Ra_crit']\n",
    "d0_diff = npzfile['d0']"
   ]
  },
  {
   "cell_type": "markdown",
   "id": "f5423827",
   "metadata": {},
   "source": [
    "Load npz files for thermal evolution"
   ]
  },
  {
   "cell_type": "code",
   "execution_count": 4,
   "id": "6aba2d5d",
   "metadata": {},
   "outputs": [],
   "source": [
    "npzfile = np.load(f'{path}run_{run}.npz')\n",
    "Tc= npzfile['Tc'] \n",
    "Tc_conv = npzfile['Tc_conv']\n",
    "Tcmb = npzfile['Tcmb']\n",
    "Tm_mid = npzfile['Tm_mid']\n",
    "Tm_conv = npzfile['Tm_conv']\n",
    "Tm_surf = npzfile['Tm_surf'] \n",
    "T_profile = npzfile['T_profile']\n",
    "f = npzfile['f'] \n",
    "\n",
    "t = npzfile['t'] #time in s\n",
    "Rem_t = npzfile['Rem_t'] # magnetic Reynolds number from thermal convection \n",
    "Rem_mac = Rem_t[0,:] #Rem from MAC balance\n",
    "Rem_cia = Rem_t[1,:] #Rem from CIA balance\n",
    "Rem_c = npzfile['Rem_c'] # magnetic Reynolds number from compositional convection\n",
    "B = npzfile['B']\n",
    "Flux = npzfile['Flux']\n",
    "Ra = npzfile['Ra'] \n",
    "RaH = npzfile['RaH'] \n",
    "RanoH = npzfile['RanoH'] \n",
    "RaRob = npzfile['RaRob']\n",
    "Racrit = npzfile['Racrit'] \n",
    "d0 = npzfile['d0'] \n",
    "min_unstable = npzfile['min_unstable'] \n",
    "Urey = npzfile['Ur']\n",
    "Xs = npzfile['Xs']\n",
    "dl = npzfile['dl']\n",
    "dx = npzfile['dc']\n",
    "Fs = Flux[0]\n",
    "Fcmb = Flux[1]\n",
    "Fad = Flux[2]\n",
    "Frad = Flux[3]"
   ]
  },
  {
   "cell_type": "markdown",
   "id": "dcb2d2cc",
   "metadata": {},
   "source": [
    "Run Info"
   ]
  },
  {
   "cell_type": "code",
   "execution_count": 5,
   "id": "a7b8eab9",
   "metadata": {},
   "outputs": [],
   "source": [
    "r, dr, tstart, tend, tstep, tsolid, cond_t, dt, viscosity = load_run_info(run,'run_info.csv',conduction)"
   ]
  },
  {
   "cell_type": "markdown",
   "id": "327e3a63",
   "metadata": {},
   "source": [
    "Calculate silicate melt content for thermal evolution"
   ]
  },
  {
   "cell_type": "code",
   "execution_count": 6,
   "id": "512773a6",
   "metadata": {},
   "outputs": [],
   "source": [
    "nmantle = int((r/dr)/2)\n",
    "silicate_t = (T_profile[:,nmantle:] - Tms)/(Tml-Tms)"
   ]
  },
  {
   "cell_type": "markdown",
   "id": "b5362334",
   "metadata": {},
   "source": [
    "Concatenate shared variables"
   ]
  },
  {
   "cell_type": "code",
   "execution_count": 7,
   "id": "521674a3",
   "metadata": {},
   "outputs": [],
   "source": [
    "Tall = np.hstack((Tdiff,np.transpose(T_profile)))\n",
    "tall = np.append(tdiff,t)\n",
    "iron_all = np.hstack\n",
    "Ra_all = np.append(Ra_d,Ra)\n",
    "Ra_crit_all = np.append(Ra_crit_d,Racrit)\n",
    "d0_all = np.append(d0_diff,d0)"
   ]
  },
  {
   "cell_type": "markdown",
   "id": "1bccf142",
   "metadata": {},
   "source": [
    "Scale time, choose whether or not to plot logarithmically"
   ]
  },
  {
   "cell_type": "code",
   "execution_count": 8,
   "id": "3fef51fd",
   "metadata": {},
   "outputs": [],
   "source": [
    "t_plot_all = tall/Myr\n",
    "t_plot_t = t/Myr\n",
    "log_time = True # do you want to plot time logarithmically"
   ]
  },
  {
   "cell_type": "markdown",
   "id": "d0662121",
   "metadata": {},
   "source": [
    "Comparison with Kathryn Case 1"
   ]
  },
  {
   "cell_type": "code",
   "execution_count": 9,
   "id": "15ac0126",
   "metadata": {
    "scrolled": true
   },
   "outputs": [],
   "source": [
    "diff_time = tdiff[-1]/Myr\n",
    "diff_T = Tdiff[int(nmantle),-1]\n",
    "peakT = np.amax(Tall[nmantle:,:])\n",
    "loc_max = np.where(Tall[nmantle:,:]==peakT)[1][0] #take the set of time coordinates and first value (they should all be the same)\n",
    "tmax = tall[loc_max]/Myr\n",
    "if np.all(T_profile[:,int(nmantle)-2]<Tcmb):\n",
    "    tstrat_end = np.inf\n",
    "else:\n",
    "    tstrat_end = t[Tcmb < T_profile[:,int(nmantle)-2]][0]/Myr\n",
    "    \n",
    "if np.any(min_unstable==0):\n",
    "     terode = t[np.where(min_unstable==0)[0]][0]/Myr\n",
    "else:\n",
    "    terode = np.inf\n",
    "if np.all(Fcmb < Fad):\n",
    "    tc_conv1 = np.inf\n",
    "    tc_conv2 = np.inf\n",
    "else:\n",
    "    tc_conv1 = t[np.where(Fcmb>Fad)[0]][0]/Myr\n",
    "    tc_conv2 = t[np.where(Fcmb>Fad)[0]][-1]/Myr\n",
    "    print(tc_conv1,tc_conv2)"
   ]
  },
  {
   "cell_type": "code",
   "execution_count": 10,
   "id": "2c9f38a2",
   "metadata": {},
   "outputs": [],
   "source": [
    "print(f'Differentiation is at {diff_time:.2f} Myr')\n",
    "print(f'The temperature at differentiation is at {diff_T:.2f}K')\n",
    "print(f'Peak magma ocean temp is {peakT:.0f}K at {tmax:.2f} Myr')\n",
    "print(f'Mantle hotter than the core until {tstrat_end:.2f} Myr')\n",
    "print(f'Erosion of stratification by {terode:.2f} Myr') \n",
    "print(f'Super adiabatic CMB heat flux starts at {tc_conv1:.2f} Myr')\n",
    "print(f'Super adiabatic CMB heat flux ends at {tc_conv2:.2f} Myr')\n",
    "print(f'End of mantle convection by {cond_t/Myr:.2f} Myr')"
   ]
  },
  {
   "cell_type": "markdown",
   "id": "7b9cdcef",
   "metadata": {},
   "source": [
    "## Temperature <a class=\"anchor\" id=\"temp\"></a>\n",
    "<p align=\"right\">(<a href=\"#top\">back to top</a>)</p>"
   ]
  },
  {
   "cell_type": "code",
   "execution_count": 11,
   "id": "c7d2fe87",
   "metadata": {},
   "outputs": [],
   "source": [
    "import matplotlib.colors as mcolors"
   ]
  },
  {
   "cell_type": "code",
   "execution_count": 12,
   "id": "e9176001",
   "metadata": {},
   "outputs": [],
   "source": [
    "rplot = np.arange(0,int(r),int(dr))/1e3"
   ]
  },
  {
   "cell_type": "code",
   "execution_count": 13,
   "id": "00b96a7d",
   "metadata": {},
   "outputs": [],
   "source": [
    "r_unstable=np.array([]) \n",
    "for ind in min_unstable:\n",
    "    r_unstable = np.append(r_unstable,rplot[int(ind)])\n",
    "rc = r/2"
   ]
  },
  {
   "cell_type": "code",
   "execution_count": 14,
   "id": "e553f19e",
   "metadata": {},
   "outputs": [],
   "source": [
    "cond_t"
   ]
  },
  {
   "cell_type": "code",
   "execution_count": 15,
   "id": "737a12a0",
   "metadata": {
    "scrolled": false
   },
   "outputs": [],
   "source": [
    "plt.figure()\n",
    "plt.pcolormesh(t_plot_all,rplot,Tall,shading = 'nearest') # use same vmin and vmax as other plots to make them comparable\n",
    "plt.hlines(rc/1e3,min(t/Myr),max(tall/Myr),linestyle='--',color='black',label='CMB')\n",
    "plt.fill_betweenx([0,rc/5e3],t[np.where(Fcmb>Fad)[0]][0]/Myr,t[np.where(Fcmb>Fad)[0]][-1]/Myr,alpha=0,hatch='/',label='$F_{CMB}>F_{ad}$')\n",
    "plt.plot(t/Myr,r_unstable,linestyle='dotted',label='Convecting core')\n",
    "if conduction == True:\n",
    "    plt.plot(t[t/Myr<=cond_t]/Myr,(r-d0[t/Myr<=cond_t])/1e3,linestyle='dashed',label='base of $\\delta_0$',color='blue')\n",
    "    plt.vlines(t[t/Myr<=cond_t][-1]/Myr,r/1e3,rc/1e3,linestyle='dotted',label='conductive mantle',color='red')\n",
    "else:\n",
    "    plt.plot(t/Myr,(r-d0)/1e3,linestyle='dashed',label='base of $\\delta_0$',color='blue')\n",
    "plt.ylabel('r /km')\n",
    "plt.xlabel('t / Myr')\n",
    "#plt.ylim([(r-10000)/1e3,r/1e3])\n",
    "plt.ylim([0,r/1e3])\n",
    "plt.vlines(tdiff[-1]/Myr,0,r/1e3,linestyle='-.',label='Differentiation')\n",
    "plt.colorbar(label='T/K')\n",
    "plt.title(f'Run {run} \\n differentiation melt fraction {(diff_T-1400)/400:.2f}')\n",
    "plt.xscale('log')\n",
    "plt.legend(loc='lower right')\n",
    "if save == True:\n",
    "    plt.savefig(f'Plots/Tall_run{run}.png')"
   ]
  },
  {
   "cell_type": "markdown",
   "id": "5b0bd8d7",
   "metadata": {},
   "source": [
    "## Melted silicate content <a class=\"anchor\" id=\"silicate\"></a>\n",
    "<p align=\"right\">(<a href=\"#top\">back to top</a>)</p>"
   ]
  },
  {
   "cell_type": "code",
   "execution_count": 16,
   "id": "4e0b4648",
   "metadata": {},
   "outputs": [],
   "source": [
    "plt.figure()\n",
    "plt.pcolormesh(tdiff/Myr, rplot,silicate_d,shading = 'nearest',vmin=0,vmax=1) # use same vmin and vmax as other plots to make them comparable\n",
    "#plt.yscale('log')\n",
    "plt.ylabel('r /km')\n",
    "plt.xlabel('t / Myr')\n",
    "#plt.ylim([0,400])\n",
    "plt.title(f'Run {run} - during differentiation')\n",
    "plt.colorbar(label='proportion of silicate melted')\n",
    "if save ==True:\n",
    "    plt.savefig(f'Plots/si_diff_run_{run}.png')"
   ]
  },
  {
   "cell_type": "code",
   "execution_count": 17,
   "id": "916dec84",
   "metadata": {},
   "outputs": [],
   "source": [
    "rmantle = np.arange(int(r/2),int(r),int(dr))/1e3\n",
    "plt.figure()\n",
    "plt.pcolormesh(t/Myr, rmantle,np.transpose(silicate_t),shading = 'nearest',vmin=0, vmax=1) # use same vmin and vmax as other plots to make them comparable\n",
    "plt.xscale('log')\n",
    "plt.ylabel('r /km')\n",
    "plt.xlabel('t / Myr')\n",
    "#plt.ylim([0,400])\n",
    "plt.title(f'Run {run} - after differentiation')\n",
    "plt.colorbar(label='proportion of silicate melted')\n",
    "if save ==True:\n",
    "    plt.savefig(f'Plots/si_therm_run_{run}.png')"
   ]
  },
  {
   "cell_type": "markdown",
   "id": "2da8b78b",
   "metadata": {},
   "source": [
    "## Rayleigh number<a class=\"anchor\" id=\"critical-rayleigh\"></a>\n",
    "<p align=\"right\">(<a href=\"#top\">back to top</a>)</p>"
   ]
  },
  {
   "cell_type": "code",
   "execution_count": 18,
   "id": "4977448f",
   "metadata": {},
   "outputs": [],
   "source": [
    "plt.figure()\n",
    "plt.semilogy(tdiff/Myr,Ra_d,label='model Ra',color='navy')\n",
    "plt.semilogy(t/Myr,RaH,label='$Ra_H$',color='seagreen')\n",
    "plt.semilogy(t/Myr,RanoH,label='Ra',color='cornflowerblue')\n",
    "plt.semilogy(t_plot_all,Ra_crit_all,label='$Ra_c$',linestyle='dashed',color='black') \n",
    "plt.semilogy(t_plot_all,Ra_all,label='model Ra',color='navy') \n",
    "plt.ylim(bottom=1e0)#,top=1e8)\n",
    "#plt.xlim([min(tall/Myr),5])\n",
    "#plt.vlines(tdiff[-1]/Myr,1e3,1e18,linestyle='dotted',color='blue',label='differentiation')\n",
    "if conduction == True:\n",
    "    #plt.vlines(cond_t,1e3,1e18,linestyle='dashed',color='k',label='conduction')\n",
    "    plt.xlim([min(tall/Myr),cond_t])\n",
    "plt.ylabel('Ra')\n",
    "#plt.xscale('log')\n",
    "plt.xlabel('t / Myr')\n",
    "#plt.title(f'Run {run}')\n",
    "plt.legend()\n",
    "#if save == True:\n",
    "#plt.savefig(f'Plots/Ra_run{run}.png')"
   ]
  },
  {
   "cell_type": "code",
   "execution_count": 19,
   "id": "32a7b9a3",
   "metadata": {},
   "outputs": [],
   "source": [
    "plt.figure(tight_layout=True)\n",
    "plt.subplot(2,1,1)\n",
    "plt.semilogy(t_plot_all[d0_all<r],Ra_crit_all[d0_all<r],label='Ra crit') \n",
    "plt.semilogy(t_plot_all[d0_all<r],Ra_all[d0_all<r],label='Ra') \n",
    "plt.ylim(bottom=1e0)\n",
    "plt.xlim([min(tall/Myr),30])\n",
    "plt.vlines(tdiff[-1]/Myr,1e3,1e25,linestyle='dotted',color='blue',label='differentiation')\n",
    "if conduction == True:\n",
    "    plt.vlines(cond_t,1e3,1e18,linestyle='dashed',color='k',label='conduction')\n",
    "plt.ylabel('Ra')\n",
    "plt.xscale('log')\n",
    "plt.xlabel('t / Myr')\n",
    "plt.legend()\n",
    "plt.subplot(2,1,2)\n",
    "plt.plot(t_plot_all[d0_all<r],(Tall[int(nmantle/2),d0_all<r]-1400)/400)\n",
    "plt.vlines(tdiff[-1]/Myr,0,0.8,linestyle='dotted',color='blue',label='differentiation')\n",
    "if conduction == True:\n",
    "    plt.vlines(cond_t,0,0.8,linestyle='dashed',color='k',label='conduction')\n",
    "#plt.xlim([min(tall/Myr),30])\n",
    "plt.ylim([0.1,0.8])\n",
    "plt.xscale('log')\n",
    "plt.ylabel('Mid mantle silicate melt fraction')\n",
    "plt.suptitle(f'Run {run} - Mantle convecting')\n",
    "plt.xlabel('t / Myr')\n",
    "if save == True:\n",
    "    plt.savefig(f'Plots/Ra_phi_comp_run{run}.png',dpi=300)"
   ]
  },
  {
   "cell_type": "markdown",
   "id": "09bb2f99",
   "metadata": {},
   "source": [
    "## Stagnant lid thickness <a class=\"anchor\" id=\"d0\"></a>\n",
    "<p align=\"right\">(<a href=\"#top\">back to top</a>)</p>"
   ]
  },
  {
   "cell_type": "code",
   "execution_count": 20,
   "id": "81a8d842",
   "metadata": {},
   "outputs": [],
   "source": [
    "plt.figure()\n",
    "plt.semilogy(tall/Myr,d0_all/r,label='$\\delta_0$') \n",
    "plt.ylim(top=1e0)\n",
    "#plt.xlim([min(tall/Myr),25])\n",
    "plt.vlines(tdiff[-1]/Myr,0,1,linestyle='dotted',color='blue',label='differentiation')\n",
    "plt.hlines(0.5,min(tall/Myr),max(tall/Myr),linestyle='-.',color='green',label='mantle thickness')\n",
    "if conduction == True:\n",
    "    plt.vlines(cond_t,0,1,linestyle='dashed',color='k',label='conduction')\n",
    "plt.ylabel('$\\delta_0$/Mantle thickness')\n",
    "plt.xlabel('t / Myr')\n",
    "plt.xscale('log')\n",
    "plt.title(f'Run {run}')\n",
    "plt.legend()\n",
    "if save == True:\n",
    "    plt.savefig(f'Plots/d0_run{run}.png')"
   ]
  },
  {
   "cell_type": "markdown",
   "id": "db3b1021",
   "metadata": {},
   "source": [
    "### CMB boundary layer thickness"
   ]
  },
  {
   "cell_type": "code",
   "execution_count": 21,
   "id": "c7a77869",
   "metadata": {},
   "outputs": [],
   "source": [
    "plt.figure()\n",
    "plt.semilogy(t_plot_t,dl/dr,label='$\\delta_0$') \n",
    "plt.ylim(top=1e0)\n",
    "#plt.xlim([min(tall/Myr),25])\n",
    "plt.hlines(0.5,min(tall/Myr),max(tall/Myr),linestyle='-.',color='green',label='cell thickness')\n",
    "if conduction == True:\n",
    "    plt.vlines(cond_t,0,1,linestyle='dashed',color='k',label='conduction')\n",
    "plt.ylabel('$\\delta_l$/Cell thickness')\n",
    "plt.xlabel('t / Myr')\n",
    "plt.xscale('log')\n",
    "plt.title(f'Run {run}')\n",
    "plt.legend()\n",
    "if save == True:\n",
    "    plt.savefig(f'Plots/dl_run{run}.png')"
   ]
  },
  {
   "cell_type": "markdown",
   "id": "490c80b5",
   "metadata": {},
   "source": [
    "## Urey ratio  <a class=\"anchor\" id=\"Urey\"></a>\n",
    "<p align=\"right\">(<a href=\"#top\">back to top</a>)</p>"
   ]
  },
  {
   "cell_type": "code",
   "execution_count": 22,
   "id": "a9a0ee4c",
   "metadata": {},
   "outputs": [],
   "source": [
    "plt.figure()\n",
    "plt.plot(t_plot_t,Urey) \n",
    "#plt.xlim([min(tall/Myr),25])\n",
    "plt.hlines(1,min(tall/Myr),max(tall/Myr),linestyle='-.',color='black')\n",
    "if conduction == True:\n",
    "    plt.vlines(cond_t,0,1,linestyle='dashed',color='k',label='conduction')\n",
    "    plt.legend()\n",
    "plt.ylabel('Urey ratio')\n",
    "plt.xlabel('t / Myr')\n",
    "plt.xscale('log')\n",
    "plt.ylim([0,1.1])\n",
    "plt.title(f'Run {run}')\n",
    "if save == True:\n",
    " plt.savefig(f'Plots/Urey{run}.png')"
   ]
  },
  {
   "cell_type": "markdown",
   "id": "0980f734",
   "metadata": {},
   "source": [
    "## Melted iron content during differentiation<a class=\"anchor\" id=\"iron\"></a>\n",
    "<p align=\"right\">(<a href=\"#top\">back to top</a>)</p>"
   ]
  },
  {
   "cell_type": "code",
   "execution_count": 23,
   "id": "0c687641",
   "metadata": {},
   "outputs": [],
   "source": [
    "plt.figure()\n",
    "plt.pcolormesh(tdiff/Myr, rplot/1e3,iron,shading = 'nearest') # use same vmin and vmax as other plots to make them comparable\n",
    "#plt.yscale('log')\n",
    "plt.ylabel('r /km')\n",
    "plt.xlabel('t / Myr')\n",
    "#plt.ylim([0,400])\n",
    "plt.title(f'Run {run}')\n",
    "plt.colorbar(label='proportion of iron melted')\n",
    "if save ==True:\n",
    "    plt.savefig(f'Plots/fe_diff_run_{run}.png')"
   ]
  },
  {
   "cell_type": "markdown",
   "id": "acc129cd",
   "metadata": {},
   "source": [
    "## Temperature and Flux Plot <a class=\"anchor\" id=\"temp-heat\"></a>\n",
    "<p align=\"right\">(<a href=\"#top\">back to top</a>)</p>"
   ]
  },
  {
   "cell_type": "code",
   "execution_count": 24,
   "id": "30dd8b5a",
   "metadata": {},
   "outputs": [],
   "source": [
    "plt.figure(tight_layout=True,figsize=[10,7])\n",
    "plt.suptitle(f'Thermal evolution of a {r/1e3:.0f}km asteroid \\n run {run} viscosity {viscosity}')\n",
    "\n",
    "xmin=tstart\n",
    "\n",
    "#temperatures as function of time\n",
    "plt.subplot(2,1,1)\n",
    "if log_time == True:\n",
    "    plt.semilogx(t_plot_t,Tc,label='central T$_c$')\n",
    "    plt.semilogx(t_plot_t[Tc_conv!=0],Tc_conv[Tc_conv!=0],label='convective T$_c$')\n",
    "    plt.semilogx(t_plot_t,Tcmb,label='T$_{cmb}$')\n",
    "    plt.semilogx(t_plot_t,Tm_mid,label='T$_m$ - middle')\n",
    "    plt.semilogx(t_plot_t[Tm_conv!=0],Tm_conv[Tm_conv!=0],label='convective T$_m$')\n",
    "    #plt.semilogx(t_plot_t,Tm_conv,label='convective T$_m$')\n",
    "    #plt.semilogx(t_plot_t,Tm_surf,label='T$_m$ - surface')\n",
    "else:\n",
    "    plt.plot(t_plot_t,Tc,label='central T$_c$')\n",
    "    plt.plot(t_plot_t[Tc_conv!=0],Tc_conv[Tc_conv!=0],label='convective T$_c$')\n",
    "    plt.plot(t_plot_t,Tcmb,label='T$_{cmb}$')\n",
    "    plt.plot(t_plot_t,Tm_mid,label='T$_m$ - middle')\n",
    "    plt.plot(t_plot_t[Tm_conv!=0],Tm_conv[Tm_conv!=0],label='convective T$_m$')\n",
    "    #plt.plot(t_plot_t,Tm_surf,label='T$_m$ - surface')\n",
    "if conduction == True:\n",
    "    plt.vlines(cond_t,ymin=min(Tm_surf),ymax=1600,color='black',linestyle='--',label='conduction')\n",
    "#plt.ylim([1460,1650]) #use these limits when comparing runs\n",
    "plt.ylabel('T/K')\n",
    "plt.legend(loc='lower left', ncol= 2)\n",
    "\n",
    "#fluxes as function of time\n",
    "plt.subplot(2,1,2)\n",
    "\n",
    "Fcmb_neg = Fcmb[Fcmb<0]\n",
    "Fcmb_pos = Fcmb[Fcmb>0]\n",
    "if log_time == True:\n",
    "    plt.loglog(t_plot_t,Fs,label='$F_s$')\n",
    "    plt.scatter(t_plot_t[Fcmb<0],abs(Fcmb_neg),label='$-F_{CMB}$',color='navy',s=2)\n",
    "    plt.scatter(t_plot_t[Fcmb>0],Fcmb_pos,label='$F_{CMB}$',color='mediumorchid',s=2)\n",
    "    plt.loglog(t_plot_t,Fad,label='$F_{ad}$')\n",
    "    plt.loglog(t_plot_t,Frad,label='$F_{rad}$')\n",
    "else:\n",
    "    plt.semilogy(t_plot_t,Fs,label='$F_s$')\n",
    "    plt.scatter(t_plot_t[Fcmb<0],abs(Fcmb_neg),label='$-F_{CMB}$',color='navy',s=2)\n",
    "    plt.scatter(t_plot_t[Fcmb>0],Fcmb_pos,label='$F_{CMB}$',color='mediumorchid',s=2)\n",
    "    plt.semilogy(t_plot_t,Fad,label='$F_{ad}$')\n",
    "    plt.semilogy(t_plot_t,Frad,label='$F_{rad}$')\n",
    "plt.xlabel('Time/ Myr')\n",
    "\n",
    "plt.ylim([1e-4,1e2])   #use these limits when comparing runs\n",
    "plt.ylabel('Flux/ W$m^{-2}$')\n",
    "plt.legend(loc='upper right',ncol=2)\n",
    "\n",
    "\n",
    "if save == True:\n",
    "    plt.savefig('Plots/run_{}_Tflux.png'.format(run),dpi=450)\n"
   ]
  },
  {
   "cell_type": "markdown",
   "id": "dbf1cec8",
   "metadata": {},
   "source": [
    "## Magnetic Reynolds number and inner core size <a class=\"anchor\" id=\"Rem\"></a>\n",
    "<p align=\"right\">(<a href=\"#top\">back to top</a>)</p>"
   ]
  },
  {
   "cell_type": "code",
   "execution_count": 25,
   "id": "7fa684f5",
   "metadata": {},
   "outputs": [],
   "source": [
    "plt.figure(tight_layout=True,figsize=[10,8])\n",
    "plt.suptitle(f'Thermal evolution of a {r/1e3:.0f}km asteroid \\n run {run}  {viscosity}')\n",
    "plt.subplot(3,1,1)\n",
    "plt.loglog(t_plot_t,Rem_mac,label='Thermal - MAC')\n",
    "plt.loglog(t_plot_t,Rem_cia,label='Thermal - CIA')\n",
    "plt.loglog(t_plot_t[Rem_c!=0],Rem_c[Rem_c!=0],label='Compositional',color='green')\n",
    "plt.hlines(10,xmin=0,xmax=t_plot_t[len(Rem_cia)-1],color='gray',linestyle='--')\n",
    "plt.hlines(40,xmin=0,xmax=t_plot_t[len(Rem_cia)-1],color='gray',linestyle='-.')\n",
    "plt.hlines(100,xmin=0,xmax=t_plot_t[len(Rem_cia)-1],color='gray',linestyle='dotted')\n",
    "#plt.xlabel('Time/Myr')\n",
    "plt.ylabel('Rem')\n",
    "plt.legend(loc='lower left')\n",
    "#plt.xscale('log')\n",
    "#plt.xlim([100,200])\n",
    "\n",
    "plt.subplot(3,1,2)\n",
    "plt.plot(t_plot_t,f,label='f')\n",
    "plt.xscale('log')\n",
    "plt.xlabel('Time/ Myr')\n",
    "plt.ylabel('f')\n",
    "\n",
    "plt.subplot(3,1,3)\n",
    "plt.plot(t_plot_t,Xs,label='Xs')\n",
    "plt.xscale('log')\n",
    "plt.xlabel('Time/ Myr')\n",
    "plt.ylabel('Xs /wt%')\n",
    "\n",
    "\n",
    "if save == True:\n",
    "    plt.savefig('Plots/run_{}_Remf.png'.format(run),dpi=450)"
   ]
  },
  {
   "cell_type": "markdown",
   "id": "0c9da3fc",
   "metadata": {},
   "source": [
    "### Time of dynamo generation"
   ]
  },
  {
   "cell_type": "markdown",
   "id": "11d9df7c",
   "metadata": {},
   "source": [
    "This needs tweaking to check for periods of on and off dynamo."
   ]
  },
  {
   "cell_type": "code",
   "execution_count": 26,
   "id": "8feb51a1",
   "metadata": {},
   "outputs": [],
   "source": [
    "t_therm1 = t_plot_t[Rem_mac>10]\n",
    "t_therm11 = t_therm1[t_therm1<100] #distinguish between early and late dynamo\n",
    "t_therm12 = t_therm1[t_therm1>100]\n",
    "t_therm2 = t_plot_t[Rem_cia>10]\n",
    "t_therm21 = t_therm2[t_therm2<100]\n",
    "t_therm22 = t_therm2[t_therm2>100]\n",
    "t_comp = t_plot_t[Rem_c>10]\n",
    "if np.any(Rem_mac>10):\n",
    "    if np.any(t_therm1<100):\n",
    "        MAC_start = t_therm11[0]\n",
    "        MAC_stop = t_therm11[-1]\n",
    "        print(f'MAC balance predicts there is a thermal dynamo between {MAC_start:.1f} and {MAC_stop:.1f}Myr')\n",
    "    if np.any(t_therm1>100):\n",
    "        MAC_start = t_therm12[0]\n",
    "        MAC_stop = t_therm12[-1]\n",
    "        print(f'MAC balance predicts there is a thermal dynamo between {MAC_start:.1f} and {MAC_stop:.1f}Myr')\n",
    "else:\n",
    "    MAC_start = np.nan\n",
    "    MAC_stop = np.nan\n",
    "    print('MAC balance predicts there is no thermal dynamo')\n",
    "if np.any(Rem_cia>10):\n",
    "    if np.any(t_therm2<100):\n",
    "        CIA_start = t_therm21[0]\n",
    "        CIA_stop = t_therm21[-1]\n",
    "        print(f'CIA balance predicts there is a thermal dynamo between {CIA_start:.1f} and {CIA_stop:.1f}Myr')\n",
    "    if np.any(t_therm2>100):\n",
    "        CIA_start = t_therm22[0]\n",
    "        CIA_stop = t_therm22[-1]\n",
    "        print(f'CIA balance predicts there is a thermal dynamo between {CIA_start:.1f} and {CIA_stop:.1f}Myr')\n",
    "else:\n",
    "    CIA_start = np.nan\n",
    "    CIA_stop = np.nan\n",
    "    print('CIA balance predicts there is no thermal dynamo')\n",
    "if np.any(Rem_c>10):\n",
    "    comp_start = t_comp[0]\n",
    "    comp_stop = t_comp[-1]\n",
    "    print(f'There is a compositional dynamo between {comp_start:.1f} and {comp_stop:.1f} Myr')\n",
    "else:\n",
    "    comp_start = np.nan\n",
    "    comp_stop = np.nan\n",
    "    print('There is no compositional dynamo')"
   ]
  },
  {
   "cell_type": "code",
   "execution_count": 27,
   "id": "55e60719",
   "metadata": {},
   "outputs": [],
   "source": [
    "max_Rem = max(Rem_mac)\n",
    "max_Remt = t_plot_t[Rem_mac==max(Rem_mac)][0]\n",
    "print(f'The maximum MAC Rem is {max_Rem:.2f} at {max_Remt:.2f} Myr')"
   ]
  },
  {
   "cell_type": "code",
   "execution_count": 28,
   "id": "ce01c0fa-bf50-42bc-a62a-6ae01304564d",
   "metadata": {},
   "outputs": [],
   "source": [
    "var_list2 = [run,tstep,dr,diff_time, diff_T, peakT, tmax, tstrat_end, terode, tc_conv1, tc_conv2, cond_t, max_Rem, max_Remt, MAC_start,MAC_stop, CIA_start, CIA_stop, comp_start, comp_stop]\n",
    "from csv import writer\n",
    "with open(f'{path}timestep_test.csv','a') as f_object:\n",
    "     writer_object = writer(f_object) #pass file object to csv.writer\n",
    "     writer_object.writerow(var_list2) # pass list as argument into write row\n",
    "     f_object.close() #close file"
   ]
  },
  {
   "cell_type": "markdown",
   "id": "56ee7565",
   "metadata": {},
   "source": [
    "## Magnetic Field Strength <a class=\"anchor\" id=\"B\"></a>\n",
    "<p align=\"right\">(<a href=\"#top\">back to top</a>)</p>"
   ]
  },
  {
   "cell_type": "code",
   "execution_count": 29,
   "id": "aca28459",
   "metadata": {},
   "outputs": [],
   "source": [
    "Blabel = ['B$_{flux}$ - ML','B$_{flux}$ - MAC', 'B$_{flux}$ - CIA','B$_{flux}$ comp']\n",
    "Rem = np.array([Rem_mac, Rem_mac, Rem_cia,Rem_c])"
   ]
  },
  {
   "cell_type": "code",
   "execution_count": 30,
   "id": "49d8a9c0",
   "metadata": {},
   "outputs": [],
   "source": [
    "threshold = 10 #critical Rem\n",
    "plt.figure()\n",
    "for i, labels in enumerate(Blabel):\n",
    "    plt.plot(t_plot_t[Rem[i,:]>threshold],B[i,Rem[i,:]>threshold]/1e-6,label=labels)\n",
    "plt.legend()\n",
    "plt.xlabel('T/Myr')\n",
    "plt.ylabel('B/$\\mu$T')\n",
    "plt.title(f'Run {run} - field strengths for supercritical Re$_m$')"
   ]
  },
  {
   "cell_type": "code",
   "execution_count": 31,
   "id": "7e81071b",
   "metadata": {},
   "outputs": [],
   "source": [
    "plt.figure()\n",
    "for i, labels in enumerate(Blabel):\n",
    "    plt.plot(t_plot_t,B[i,:]/1e-6,label=labels)\n",
    "plt.legend()\n",
    "plt.xlabel('T/Myr')\n",
    "plt.ylabel('B/$\\mu$T')\n",
    "plt.title(f'Run{run} - all times')"
   ]
  },
  {
   "cell_type": "code",
   "execution_count": null,
   "id": "4d0b35e2",
   "metadata": {},
   "outputs": [],
   "source": []
  }
 ],
 "metadata": {
  "kernelspec": {
   "display_name": "Python 3 (ipykernel)",
   "language": "python",
   "name": "python3"
  },
  "language_info": {
   "codemirror_mode": {
    "name": "ipython",
    "version": 3
   },
   "file_extension": ".py",
   "mimetype": "text/x-python",
   "name": "python",
   "nbconvert_exporter": "python",
   "pygments_lexer": "ipython3",
   "version": "3.9.16"
  }
 },
 "nbformat": 4,
 "nbformat_minor": 5
}
