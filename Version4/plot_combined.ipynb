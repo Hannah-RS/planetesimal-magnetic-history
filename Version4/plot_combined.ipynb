{
 "cells": [
  {
   "cell_type": "markdown",
   "id": "c06eb9ae",
   "metadata": {},
   "source": [
    "# Plots for differentiation and thermal evolution<a class=\"anchor\" id=\"top\"></a>\n",
    "For the whole thermal evolution:\n",
    "+ [temperature](#temp)\n",
    "+ [% silicate melted](#silicate)\n",
    "+ [Rayleigh number](#critical-rayleigh)\n",
    "\n",
    "\n",
    "For differentiation stage:\n",
    "+ [% iron melted](#iron)\n",
    "\n",
    "For the thermal evolution stage:\n",
    "+ [temperatures and heat fluxes](#temp-heat)\n",
    "+ [inner core size and magnetic Reynolds number](#Rem)"
   ]
  },
  {
   "cell_type": "markdown",
   "id": "259cb6b5",
   "metadata": {},
   "source": [
    "## Set-up"
   ]
  },
  {
   "cell_type": "code",
   "execution_count": 1,
   "id": "f34b80b8",
   "metadata": {},
   "outputs": [],
   "source": [
    "#import modules\n",
    "import matplotlib.pyplot as plt\n",
    "import numpy as np\n",
    "import pandas as pd\n",
    "\n",
    "\n",
    "#scale time to Myr\n",
    "from parameters import Myr, Tms, Tml, Xs_0 #need to change so import from save file instead"
   ]
  },
  {
   "cell_type": "markdown",
   "id": "904d4e2e",
   "metadata": {},
   "source": [
    "Choose run and whether you want to save figure"
   ]
  },
  {
   "cell_type": "code",
   "execution_count": 6,
   "id": "b2ff3adf",
   "metadata": {},
   "outputs": [],
   "source": [
    "run=4\n",
    "save = False # do you want to save your figures?\n",
    "conduction = False #does the mantle switch to conduction"
   ]
  },
  {
   "cell_type": "markdown",
   "id": "0ff7cc89",
   "metadata": {},
   "source": [
    "Load npz files for differentiation"
   ]
  },
  {
   "cell_type": "code",
   "execution_count": 7,
   "id": "e7c70656",
   "metadata": {},
   "outputs": [],
   "source": [
    "npzfile = np.load(f'Results_combined/run_{run}_diff.npz')\n",
    "Tdiff = npzfile['Tdiff'] \n",
    "iron = npzfile['Xfe']\n",
    "silicate_d = npzfile['Xsi']\n",
    "tdiff = npzfile['t_diff']\n",
    "Ra_d = npzfile['Ra']\n",
    "Ra_crit_d = npzfile['Ra_crit']"
   ]
  },
  {
   "cell_type": "markdown",
   "id": "f5423827",
   "metadata": {},
   "source": [
    "Load npz files for thermal evolution"
   ]
  },
  {
   "cell_type": "code",
   "execution_count": 8,
   "id": "6aba2d5d",
   "metadata": {},
   "outputs": [],
   "source": [
    "npzfile = np.load('Results_combined/run_{}.npz'.format(run))\n",
    "Tc= npzfile['Tc'] \n",
    "Tc_conv = npzfile['Tc_conv']\n",
    "Tcmb = npzfile['Tcmb']\n",
    "Tm_mid = npzfile['Tm_mid']\n",
    "Tm_conv = npzfile['Tm_conv']\n",
    "Tm_surf = npzfile['Tm_surf'] \n",
    "T_profile = npzfile['T_profile']\n",
    "f = npzfile['f'] \n",
    "\n",
    "t = npzfile['t'] #time in s\n",
    "Rem1 = npzfile['Rem1'] # magnetic Reynolds number from compositional (Nimmo) and thermal convection (whatever is larger at each time step)\n",
    "Rem2 = npzfile['Rem2'] # magnetic Reynolds number from compositional (Nichols) and thermal convection (whatever is larger at each time step)\n",
    "Flux = npzfile['Flux']\n",
    "Ra = npzfile['Ra'] \n",
    "RaH = npzfile['RaH'] \n",
    "RanoH = npzfile['RanoH'] \n",
    "Racrit = npzfile['Racrit'] \n",
    "d0 = npzfile['d0'] \n",
    "min_unstable = npzfile['min_unstable'] \n",
    "Xs = npzfile['Xs']\n",
    "dl = npzfile['dl']\n",
    "dx = npzfile['dc']\n",
    "Fs = Flux[0]\n",
    "Fcmb = Flux[1]\n",
    "Fad = Flux[2]\n",
    "Frad = Flux[3]"
   ]
  },
  {
   "cell_type": "markdown",
   "id": "dcb2d2cc",
   "metadata": {},
   "source": [
    "Run Info"
   ]
  },
  {
   "cell_type": "code",
   "execution_count": 9,
   "id": "a6cd12f0",
   "metadata": {},
   "outputs": [],
   "source": [
    "run_info = pd.read_csv('run_info4.csv',delimiter=',')\n",
    "\n",
    "row = run_info[run_info['run']==run]\n",
    "#use -1 so always read most recently written row tih that run number\n",
    "r = row.iloc[-1,1] #radius [m]\n",
    "Tm0 = row.iloc[-1,2] # initial mantle and core temp [K]\n",
    "tstart = row.iloc[-1,3]\n",
    "tend = row.iloc[-1,4] # max possible time of simulation [Myr]\n",
    "tstep = row.iloc[-1,5] #max timestep [Myr]\n",
    "tsolid = row.iloc[-1,6] #time at which solidifcation finishes [Myr] if tsolid == tend then core may not have finished solidifying\n",
    "cond_i= row.iloc[-1,7] #index in array at which mantle started conducting\n",
    "if conduction == True:\n",
    "    cond_i = int(cond_i)\n",
    "    cond_t = t[cond_i]/Myr #time at which mantle switched to conduction\n",
    "    \n",
    "dr=row.iloc[-1,9] #cell spacing\n",
    "dt =row.iloc[-1,10] #T_profile output frequency\n",
    "viscosity = row.iloc[-1,11] #viscosity profile"
   ]
  },
  {
   "cell_type": "markdown",
   "id": "327e3a63",
   "metadata": {},
   "source": [
    "Calculate silicate melt content for thermal evolution"
   ]
  },
  {
   "cell_type": "code",
   "execution_count": 10,
   "id": "512773a6",
   "metadata": {},
   "outputs": [],
   "source": [
    "nmantle = int((r/dr)/2)\n",
    "silicate_t = (T_profile[:,nmantle:] - Tms)/(Tml-Tms)"
   ]
  },
  {
   "cell_type": "markdown",
   "id": "b5362334",
   "metadata": {},
   "source": [
    "Concatenate shared variables"
   ]
  },
  {
   "cell_type": "code",
   "execution_count": 11,
   "id": "521674a3",
   "metadata": {},
   "outputs": [],
   "source": [
    "Tall = np.hstack((Tdiff,np.transpose(T_profile)))\n",
    "tall = np.append(tdiff,t)\n",
    "iron_all = np.hstack\n",
    "Ra_all = np.append(Ra_d,Ra)\n",
    "Ra_crit_all = np.append(Ra_crit_d,Racrit)"
   ]
  },
  {
   "cell_type": "markdown",
   "id": "1bccf142",
   "metadata": {},
   "source": [
    "Scale time, choose whether or not to plot logarithmically"
   ]
  },
  {
   "cell_type": "code",
   "execution_count": 12,
   "id": "3fef51fd",
   "metadata": {},
   "outputs": [],
   "source": [
    "t_plot_all = tall/Myr\n",
    "t_plot_t = t/Myr\n",
    "log_time = True # do you want to plot time logarithmically\n",
    "#dt = 1 #for now plot everything in units of timestep"
   ]
  },
  {
   "cell_type": "markdown",
   "id": "d0662121",
   "metadata": {},
   "source": [
    "Comparison with Kathryn Case 1"
   ]
  },
  {
   "cell_type": "code",
   "execution_count": 31,
   "id": "15ac0126",
   "metadata": {
    "scrolled": true
   },
   "outputs": [],
   "source": [
    "diff_time = tdiff[-1]/Myr\n",
    "peakT = np.amax(Tall[nmantle:,:])\n",
    "loc_max = np.where(Tall[nmantle:,:]==peakT)[1][0] #take the set of time coordinates and first value (they should all be the same)\n",
    "tmax = tall[loc_max]/Myr\n",
    "if np.all(T_profile[:,int(nmantle)-2]<Tcmb):\n",
    "    tstrat_end = np.inf\n",
    "    tc_conv = np.inf\n",
    "else:\n",
    "    tstrat_end = t[Tcmb < T_profile[:,int(nmantle)-2]][0]/Myr\n",
    "    tc_conv = t[min_unstable==1][0]/Myr"
   ]
  },
  {
   "cell_type": "code",
   "execution_count": 32,
   "id": "2c9f38a2",
   "metadata": {},
   "outputs": [
    {
     "name": "stdout",
     "output_type": "stream",
     "text": [
      "Differentiation is at 1.16 Myr\n",
      "Peak magma ocean temp is 1627K at 2.16 Myr\n",
      "Mantle hotter than the core until inf Myr\n",
      "Whole core convection at inf Myr\n"
     ]
    }
   ],
   "source": [
    "print(f'Differentiation is at {diff_time:.2f} Myr')\n",
    "print(f'Peak magma ocean temp is {peakT:.0f}K at {tmax:.2f} Myr')\n",
    "print(f'Mantle hotter than the core until {tstrat_end:.2f} Myr')\n",
    "print(f'Whole core convection at {tc_conv:.2f} Myr') "
   ]
  },
  {
   "cell_type": "markdown",
   "id": "7b9cdcef",
   "metadata": {},
   "source": [
    "## Temperature <a class=\"anchor\" id=\"temp\"></a>\n",
    "<p align=\"right\">(<a href=\"#top\">back to top</a>)</p>"
   ]
  },
  {
   "cell_type": "code",
   "execution_count": null,
   "id": "c7d2fe87",
   "metadata": {},
   "outputs": [],
   "source": [
    "import matplotlib.colors as mcolors"
   ]
  },
  {
   "cell_type": "code",
   "execution_count": null,
   "id": "e9176001",
   "metadata": {},
   "outputs": [],
   "source": [
    "rplot = np.arange(0,r,dr)/1e3"
   ]
  },
  {
   "cell_type": "code",
   "execution_count": null,
   "id": "00b96a7d",
   "metadata": {},
   "outputs": [],
   "source": [
    "r_unstable=np.array([]) \n",
    "for ind in min_unstable:\n",
    "    r_unstable = np.append(r_unstable,rplot[int(ind)])\n",
    "rc = r/2"
   ]
  },
  {
   "cell_type": "code",
   "execution_count": null,
   "id": "737a12a0",
   "metadata": {
    "scrolled": false
   },
   "outputs": [],
   "source": [
    "plt.figure()\n",
    "plt.pcolormesh(t_plot_all,rplot,Tall,shading = 'nearest',vmax=1700) # use same vmin and vmax as other plots to make them comparable\n",
    "plt.hlines(rc/1e3,min(t/Myr),max(tall/Myr),linestyle='--',color='black',label='CMB')\n",
    "plt.plot(t/Myr,r_unstable,linestyle='dotted',label='Convecting core')\n",
    "if conduction == True:\n",
    "    plt.plot(t[:cond_i]/Myr,(r-d0[:cond_i])/1e3,linestyle='dashed',label='base of $\\delta_0$',color='blue')\n",
    "else:\n",
    "    plt.plot(t/Myr,(r-d0)/1e3,linestyle='dashed',label='base of $\\delta_0$',color='blue')\n",
    "plt.ylabel('r /km')\n",
    "plt.xlabel('t / Myr')\n",
    "plt.ylim([0,r/1e3])\n",
    "plt.colorbar(label='T/K')\n",
    "plt.title(f'Run {run}')\n",
    "plt.xscale('log')\n",
    "plt.legend(loc='lower left')\n",
    "if save == True:\n",
    "    plt.savefig(f'Plots/Tall_run{run}.png')"
   ]
  },
  {
   "cell_type": "markdown",
   "id": "5b0bd8d7",
   "metadata": {},
   "source": [
    "## Melted silicate content <a class=\"anchor\" id=\"silicate\"></a>\n",
    "<p align=\"right\">(<a href=\"#top\">back to top</a>)</p>"
   ]
  },
  {
   "cell_type": "code",
   "execution_count": null,
   "id": "4e0b4648",
   "metadata": {
    "scrolled": false
   },
   "outputs": [],
   "source": [
    "plt.figure()\n",
    "plt.pcolormesh(tdiff/Myr, rplot/1e3,silicate_d,shading = 'nearest',vmin=0,vmax=1) # use same vmin and vmax as other plots to make them comparable\n",
    "#plt.yscale('log')\n",
    "plt.ylabel('r /km')\n",
    "plt.xlabel('t / Myr')\n",
    "#plt.ylim([0,400])\n",
    "plt.title(f'Run {run} - during differentiation')\n",
    "plt.colorbar(label='proportion of silicate melted')\n",
    "if save ==True:\n",
    "    plt.savefig(f'Plots/si_diff_run_{run}.png')"
   ]
  },
  {
   "cell_type": "code",
   "execution_count": null,
   "id": "916dec84",
   "metadata": {
    "scrolled": false
   },
   "outputs": [],
   "source": [
    "rmantle = np.arange(r/2,r,dr)/1e3\n",
    "plt.figure()\n",
    "plt.pcolormesh(t/Myr, rmantle,np.transpose(silicate_t),shading = 'nearest',vmin=0, vmax=1) # use same vmin and vmax as other plots to make them comparable\n",
    "#plt.yscale('log')\n",
    "plt.ylabel('r /km')\n",
    "plt.xlabel('t / Myr')\n",
    "#plt.ylim([0,400])\n",
    "plt.title(f'Run {run} - after differentiation')\n",
    "plt.colorbar(label='proportion of silicate melted')\n",
    "if save ==True:\n",
    "    plt.savefig(f'Plots/si_diff_run_{run}.png')"
   ]
  },
  {
   "cell_type": "markdown",
   "id": "2da8b78b",
   "metadata": {},
   "source": [
    "## Rayleigh number<a class=\"anchor\" id=\"critical-rayleigh\"></a>\n",
    "<p align=\"right\">(<a href=\"#top\">back to top</a>)</p>"
   ]
  },
  {
   "cell_type": "code",
   "execution_count": null,
   "id": "4977448f",
   "metadata": {},
   "outputs": [],
   "source": [
    "plt.figure()\n",
    "plt.semilogy(t_plot_all,Ra_all,label='Ra')\n",
    "plt.semilogy(t_plot_all,Ra_crit_all,label='Ra crit') #\n",
    "plt.ylim(bottom=1e0)\n",
    "#plt.xlim([0,5])\n",
    "plt.ylabel('Ra')\n",
    "plt.xlabel('t / Myr')\n",
    "plt.title(f'Run {run}')\n",
    "plt.legend()\n",
    "if save == True:\n",
    "    plt.savefig(f'Plots/Racrit_diff_run{run}b.png')"
   ]
  },
  {
   "cell_type": "markdown",
   "id": "0980f734",
   "metadata": {},
   "source": [
    "## Melted iron content during differentiation<a class=\"anchor\" id=\"iron\"></a>\n",
    "<p align=\"right\">(<a href=\"#top\">back to top</a>)</p>"
   ]
  },
  {
   "cell_type": "code",
   "execution_count": null,
   "id": "0c687641",
   "metadata": {
    "scrolled": false
   },
   "outputs": [],
   "source": [
    "plt.figure()\n",
    "plt.pcolormesh(tdiff/Myr, rplot/1e3,iron,shading = 'nearest') # use same vmin and vmax as other plots to make them comparable\n",
    "#plt.yscale('log')\n",
    "plt.ylabel('r /km')\n",
    "plt.xlabel('t / Myr')\n",
    "#plt.ylim([0,400])\n",
    "plt.title(f'Run {run}')\n",
    "plt.colorbar(label='proportion of iron melted')\n",
    "if save ==True:\n",
    "    plt.savefig(f'Plots/fe_diff_run_{run}.png')"
   ]
  },
  {
   "cell_type": "markdown",
   "id": "acc129cd",
   "metadata": {},
   "source": [
    "## Temperature and Flux Plot <a class=\"anchor\" id=\"temp-heat\"></a>\n",
    "<p align=\"right\">(<a href=\"#top\">back to top</a>)</p>"
   ]
  },
  {
   "cell_type": "code",
   "execution_count": null,
   "id": "30dd8b5a",
   "metadata": {},
   "outputs": [],
   "source": [
    "plt.figure(tight_layout=True,figsize=[10,7])\n",
    "plt.suptitle(f'Thermal evolution of a {r/1e3:.0f}km asteroid \\n Tm0 = {Tm0}K,\\n run {run} viscosity {viscosity}')\n",
    "\n",
    "xmin=tstart\n",
    "\n",
    "#temperatures as function of time\n",
    "plt.subplot(2,1,1)\n",
    "if log_time == True:\n",
    "    plt.semilogx(t_plot_t,Tc,label='central T$_c$')\n",
    "    plt.semilogx(t_plot_t[Tc_conv!=0],Tc_conv[Tc_conv!=0],label='convective T$_c$')\n",
    "    plt.semilogx(t_plot_t,Tcmb,label='T$_{cmb}$')\n",
    "    plt.semilogx(t_plot_t,Tm_mid,label='T$_m$')\n",
    "    plt.semilogx(t_plot_t[Tm_conv!=0],Tm_conv[Tm_conv!=0],label='convective T$_m$')\n",
    "    #plt.semilogx(t_plot_t,Tm_conv,label='convective T$_m$')\n",
    "    #plt.semilogx(t_plot_t,Tm_surf,label='T$_m$ - surface')\n",
    "else:\n",
    "    plt.plot(t_plot_t,Tc,label='central T$_c$')\n",
    "    plt.plot(t_plot_t[Tc_conv!=0],Tc_conv[Tc_conv!=0],label='convective T$_c$')\n",
    "    plt.plot(t_plot_t,Tcmb,label='T$_{cmb}$')\n",
    "    plt.plot(t_plot_t,Tm_mid,label='T$_m$')\n",
    "    plt.plot(t_plot_t[Tm_conv!=0],Tm_conv[Tm_conv!=0],label='convective T$_m$')\n",
    "    #plt.plot(t_plot_t,Tm_surf,label='T$_m$ - surface')\n",
    "if conduction == True:\n",
    "    plt.vlines(cond_t,ymin=min(Tm_surf),ymax=1600,color='black',linestyle='--',label='conduction')\n",
    "plt.xlim(right=50)\n",
    "#plt.ylim([1460,1650]) #use these limits when comparing runs\n",
    "plt.ylabel('T/K')\n",
    "plt.legend(loc='lower left', ncol= 2)\n",
    "\n",
    "#fluxes as function of time\n",
    "plt.subplot(2,1,2)\n",
    "\n",
    "Fcmb_neg = Fcmb[Fcmb<0]\n",
    "Fcmb_pos = Fcmb[Fcmb>0]\n",
    "if log_time == True:\n",
    "    plt.loglog(t_plot_t,Fs,label='$F_s$')\n",
    "    plt.loglog(t_plot_t[Fcmb<0],abs(Fcmb_neg),label='$-F_{CMB}$',linestyle='dashed',color='purple')\n",
    "    plt.loglog(t_plot_t[Fcmb>0],Fcmb_pos,label='$F_{CMB}$',color='purple')\n",
    "    plt.loglog(t_plot_t,Fad,label='$F_{ad}$')\n",
    "    plt.loglog(t_plot_t,Frad,label='$F_{rad}$')\n",
    "else:\n",
    "    plt.semilogy(t_plot_t,Fs,label='$F_s$')\n",
    "    plt.semilogy(t_plot_t[Fcmb<0],abs(Fcmb_neg),label='$-F_{CMB}$',linestyle='dashed',color='purple')\n",
    "    plt.semilogy(t_plot_t[Fcmb>0],Fcmb_pos,label='$F_{CMB}$',color='purple')\n",
    "    plt.semilogy(t_plot_t,Fad,label='$F_{ad}$')\n",
    "    plt.semilogy(t_plot_t,Frad,label='$F_{rad}$')\n",
    "plt.xlabel('Time/ Myr')\n",
    "\n",
    "plt.ylim([1e-4,1e2])   #use these limits when comparing runs\n",
    "plt.xlim(right=50)\n",
    "plt.ylabel('Flux/ W$m^{-2}$')\n",
    "plt.legend(loc='upper right',ncol=2)\n",
    "\n",
    "\n",
    "if save == True:\n",
    "    plt.savefig('Plots/run_{}_Tflux.png'.format(run),dpi=450)\n"
   ]
  },
  {
   "cell_type": "markdown",
   "id": "dbf1cec8",
   "metadata": {},
   "source": [
    "## Magnetic Reynolds number and inner core size <a class=\"anchor\" id=\"Rem\"></a>\n",
    "<p align=\"right\">(<a href=\"#top\">back to top</a>)</p>"
   ]
  },
  {
   "cell_type": "code",
   "execution_count": null,
   "id": "7fa684f5",
   "metadata": {},
   "outputs": [],
   "source": [
    "plt.figure(tight_layout=True)\n",
    "plt.suptitle(f'Thermal evolution of a {r/1e3:.0f}km asteroid \\n Tm0 = {Tm0}K, \\n run {run}  {viscosity}')\n",
    "plt.subplot(2,1,1)\n",
    "plt.loglog(t_plot_t,Rem1,label='Nimmo')\n",
    "plt.loglog(t_plot_t,Rem2,label='Nichols')\n",
    "plt.hlines(10,xmin=0,xmax=t_plot_t[len(Rem1)-1],color='k',linestyle='--')\n",
    "#plt.xlabel('Time/Myr')\n",
    "plt.ylabel('Rem')\n",
    "plt.legend(loc='upper left')\n",
    "plt.ylim([1,100])\n",
    "\n",
    "plt.subplot(2,1,2)\n",
    "plt.semilogx(t_plot_t,f,label='f')\n",
    "plt.xlabel('Time/ Myr')\n",
    "plt.ylabel('f')\n",
    "\n",
    "if save == True:\n",
    "    plt.savefig('Plots/run_{}_Remf.png'.format(run),dpi=450)"
   ]
  }
 ],
 "metadata": {
  "kernelspec": {
   "display_name": "Python 3 (ipykernel)",
   "language": "python",
   "name": "python3"
  },
  "language_info": {
   "codemirror_mode": {
    "name": "ipython",
    "version": 3
   },
   "file_extension": ".py",
   "mimetype": "text/x-python",
   "name": "python",
   "nbconvert_exporter": "python",
   "pygments_lexer": "ipython3",
   "version": "3.9.16"
  }
 },
 "nbformat": 4,
 "nbformat_minor": 5
}
