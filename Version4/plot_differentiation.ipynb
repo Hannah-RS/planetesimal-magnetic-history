{
 "cells": [
  {
   "cell_type": "markdown",
   "id": "50e245f5",
   "metadata": {},
   "source": [
    "# Plots for differentiation <a class=\"anchor\" id=\"top\"></a>\n",
    "Plots of:\n",
    "+ [temperature](#temp)\n",
    "+ [density](#density)\n",
    "+ [thermal conductivity](#thermal)\n",
    "+ [% iron melted](#iron)\n",
    "as a function of time for the differentiation stage of evolution."
   ]
  },
  {
   "cell_type": "markdown",
   "id": "5ff2c053",
   "metadata": {},
   "source": [
    "## Set-up"
   ]
  },
  {
   "cell_type": "code",
   "execution_count": null,
   "id": "b9f48caf",
   "metadata": {},
   "outputs": [],
   "source": [
    "#import modules\n",
    "import matplotlib.pyplot as plt\n",
    "import numpy as np\n",
    "import pandas as pd\n",
    "\n",
    "#scale time to Myr\n",
    "from parameters import Myr, r, Tm0, dr"
   ]
  },
  {
   "cell_type": "markdown",
   "id": "ebac6620",
   "metadata": {},
   "source": [
    "Choose run and whether you want to save figure"
   ]
  },
  {
   "cell_type": "code",
   "execution_count": null,
   "id": "e7bef50a",
   "metadata": {},
   "outputs": [],
   "source": [
    "run=1\n",
    "save = False # do you want to save your figures?"
   ]
  },
  {
   "cell_type": "markdown",
   "id": "235927b6",
   "metadata": {},
   "source": [
    "Load npz files"
   ]
  },
  {
   "cell_type": "code",
   "execution_count": null,
   "id": "ba2c849e",
   "metadata": {},
   "outputs": [],
   "source": [
    "npzfile = np.load(f'Results/diff_run_{run}.npz')\n",
    "T = npzfile['T'] \n",
    "rho = npzfile['rho_profile']\n",
    "k = npzfile['k_profile'] \n",
    "iron = npzfile['Xfe']\n",
    "t = npzfile['t'] "
   ]
  }
 ],
 "metadata": {
  "kernelspec": {
   "display_name": "Python 3 (ipykernel)",
   "language": "python",
   "name": "python3"
  },
  "language_info": {
   "codemirror_mode": {
    "name": "ipython",
    "version": 3
   },
   "file_extension": ".py",
   "mimetype": "text/x-python",
   "name": "python",
   "nbconvert_exporter": "python",
   "pygments_lexer": "ipython3",
   "version": "3.9.7"
  }
 },
 "nbformat": 4,
 "nbformat_minor": 5
}
