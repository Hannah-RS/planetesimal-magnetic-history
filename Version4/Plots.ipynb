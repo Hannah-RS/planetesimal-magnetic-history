{
 "cells": [
  {
   "cell_type": "markdown",
   "id": "84c00fde",
   "metadata": {},
   "source": [
    "# Results plots\n",
    "Script for plotting all the results of the integration to check what happened\n",
    "## Table of Contents <a class=\"anchor\" id=\"top\"></a>\n",
    "* [Temperature and flux](#temp)\n",
    "* [Core central temperature](#Tc)\n",
    "* [Inner core size and Rem](#ic)\n",
    "* [Rayleigh number](#rayleigh)\n",
    "* [Stagnant lid thickness](#stagnant)\n",
    "* [CMB mantle boundary layer thickness](#cmb-bl)\n",
    "* [Sulfur fraction in liquid core](#sulfur)\n",
    "* [Initial temp profiles](#Tprofile-initial)\n",
    "* [Temperature profiles with time](#Tprofile-time)"
   ]
  },
  {
   "cell_type": "markdown",
   "id": "d3c87503",
   "metadata": {},
   "source": [
    "## Set-up"
   ]
  },
  {
   "cell_type": "code",
   "execution_count": 1,
   "id": "94f2fa8a",
   "metadata": {},
   "outputs": [
    {
     "ename": "ImportError",
     "evalue": "cannot import name 'Tm0' from 'parameters' (/home/users/exet5460/Documents/Code/learning-model/Version4/parameters.py)",
     "output_type": "error",
     "traceback": [
      "\u001b[0;31m---------------------------------------------------------------------------\u001b[0m",
      "\u001b[0;31mImportError\u001b[0m                               Traceback (most recent call last)",
      "Cell \u001b[0;32mIn[1], line 8\u001b[0m\n\u001b[1;32m      5\u001b[0m \u001b[38;5;28;01mfrom\u001b[39;00m \u001b[38;5;21;01mload_info\u001b[39;00m \u001b[38;5;28;01mimport\u001b[39;00m load_run_info \n\u001b[1;32m      7\u001b[0m \u001b[38;5;66;03m#scale time to Myr\u001b[39;00m\n\u001b[0;32m----> 8\u001b[0m \u001b[38;5;28;01mfrom\u001b[39;00m \u001b[38;5;21;01mparameters\u001b[39;00m \u001b[38;5;28;01mimport\u001b[39;00m Myr, r, Tm0, dr, rc\n",
      "\u001b[0;31mImportError\u001b[0m: cannot import name 'Tm0' from 'parameters' (/home/users/exet5460/Documents/Code/learning-model/Version4/parameters.py)"
     ]
    }
   ],
   "source": [
    "#import modules\n",
    "import matplotlib.pyplot as plt\n",
    "import numpy as np\n",
    "import pandas as pd\n",
    "from load_info import load_run_info \n",
    "\n",
    "#scale time to Myr\n",
    "from parameters import Myr, r, dr, rc"
   ]
  },
  {
   "cell_type": "markdown",
   "id": "c2ae5703",
   "metadata": {},
   "source": [
    "Choose your run and whether you want to save your figures"
   ]
  },
  {
   "cell_type": "code",
   "execution_count": null,
   "id": "64aaac18",
   "metadata": {},
   "outputs": [],
   "source": [
    "run=1\n",
    "conduction = False # does the mantle switch to conduction?\n",
    "save = False # do you want to save your figures?"
   ]
  },
  {
   "cell_type": "markdown",
   "id": "c19aac54",
   "metadata": {},
   "source": [
    "Import data from npz file"
   ]
  },
  {
   "cell_type": "code",
   "execution_count": null,
   "id": "d70bd69e",
   "metadata": {},
   "outputs": [],
   "source": [
    "npzfile = np.load('Results_combined/run_{}.npz'.format(run))\n",
    "Tc= npzfile['Tc'] \n",
    "Tc_conv = npzfile['Tc_conv']\n",
    "Tcmb = npzfile['Tcmb']\n",
    "Tm_mid = npzfile['Tm_mid']\n",
    "Tm_conv = npzfile['Tm_conv']\n",
    "Tm_surf = npzfile['Tm_surf'] \n",
    "T_profile = npzfile['T_profile']\n",
    "f = npzfile['f'] \n",
    "\n",
    "t = npzfile['t'] #time in s\n",
    "Rem1 = npzfile['Rem1'] # magnetic Reynolds number from compositional (Nimmo) and thermal convection (whatever is larger at each time step)\n",
    "Rem2 = npzfile['Rem2'] # magnetic Reynolds number from compositional (Nichols) and thermal convection (whatever is larger at each time step)\n",
    "Flux = npzfile['Flux']\n",
    "Ra = npzfile['Ra'] \n",
    "RaH = npzfile['RaH'] \n",
    "RanoH = npzfile['RanoH'] \n",
    "Racrit = npzfile['Racrit'] \n",
    "d0 = npzfile['d0'] \n",
    "min_unstable = npzfile['min_unstable'] \n",
    "Xs = npzfile['Xs']\n",
    "dl = npzfile['dl']\n",
    "dx = npzfile['dc']\n",
    "Fs = Flux[0]\n",
    "Fcmb = Flux[1]\n",
    "Fad = Flux[2]\n",
    "Frad = Flux[3]"
   ]
  },
  {
   "cell_type": "markdown",
   "id": "e882b0a2",
   "metadata": {},
   "source": [
    "Scale time to Myr"
   ]
  },
  {
   "cell_type": "code",
   "execution_count": null,
   "id": "5ab60364",
   "metadata": {},
   "outputs": [],
   "source": [
    "t_plot = t/Myr\n",
    "log_time = True # do you want to plot time logarithmically"
   ]
  },
  {
   "cell_type": "markdown",
   "id": "518e0742",
   "metadata": {},
   "source": [
    "Import label info - read in from correct row in csv. If using run_info3.csv need to remember there is an extra Tsolidus column"
   ]
  },
  {
   "cell_type": "code",
   "execution_count": null,
   "id": "2a4f9953",
   "metadata": {},
   "outputs": [],
   "source": [
    "r, dr, tstart, tend, tstep, tsolid, cond_t, dt, viscosity = load_run_info(2,'run_info.csv',conduction)"
   ]
  },
  {
   "cell_type": "markdown",
   "id": "c4b513fd",
   "metadata": {},
   "source": [
    "# Temperature profile"
   ]
  },
  {
   "cell_type": "code",
   "execution_count": null,
   "id": "265603aa",
   "metadata": {},
   "outputs": [],
   "source": [
    "rplot= np.arange(0,r,dr)\n",
    "r_unstable=np.array([]) \n",
    "for ind in min_unstable:\n",
    "    r_unstable = np.append(r_unstable,rplot[int(ind)])"
   ]
  },
  {
   "cell_type": "code",
   "execution_count": null,
   "id": "c1d33f9b",
   "metadata": {},
   "outputs": [],
   "source": [
    "plt.figure()\n",
    "plt.pcolormesh(t/Myr, rplot/1e3,np.transpose(T_profile),shading = 'nearest') # use same vmin and vmax as other plots to make them comparable\n",
    "plt.hlines(rc/1e3,min(t/Myr),max(t/Myr),linestyle='--',color='black',label='CMB')\n",
    "plt.plot(t/Myr,r_unstable/1e3,linestyle='dotted',label='Convecting core')\n",
    "if conduction == True:\n",
    "    plt.plot(t[:cond_i]/Myr,(r-d0[:cond_i])/1e3,linestyle='dashed',label='base of $\\delta_0$',color='blue')\n",
    "else:\n",
    "    plt.plot(t/Myr,(r-d0)/1e3,linestyle='dashed',label='base of $\\delta_0$',color='blue')\n",
    "plt.xscale('log')\n",
    "plt.ylabel('r /km')\n",
    "plt.xlabel('t / Myr')\n",
    "plt.ylim([0,r/1e3])\n",
    "#plt.xlim([0.5,0.7])\n",
    "plt.colorbar(label='T/K')\n",
    "plt.title(f'Run {run}')\n",
    "plt.legend(loc='lower left')\n",
    "if save == True:\n",
    "    plt.savefig(f'Plots/Tdiff_run{run}.png')\n",
    "#plt.savefig(f'Plots/Dodds_fig5_run{run}.png')"
   ]
  },
  {
   "cell_type": "markdown",
   "id": "6f7eb4ce",
   "metadata": {},
   "source": [
    "## Temperature and Flux Plot <a class=\"anchor\" id=\"temp\"></a>\n",
    "<p align=\"right\">(<a href=\"#top\">back to top</a>)</p>"
   ]
  },
  {
   "cell_type": "code",
   "execution_count": null,
   "id": "cf2ba5d7",
   "metadata": {
    "scrolled": false
   },
   "outputs": [],
   "source": [
    "plt.figure(tight_layout=True,figsize=[10,7])\n",
    "plt.suptitle(f'Thermal evolution of a {r/1e3:.0f}km asteroid \\n Tm0 = {Tm0}K,\\n run {run} viscosity {viscosity}')\n",
    "\n",
    "xmin=tstart\n",
    "\n",
    "#temperatures as function of time\n",
    "plt.subplot(2,1,1)\n",
    "if log_time == True:\n",
    "    plt.semilogx(t_plot,Tc,label='central T$_c$')\n",
    "    plt.semilogx(t_plot[Tc_conv!=0],Tc_conv[Tc_conv!=0],label='convective T$_c$')\n",
    "    plt.semilogx(t_plot,Tcmb,label='T$_{cmb}$')\n",
    "    plt.semilogx(t_plot,Tm_mid,label='T$_m$')\n",
    "    plt.semilogx(t_plot[Tm_conv!=0],Tm_conv[Tm_conv!=0],label='convective T$_m$')\n",
    "    #plt.semilogx(t_plot,Tm_surf,label='T$_m$ - surface')\n",
    "else:\n",
    "    plt.plot(t_plot,Tc,label='central T$_c$')\n",
    "    plt.plot(t_plot[Tc_conv!=0],Tc_conv[Tc_conv!=0],label='convective T$_c$')\n",
    "    plt.plot(t_plot,Tcmb,label='T$_{cmb}$')\n",
    "    plt.plot(t_plot,Tm_mid,label='T$_m$')\n",
    "    plt.plot(t_plot[Tm_conv!=0],Tm_conv[Tm_conv!=0],label='convective T$_m$')\n",
    "    #plt.plot(t_plot,Tm_surf,label='T$_m$ - surface')\n",
    "if conduction == True:\n",
    "    plt.vlines(cond_t,ymin=min(Tm_surf),ymax=1600,color='black',linestyle='--',label='conduction')\n",
    "plt.xlim(right=50)\n",
    "plt.ylim([1460,1650]) #use these limits when comparing runs\n",
    "plt.ylabel('T/K')\n",
    "plt.legend(loc='lower left', ncol= 2)\n",
    "\n",
    "#fluxes as function of time\n",
    "plt.subplot(2,1,2)\n",
    "\n",
    "Fcmb_neg = Fcmb[Fcmb<0]\n",
    "Fcmb_pos = Fcmb[Fcmb>0]\n",
    "if log_time == True:\n",
    "    plt.loglog(t_plot,Fs,label='$F_s$')\n",
    "    plt.loglog(t_plot[Fcmb<0],abs(Fcmb_neg),label='$-F_{CMB}$',linestyle='dashed',color='purple')\n",
    "    plt.loglog(t_plot[Fcmb>0],Fcmb_pos,label='$F_{CMB}$',color='purple')\n",
    "    plt.loglog(t_plot,Fad,label='$F_{ad}$')\n",
    "    plt.loglog(t_plot,Frad,label='$F_{rad}$')\n",
    "else:\n",
    "    plt.semilogy(t_plot,Fs,label='$F_s$')\n",
    "    plt.semilogy(t_plot[Fcmb<0],abs(Fcmb_neg),label='$-F_{CMB}$',linestyle='dashed',color='purple')\n",
    "    plt.semilogy(t_plot[Fcmb>0],Fcmb_pos,label='$F_{CMB}$',color='purple')\n",
    "    plt.semilogy(t_plot,Fad,label='$F_{ad}$')\n",
    "    plt.semilogy(t_plot,Frad,label='$F_{rad}$')\n",
    "plt.xlabel('Time/ Myr')\n",
    "\n",
    "plt.ylim([1e-4,1e2])   #use these limits when comparing runs\n",
    "plt.xlim(right=50)\n",
    "plt.ylabel('Flux/ W$m^{-2}$')\n",
    "plt.legend(loc='upper right',ncol=2)\n",
    "\n",
    "\n",
    "if save == True:\n",
    "    plt.savefig('Plots/run_{}_Tflux.png'.format(run),dpi=450)\n"
   ]
  },
  {
   "cell_type": "markdown",
   "id": "c0d8139f",
   "metadata": {},
   "source": [
    "### Comments\n",
    "There is a jump in $F_S$ and $F_{CMB}$ when mantle convection stops. I think $F_S$ increases because the length scale of the temperature drop is smaller (goes from $\\delta_0$ to dr)? Not sure why there is a weird spike in Tm_surf - seems like it jumps to interior temp for a moment, but there is no change in $\\delta_0$ at that point"
   ]
  },
  {
   "cell_type": "markdown",
   "id": "92a7ad72",
   "metadata": {},
   "source": [
    "## Core central temperature <a class=\"anchor\" id=\"Tc\"></a>\n",
    "<p align=\"right\">(<a href=\"#top\">back to top</a>)</p>"
   ]
  },
  {
   "cell_type": "code",
   "execution_count": null,
   "id": "7931a853",
   "metadata": {},
   "outputs": [],
   "source": [
    "plt.figure()\n",
    "plt.plot(t_plot,Tc)\n",
    "#plt.xlim([5.9,6])\n",
    "plt.xlabel('Time/Myr')\n",
    "plt.ylabel('T/K')\n",
    "#plt.savefig('Plots/Tc_fe8e7.png')"
   ]
  },
  {
   "cell_type": "markdown",
   "id": "ce73acdf",
   "metadata": {},
   "source": [
    "## Magnetic Reynolds number and inner core size <a class=\"anchor\" id=\"ic\"></a>\n",
    "<p align=\"right\">(<a href=\"#top\">back to top</a>)</p>"
   ]
  },
  {
   "cell_type": "code",
   "execution_count": null,
   "id": "73379aef",
   "metadata": {},
   "outputs": [],
   "source": [
    "plt.figure(tight_layout=True)\n",
    "plt.suptitle(f'Thermal evolution of a {r/1e3:.0f}km asteroid \\n Tm0 = {Tm0}K, \\n run {run}  {viscosity}')\n",
    "plt.subplot(2,1,1)\n",
    "plt.loglog(t_plot,Rem1,label='Nimmo')\n",
    "plt.loglog(t_plot,Rem2,label='Nichols')\n",
    "plt.hlines(10,xmin=0,xmax=t_plot[len(Rem1)-1],color='k',linestyle='--')\n",
    "#plt.xlabel('Time/Myr')\n",
    "plt.ylabel('Rem')\n",
    "plt.legend(loc='upper left')\n",
    "plt.ylim([1,100])\n",
    "\n",
    "plt.subplot(2,1,2)\n",
    "plt.semilogx(t_plot,f,label='f')\n",
    "plt.xlabel('Time/ Myr')\n",
    "plt.ylabel('f')\n",
    "\n",
    "if save == True:\n",
    "    plt.savefig('Plots/run_{}_Remf.png'.format(run),dpi=450)"
   ]
  },
  {
   "cell_type": "markdown",
   "id": "85a33a32",
   "metadata": {},
   "source": [
    "## Rayleigh number<a class=\"anchor\" id=\"rayleigh\"></a>\n",
    "<p align=\"right\">(<a href=\"#top\">back to top</a>)</p>"
   ]
  },
  {
   "cell_type": "code",
   "execution_count": null,
   "id": "6cf11e7c",
   "metadata": {},
   "outputs": [],
   "source": [
    "plt.figure()\n",
    "if conduction == True:\n",
    "    plt.semilogy(t_plot[:cond_i],Ra[:cond_i])\n",
    "    plt.semilogy(t_plot[:cond_i],Racrit[:cond_i],color='k',linestyle='--',label='Critical Rayleigh number')\n",
    "else:\n",
    "    plt.semilogy(t_plot,Ra)\n",
    "    plt.semilogy(t_plot,Racrit,color='k',linestyle='--',label='Critical Rayleigh number')\n",
    "plt.xlabel('Time/Myr')\n",
    "plt.ylabel('Rayleigh number')\n",
    "plt.legend()\n",
    "#plt.ylim([6e6,1e7])\n",
    "\n",
    "if save == True:\n",
    "    plt.savefig('Plots/run_{}_Rayleigh.png'.format(run))"
   ]
  },
  {
   "cell_type": "markdown",
   "id": "c1b4fb7e",
   "metadata": {},
   "source": [
    "Compare the Rayleigh number output by the simulation with the non-radiogenic Ra"
   ]
  },
  {
   "cell_type": "code",
   "execution_count": null,
   "id": "f8eabdaa",
   "metadata": {},
   "outputs": [],
   "source": [
    "#save = True"
   ]
  },
  {
   "cell_type": "code",
   "execution_count": null,
   "id": "953a5999",
   "metadata": {
    "scrolled": false
   },
   "outputs": [],
   "source": [
    "plt.figure()\n",
    "if conduction == True:\n",
    "    \n",
    "    plt.semilogy(t_plot[:cond_i],RaH[:cond_i],label='Radiogenic Ra')\n",
    "    plt.semilogy(t_plot[:cond_i],RanoH[:cond_i],color='green',label='Non Radiogenic Ra')\n",
    "    plt.semilogy(t_plot[:cond_i],Racrit[:cond_i],color='k',linestyle='--',label='Critical Rayleigh number')\n",
    "    plt.semilogy(t_plot[:cond_i],Ra[:cond_i],linestyle='--',color='blue',label='Model Ra')\n",
    "else:\n",
    "    plt.semilogy(t_plot,RaH,label='Radiogenic Ra')\n",
    "    plt.semilogy(t_plot,RanoH,color='green',label='Non Radiogenic Ra')\n",
    "    plt.semilogy(t_plot,Racrit,color='k',linestyle='--',label='Critical Rayleigh number')\n",
    "    plt.semilogy(t_plot,Ra,linestyle='--',color='blue',label='Model Ra')\n",
    "plt.xlabel('Time/Myr')\n",
    "plt.ylabel('Rayleigh number')\n",
    "plt.legend()\n",
    "#plt.ylim([1e4,1e25])\n",
    "#plt.xlim([0,40])\n",
    "if save == True:\n",
    "    plt.savefig('Plots/run_{}_Rayleigh.png'.format(run))"
   ]
  },
  {
   "cell_type": "markdown",
   "id": "b6c62771",
   "metadata": {},
   "source": [
    "### Comments\n",
    "Convection stops much earlier now $Ra_c$ is higher (9.4Myr compared to 30Myr)."
   ]
  },
  {
   "cell_type": "markdown",
   "id": "7f08f027",
   "metadata": {},
   "source": [
    "## Stagnant lid thickness <a class=\"anchor\" id=\"stagnant\"></a>\n",
    "<p align=\"right\">(<a href=\"#top\">back to top</a>)</p>"
   ]
  },
  {
   "cell_type": "code",
   "execution_count": null,
   "id": "79284a23",
   "metadata": {
    "scrolled": false
   },
   "outputs": [],
   "source": [
    "plt.figure()\n",
    "\n",
    "if conduction == True:\n",
    "    plt.plot(t_plot[:cond_i],2*d0[:cond_i]/r)\n",
    "    plt.hlines(1,min(t_plot),max(t_plot[:cond_i]),color='k',linestyle='--')\n",
    "    #plt.xlim([xmin,t_plot[cond_i]])\n",
    "    \n",
    "else:\n",
    "    plt.plot(t_plot,2*d0/r)\n",
    "    plt.hlines(1,min(t_plot),max(t_plot),color='k',linestyle='--')\n",
    "\n",
    "plt.xlabel('Time/Myr')\n",
    "plt.ylabel('Stagnant Lid thickness/ mantle thickness')\n",
    "\n",
    "if save == True:\n",
    "    plt.savefig('Plots/run_{}_lid_thickness.png'.format(run))"
   ]
  },
  {
   "cell_type": "markdown",
   "id": "3e7d5cc2",
   "metadata": {},
   "source": [
    "## CMB mantle boundary layer thickness<a class=\"anchor\" id=\"cmb-bl\"></a>\n",
    "<p align=\"right\">(<a href=\"#top\">back to top</a>)</p>"
   ]
  },
  {
   "cell_type": "code",
   "execution_count": null,
   "id": "5171fdd4",
   "metadata": {},
   "outputs": [],
   "source": [
    "plt.figure()\n",
    "\n",
    "if conduction == True:\n",
    "    plt.plot(t_plot[:cond_i],2*dl[:cond_i]/dr)\n",
    "    #plt.hlines(1,min(t_plot),max(t_plot[:cond_i]),color='k',linestyle='--')\n",
    "    plt.xlim([xmin,t_plot[cond_i]])\n",
    "else:\n",
    "    plt.semilogy(t_plot,2*dl/dr)\n",
    "plt.xlabel('Time/Myr')\n",
    "plt.ylabel('CMB boundary layer thickness/ cell thickness')\n",
    "if save == True:\n",
    "    plt.savefig('Plots/run_{}_cmb_thickness.png'.format(run))\n"
   ]
  },
  {
   "cell_type": "markdown",
   "id": "c32e3fb7",
   "metadata": {},
   "source": [
    "## Sulfur fraction in liquid part of core <a class=\"anchor\" id=\"sulfur\"></a>\n",
    "<p align=\"right\">(<a href=\"#top\">back to top</a>)</p>"
   ]
  },
  {
   "cell_type": "code",
   "execution_count": null,
   "id": "97e50ee0",
   "metadata": {},
   "outputs": [],
   "source": [
    "plt.figure()\n",
    "#plt.loglog(t_plot,Xs)\n",
    "plt.scatter(t_plot,Xs)\n",
    "#plt.xlim([297.5,299.5])\n",
    "#plt.xlim([xmin,max(t_plot)])\n",
    "plt.xlabel('Time/Myr')\n",
    "plt.ylabel('Liquid core sulfur content/ wt%')\n",
    "\n",
    "if save == True:\n",
    "    plt.savefig('Plots/run_{}_sulfur.png'.format(run))"
   ]
  },
  {
   "cell_type": "markdown",
   "id": "d22a90f1",
   "metadata": {},
   "source": [
    "## Initial temperature profiles <a class=\"anchor\" id=\"Tprofile-initial\"></a>\n",
    "<p align=\"right\">(<a href=\"#top\">back to top</a>)</p>\n",
    "I don't think the legend here is quite right."
   ]
  },
  {
   "cell_type": "code",
   "execution_count": null,
   "id": "7664f464",
   "metadata": {},
   "outputs": [],
   "source": [
    "plt.figure()\n",
    "for i in range(1):\n",
    "    plt.plot(rplot/1e3, T_profile[i,:],label=f'{(1+i*dt)/Myr:.1e} Myr') #approximate temp profile times\n",
    "plt.xlabel('Distance from centre of asteroid /km')\n",
    "plt.ylabel('Temperature / K')\n",
    "plt.title('{:.0f}km asteroid \\n Tm0 = {}K, run {}'.format(r/1e3, Tm0, run))\n",
    "plt.legend()\n",
    "if save == True:\n",
    "    plt.savefig('Plots/run_{}_initial_temp.png'.format(run))"
   ]
  },
  {
   "cell_type": "markdown",
   "id": "fcecebf1",
   "metadata": {},
   "source": [
    "## Temperature profiles across whole simulation <a class=\"anchor\" id=\"Tprofile-time\"></a>\n",
    "<p align=\"right\">(<a href=\"#top\">back to top</a>)</p>"
   ]
  },
  {
   "cell_type": "code",
   "execution_count": null,
   "id": "30eec425",
   "metadata": {},
   "outputs": [],
   "source": [
    "from parameters import out_interval\n",
    "out_interval = out_interval/Myr"
   ]
  },
  {
   "cell_type": "code",
   "execution_count": null,
   "id": "0b0d0134",
   "metadata": {},
   "outputs": [],
   "source": [
    "plt.figure()\n",
    "rplot= np.arange(0,r,dr)\n",
    "n = np.shape(T_profile)[0]\n",
    "n_plot = 10 #how many plots do you want\n",
    "for i in range(n_plot):\n",
    "#for i in range(15):\n",
    "    plt.scatter(rplot/1e3, T_profile[i*int(n/n_plot),:],label='{:.0f} Myr'.format(i*int(n/n_plot)*out_interval)) #approximate temp profile times\n",
    "plt.xlabel('Distance from centre of asteroid /km')\n",
    "plt.ylabel('Temperature / K')\n",
    "plt.title(f'{r/1e3:.0f}km asteroid \\n Tm0 = {Tm0}K, run {run} {viscosity}')\n",
    "plt.legend(ncol=2,loc='lower left')\n",
    "#plt.vlines(2,ymin=1590,ymax=1625,linestyle='--',color='black')\n",
    "#plt.xlim([0,210])\n",
    "#plt.xlim([0,25])\n",
    "#plt.ylim([1595,1615])\n",
    "if save == True:\n",
    "    plt.savefig('Plots/run{}_Tprofile.png'.format(run))"
   ]
  },
  {
   "cell_type": "code",
   "execution_count": null,
   "id": "d76efab3",
   "metadata": {},
   "outputs": [],
   "source": []
  }
 ],
 "metadata": {
  "kernelspec": {
   "display_name": "Python 3 (ipykernel)",
   "language": "python",
   "name": "python3"
  },
  "language_info": {
   "codemirror_mode": {
    "name": "ipython",
    "version": 3
   },
   "file_extension": ".py",
   "mimetype": "text/x-python",
   "name": "python",
   "nbconvert_exporter": "python",
   "pygments_lexer": "ipython3",
   "version": "3.9.16"
  }
 },
 "nbformat": 4,
 "nbformat_minor": 5
}
